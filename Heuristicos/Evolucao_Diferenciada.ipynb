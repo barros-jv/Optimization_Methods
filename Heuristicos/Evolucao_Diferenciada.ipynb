{
 "cells": [
  {
   "cell_type": "markdown",
   "id": "7de23cfe-94b3-4c6a-9d2c-85cbdd4dd373",
   "metadata": {},
   "source": [
    "## Métodos de Otimização: Métodos Heuristicos"
   ]
  },
  {
   "cell_type": "markdown",
   "id": "3422ef2f-42c6-4265-989f-b8874fe9e0ce",
   "metadata": {},
   "source": [
    "### Evolução Diferenciada"
   ]
  },
  {
   "cell_type": "code",
   "execution_count": null,
   "id": "a8abc0c6-639c-4d43-8eaa-bcf03cce4261",
   "metadata": {},
   "outputs": [],
   "source": []
  }
 ],
 "metadata": {
  "kernelspec": {
   "display_name": "Python 3 (ipykernel)",
   "language": "python",
   "name": "python3"
  },
  "language_info": {
   "codemirror_mode": {
    "name": "ipython",
    "version": 3
   },
   "file_extension": ".py",
   "mimetype": "text/x-python",
   "name": "python",
   "nbconvert_exporter": "python",
   "pygments_lexer": "ipython3",
   "version": "3.9.12"
  }
 },
 "nbformat": 4,
 "nbformat_minor": 5
}
