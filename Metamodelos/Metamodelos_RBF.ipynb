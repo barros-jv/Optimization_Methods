{
 "cells": [
  {
   "cell_type": "markdown",
   "id": "f5756aa2-c07a-4dae-9af7-703d55183ac1",
   "metadata": {},
   "source": [
    "## Metamodelos: Superfícies de Resposta"
   ]
  },
  {
   "cell_type": "markdown",
   "id": "55f6a08f-13a4-416c-a072-4f9cc22939a9",
   "metadata": {},
   "source": [
    "### Funções de Base Radial (RBF)"
   ]
  },
  {
   "cell_type": "code",
   "execution_count": 1,
   "id": "104f0913-13e7-42a0-a869-9851aad3acd8",
   "metadata": {
    "tags": []
   },
   "outputs": [],
   "source": [
    "import numpy as np\n",
    "import matplotlib.pyplot as plt"
   ]
  },
  {
   "cell_type": "code",
   "execution_count": 2,
   "id": "5541f1b3-0370-47d2-9327-03e416812719",
   "metadata": {},
   "outputs": [],
   "source": [
    "# Fator de forma\n",
    "c = 1.e-15\n",
    "\n",
    "Qtp = 6 # Quantidade de pontos p/ treinamento\n",
    "x =np.zeros(Qtp , dtype = 'float')\n",
    "U =np.zeros(Qtp , dtype = 'float')\n",
    "#Pontos de treinamento\n",
    "x[0]=1; U[0]=0\n",
    "x[1]=2.999; U[1]=0\n",
    "x[2]=3; U[2]=1\n",
    "x[3]=4; U[3]=1\n",
    "x[4]=4.001; U[4]=0\n",
    "x[5]=6; U[5]=0"
   ]
  },
  {
   "cell_type": "code",
   "execution_count": 3,
   "id": "77336b38-371b-4d55-b1ef-b80e0d1480ac",
   "metadata": {},
   "outputs": [
    {
     "data": {
      "image/png": "[encoded data removed]",
      "text/plain": [
       "<Figure size 432x288 with 1 Axes>"
      ]
     },
     "metadata": {
      "needs_background": "light"
     },
     "output_type": "display_data"
    }
   ],
   "source": [
    "plt.figure(figsize=(6,4))\n",
    "plt.plot(x,U,'ok')\n",
    "plt.grid()\n",
    "plt.show()"
   ]
  },
  {
   "cell_type": "code",
   "execution_count": 4,
   "id": "0e23a863-33b1-4ed8-b7e0-d089c6df2eed",
   "metadata": {},
   "outputs": [],
   "source": [
    "psi =np.zeros((Qtp,Qtp) , dtype = 'float')\n",
    "for j in range(0,Qtp):\n",
    "    for i in range(0,Qtp):\n",
    "        psi[i,j] = np.sqrt((x[i]-x[j])**2+c**2)\n",
    "\n",
    "#psi_inv = np.linalg.inv(psi)\n",
    "#phi = psi_inv@U\n",
    "phi = np.linalg.solve(psi,U)"
   ]
  },
  {
   "cell_type": "code",
   "execution_count": 5,
   "id": "37bd33ba-85fa-44e7-a7c3-c2045360926c",
   "metadata": {},
   "outputs": [
    {
     "data": {
      "image/png": "[encoded data removed]",
      "text/plain": [
       "<Figure size 432x288 with 1 Axes>"
      ]
     },
     "metadata": {
      "needs_background": "light"
     },
     "output_type": "display_data"
    }
   ],
   "source": [
    "Qtp_aval = 1000\n",
    "x_aval = np.linspace(1.1,5.9,Qtp_aval)\n",
    "U_aval = np.zeros(Qtp_aval , dtype = 'float')\n",
    "\n",
    "for i in range(0,Qtp_aval):\n",
    "    for j in range(0,Qtp):\n",
    "        U_aval[i] = U_aval[i]+phi[j]*np.sqrt((x_aval[i]-x[j])**2+c**2)\n",
    "\n",
    "plt.figure(figsize=(6,4))\n",
    "plt.plot(x,U,'ok')\n",
    "plt.plot(x_aval,U_aval,'-r')\n",
    "plt.grid()\n",
    "plt.show()"
   ]
  },
  {
   "cell_type": "code",
   "execution_count": null,
   "id": "a7f6b3a7-9377-4436-8f86-fae6cbc207b9",
   "metadata": {},
   "outputs": [],
   "source": []
  }
 ],
 "metadata": {
  "kernelspec": {
   "display_name": "Python 3 (ipykernel)",
   "language": "python",
   "name": "python3"
  },
  "language_info": {
   "codemirror_mode": {
    "name": "ipython",
    "version": 3
   },
   "file_extension": ".py",
   "mimetype": "text/x-python",
   "name": "python",
   "nbconvert_exporter": "python",
   "pygments_lexer": "ipython3",
   "version": "3.9.12"
  }
 },
 "nbformat": 4,
 "nbformat_minor": 5
}
