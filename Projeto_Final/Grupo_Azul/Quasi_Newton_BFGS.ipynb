{
 "cells": [
  {
   "cell_type": "markdown",
   "id": "8403e809-f92f-41e0-8ed7-ec663d65d72b",
   "metadata": {},
   "source": [
    "## Métodos de Otimização: Métodos de procura multidimensional"
   ]
  },
  {
   "cell_type": "markdown",
   "id": "038789ac-746b-45eb-9654-dd669498ccc7",
   "metadata": {},
   "source": [
    "### Método de Quasi-Newton (BFGS) - Diferenças finitas"
   ]
  },
  {
   "cell_type": "markdown",
   "id": "4bc37bea-31e2-4b96-aef0-cdffb9de0890",
   "metadata": {},
   "source": [
    "__Imports:__"
   ]
  },
  {
   "cell_type": "code",
   "execution_count": 1,
   "id": "e1786854-3924-4bb0-9b22-08e91bbccb91",
   "metadata": {
    "execution": {
     "iopub.execute_input": "2022-10-01T17:45:38.554632Z",
     "iopub.status.busy": "2022-10-01T17:45:38.554632Z",
     "iopub.status.idle": "2022-10-01T17:45:39.282270Z",
     "shell.execute_reply": "2022-10-01T17:45:39.282270Z",
     "shell.execute_reply.started": "2022-10-01T17:45:38.554632Z"
    }
   },
   "outputs": [],
   "source": [
    "import numpy as np\n",
    "import matplotlib.pyplot as plt\n",
    "import sys, os\n",
    "import time\n",
    "name = 'Quasi-Newton (BFGS)' \n",
    "Start = time.time()"
   ]
  },
  {
   "cell_type": "markdown",
   "id": "85cb8ed1-c4aa-47ac-8f87-50e6e8559117",
   "metadata": {},
   "source": [
    "__Função Avaliada:__"
   ]
  },
  {
   "cell_type": "code",
   "execution_count": 2,
   "id": "3599d712-192d-4c34-b504-263764080f61",
   "metadata": {
    "execution": {
     "iopub.execute_input": "2022-10-01T17:45:39.283271Z",
     "iopub.status.busy": "2022-10-01T17:45:39.283271Z",
     "iopub.status.idle": "2022-10-01T17:45:39.313590Z",
     "shell.execute_reply": "2022-10-01T17:45:39.313590Z",
     "shell.execute_reply.started": "2022-10-01T17:45:39.283271Z"
    }
   },
   "outputs": [],
   "source": [
    "def f(x,nFunc,nVar,countFunc):\n",
    "    f = open(\"var.dat\", \"w\")\n",
    "    f.write(str(nFunc)+\"\\n\")\n",
    "    f.write(str(nVar)+\"\\n\")\n",
    "    for i in range(0, len(x)):\n",
    "        f.write(str(x[i])+'\\n')\n",
    "    f.close()\n",
    "    \n",
    "    result = os.system(\"funcao.exe\")\n",
    "    \n",
    "    f = open(\"obj.dat\", \"r\")\n",
    "    u = float(f.read())\n",
    "    f.close()\n",
    "    countFunc += 1\n",
    "    return u,countFunc"
   ]
  },
  {
   "cell_type": "markdown",
   "id": "eb3cf26f-f05f-4ce3-8c89-dc36712e48de",
   "metadata": {},
   "source": [
    "__Método:__"
   ]
  },
  {
   "cell_type": "code",
   "execution_count": 3,
   "id": "eefddf56-da51-4bde-bc9a-2d5939a1b7d7",
   "metadata": {
    "execution": {
     "iopub.execute_input": "2022-10-01T17:45:39.314560Z",
     "iopub.status.busy": "2022-10-01T17:45:39.314560Z",
     "iopub.status.idle": "2022-10-01T17:45:39.329602Z",
     "shell.execute_reply": "2022-10-01T17:45:39.329602Z",
     "shell.execute_reply.started": "2022-10-01T17:45:39.314560Z"
    }
   },
   "outputs": [],
   "source": [
    "def grad(x,countFunc):\n",
    "    epsilon = 1.e-10\n",
    "    nFunc = 34; Qvar = 12\n",
    "    \n",
    "    for i in range(0,len(x)):\n",
    "        xtmp=x.copy()\n",
    "        xtmp[i]=xtmp[i]+epsilon\n",
    "        F_xtmp, countFunc = f(xtmp,nFunc,Qvar,countFunc)\n",
    "        F_x, countFunc = f(x,nFunc,Qvar,countFunc)\n",
    "        G[i]=(F_xtmp-F_x)/epsilon\n",
    "    \n",
    "    return G,countFunc"
   ]
  },
  {
   "cell_type": "code",
   "execution_count": 4,
   "id": "8243f24e-f8a6-421b-afba-9fce08b62faa",
   "metadata": {
    "execution": {
     "iopub.execute_input": "2022-10-01T17:45:39.330580Z",
     "iopub.status.busy": "2022-10-01T17:45:39.330580Z",
     "iopub.status.idle": "2022-10-01T17:45:40.207116Z",
     "shell.execute_reply": "2022-10-01T17:45:40.207116Z",
     "shell.execute_reply.started": "2022-10-01T17:45:39.330580Z"
    },
    "tags": []
   },
   "outputs": [
    {
     "name": "stdout",
     "output_type": "stream",
     "text": [
      "-36.00000 -45.00000 -50.00000 -55.00000 -59.00000 -62.00000 -65.00000 -68.00000 -70.00000 -73.00000 -75.00000 -77.00000 3.70848\n",
      "-36.10000 -45.02107 -50.26487 -55.05997 -59.00998 -62.11136 -65.07066 -68.00072 -70.19483 -73.00000 -75.00000 -77.00000 2.76649\n"
     ]
    }
   ],
   "source": [
    "nFunc = 34; Qvar = 12; countFunc = 0\n",
    "\n",
    "Hinv=np.zeros((Qvar,Qvar), dtype='float')\n",
    "G=np.zeros(Qvar, dtype='float')\n",
    "Gold=np.zeros(Qvar, dtype='float')\n",
    "xnew=np.zeros(Qvar, dtype='float')\n",
    "xold=np.zeros(Qvar, dtype='float')\n",
    "layout = \"{0:.5f}\"\n",
    "tol = -1e-10\n",
    "fHist = []\n",
    "\n",
    "#chute incial:\n",
    "xold[0] = -36\n",
    "xold[1] = -45\n",
    "xold[2] = -50\n",
    "xold[3] = -55\n",
    "xold[4] = -59\n",
    "xold[5] = -62\n",
    "xold[6] = -65\n",
    "xold[7] = -68\n",
    "xold[8] = -70\n",
    "xold[9] = -73\n",
    "xold[10] = -75\n",
    "xold[11] = -77\n",
    "\n",
    "alpha=0.1; kmax=50; k=0\n",
    "F0,countFunc = f(xold,nFunc,Qvar,countFunc)\n",
    "\n",
    "for i in range(0, Qvar):\n",
    "    print(layout.format(xold[i]), end =\" \")\n",
    "print(layout.format(F0))\n",
    "    \n",
    "# Primeira iteração k=0\n",
    "\n",
    "# Calculo Gradiente\n",
    "G,countFunc = grad(xold,countFunc)\n",
    "\n",
    "# Aproximação da inversa do Hessiano (Newton)\n",
    "for i in range(0, Qvar):\n",
    "    Hinv[i,i]=1.\n",
    "\n",
    "#Calculo da direção\n",
    "d = -np.matmul(Hinv,G)\n",
    "\n",
    "# Processo iterativo\n",
    "xnew=xold+alpha*d\n",
    "\n",
    "#Atualiza xold\n",
    "xold = xnew.copy()\n",
    "\n",
    "#Calculo da função\n",
    "F,countFunc = f(xnew,nFunc,Qvar,countFunc)\n",
    "for i in range(0, Qvar):\n",
    "    print(layout.format(xnew[i]), end =\" \")\n",
    "print(layout.format(F))\n",
    "fHist.append(F)\n",
    "\n",
    "while k < kmax:\n",
    "    k += 1\n",
    "    \n",
    "    Gold = G.copy()\n",
    "    # Calculo Gradiente\n",
    "    G,countFunc = grad(xold,countFunc)\n",
    "\n",
    "    #Calculo de Y\n",
    "    Y = G-Gold\n",
    "\n",
    "    #Calculo matriz M\n",
    "    M = (1.+np.dot(Y,np.matmul(Hinv,Y))/np.dot(Y,d))*np.outer(d,d)/np.dot(d,Y)\n",
    "\n",
    "    #Calculo matriz N\n",
    "    N = -(np.matmul(np.outer(d,Y),Hinv)+np.outer(np.matmul(Hinv,Y),d))/np.dot(Y,d)\n",
    "\n",
    "    # Aproximação da inversa do Hessiano\n",
    "    Hinv = Hinv+M+N\n",
    "\n",
    "    #Calculo da direção\n",
    "    d = -np.matmul(Hinv,G)\n",
    "\n",
    "    # Processo iterativo\n",
    "    xnew=xold+alpha*d\n",
    "    \n",
    "    if max(d) == 0:\n",
    "        break\n",
    "\n",
    "    #Atualiza xold\n",
    "    xold = xnew.copy()\n",
    "\n",
    "    F,countFunc = f(xnew,nFunc,Qvar,countFunc)\n",
    "    for i in range(0, Qvar):\n",
    "        print(layout.format(xnew[i]), end =\" \")\n",
    "    print(layout.format(F))\n",
    "    fHist.append(F)"
   ]
  },
  {
   "cell_type": "code",
   "execution_count": 5,
   "id": "48de95e0-6c59-4d54-9f5a-9fd1c251e52e",
   "metadata": {
    "execution": {
     "iopub.execute_input": "2022-10-01T17:45:40.208115Z",
     "iopub.status.busy": "2022-10-01T17:45:40.208115Z",
     "iopub.status.idle": "2022-10-01T17:45:40.487782Z",
     "shell.execute_reply": "2022-10-01T17:45:40.487246Z",
     "shell.execute_reply.started": "2022-10-01T17:45:40.208115Z"
    }
   },
   "outputs": [
    {
     "data": {
      "image/png": "[encoded data removed]",
      "text/plain": [
       "<Figure size 576x576 with 1 Axes>"
      ]
     },
     "metadata": {
      "needs_background": "light"
     },
     "output_type": "display_data"
    }
   ],
   "source": [
    "font = {\n",
    "        'size': 16,\n",
    "        }\n",
    "\n",
    "plt.figure(figsize=(8,8))\n",
    "plt.plot(np.arange(0,k),fHist)\n",
    "plt.grid()\n",
    "plt.title(f'Convergência {name}', fontdict=font)\n",
    "plt.ylabel(r'Valor da função f($\\vec{x}$)', fontdict=font)\n",
    "plt.xlabel(\"Número de iterações (k)\", fontdict=font)\n",
    "plt.show()"
   ]
  },
  {
   "cell_type": "code",
   "execution_count": 6,
   "id": "d31eea45-507e-4752-a87b-eef1db58c23f",
   "metadata": {
    "execution": {
     "iopub.execute_input": "2022-10-01T17:45:40.487782Z",
     "iopub.status.busy": "2022-10-01T17:45:40.487782Z",
     "iopub.status.idle": "2022-10-01T17:45:40.502772Z",
     "shell.execute_reply": "2022-10-01T17:45:40.502772Z",
     "shell.execute_reply.started": "2022-10-01T17:45:40.487782Z"
    }
   },
   "outputs": [
    {
     "name": "stdout",
     "output_type": "stream",
     "text": [
      "Quantidade de chamadas da função obj =  50\n",
      "Tempo de Execução = 1.215660572052002 s\n"
     ]
    }
   ],
   "source": [
    "print(\"Quantidade de chamadas da função obj = \", countFunc)\n",
    "End = time.time()\n",
    "print(\"Tempo de Execução =\", End-Start, \"s\")\t"
   ]
  },
  {
   "cell_type": "code",
   "execution_count": null,
   "id": "2f859d19-cd91-47ff-980f-1830ae27bb1b",
   "metadata": {},
   "outputs": [],
   "source": []
  },
  {
   "cell_type": "code",
   "execution_count": null,
   "id": "68d8a37a-20f6-45c1-ae10-d70e9ce85dd7",
   "metadata": {},
   "outputs": [],
   "source": []
  }
 ],
 "metadata": {
  "kernelspec": {
   "display_name": "Python 3 (ipykernel)",
   "language": "python",
   "name": "python3"
  },
  "language_info": {
   "codemirror_mode": {
    "name": "ipython",
    "version": 3
   },
   "file_extension": ".py",
   "mimetype": "text/x-python",
   "name": "python",
   "nbconvert_exporter": "python",
   "pygments_lexer": "ipython3",
   "version": "3.9.12"
  },
  "vscode": {
   "interpreter": {
    "hash": "f3f3c8e2c70d172923cdd26a18ca64af4bb2e4459cce796237545f1b235e951c"
   }
  }
 },
 "nbformat": 4,
 "nbformat_minor": 5
}
