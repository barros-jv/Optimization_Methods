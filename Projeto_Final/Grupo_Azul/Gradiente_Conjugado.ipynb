{
 "cells": [
  {
   "cell_type": "markdown",
   "id": "cec9b56a-41d5-46e2-86d4-8d4094958453",
   "metadata": {},
   "source": [
    "## Métodos de Otimização: Métodos de procura multidimensional"
   ]
  },
  {
   "cell_type": "markdown",
   "id": "ed985c74-6f63-4cfd-b380-79db49c26104",
   "metadata": {},
   "source": [
    "### Gradiente Conjugado- Diferenças finitas"
   ]
  },
  {
   "cell_type": "markdown",
   "id": "4e72dcc9-a38d-433c-bfaa-13b2c68b0a99",
   "metadata": {},
   "source": [
    "__Imports:__"
   ]
  },
  {
   "cell_type": "code",
   "execution_count": 1,
   "id": "e654b462-146c-48fb-97b0-7c14086be29c",
   "metadata": {
    "execution": {
     "iopub.execute_input": "2022-10-01T17:54:00.256041Z",
     "iopub.status.busy": "2022-10-01T17:54:00.254045Z",
     "iopub.status.idle": "2022-10-01T17:54:00.962773Z",
     "shell.execute_reply": "2022-10-01T17:54:00.962773Z",
     "shell.execute_reply.started": "2022-10-01T17:54:00.255044Z"
    }
   },
   "outputs": [],
   "source": [
    "import numpy as np\n",
    "import matplotlib.pyplot as plt\n",
    "import sys, os\n",
    "import time\n",
    "name = 'Gradiente Conjugado' \n",
    "Start = time.time()"
   ]
  },
  {
   "cell_type": "markdown",
   "id": "06e16741-45f3-481c-87a5-3c3af2127d41",
   "metadata": {},
   "source": [
    "__Função Avaliada:__"
   ]
  },
  {
   "cell_type": "code",
   "execution_count": 2,
   "id": "3599d712-192d-4c34-b504-263764080f61",
   "metadata": {
    "execution": {
     "iopub.execute_input": "2022-10-01T17:54:00.963775Z",
     "iopub.status.busy": "2022-10-01T17:54:00.963775Z",
     "iopub.status.idle": "2022-10-01T17:54:00.994757Z",
     "shell.execute_reply": "2022-10-01T17:54:00.994757Z",
     "shell.execute_reply.started": "2022-10-01T17:54:00.963775Z"
    }
   },
   "outputs": [],
   "source": [
    "def f(x,nFunc,nVar,countFunc):\n",
    "    f = open(\"var.dat\", \"w\")\n",
    "    f.write(str(nFunc)+\"\\n\")\n",
    "    f.write(str(nVar)+\"\\n\")\n",
    "    for i in range(0, len(x)):\n",
    "        f.write(str(x[i])+'\\n')\n",
    "    f.close()\n",
    "    \n",
    "    result = os.system(\"funcao.exe\")\n",
    "    \n",
    "    f = open(\"obj.dat\", \"r\")\n",
    "    u = float(f.read())\n",
    "    f.close()\n",
    "    countFunc += 1\n",
    "    return u,countFunc"
   ]
  },
  {
   "cell_type": "markdown",
   "id": "448edc9e-b54b-4e63-b02f-9e316248e062",
   "metadata": {},
   "source": [
    "__Método:__"
   ]
  },
  {
   "cell_type": "code",
   "execution_count": 3,
   "id": "eefddf56-da51-4bde-bc9a-2d5939a1b7d7",
   "metadata": {
    "execution": {
     "iopub.execute_input": "2022-10-01T17:54:00.996756Z",
     "iopub.status.busy": "2022-10-01T17:54:00.995787Z",
     "iopub.status.idle": "2022-10-01T17:54:01.010703Z",
     "shell.execute_reply": "2022-10-01T17:54:01.010703Z",
     "shell.execute_reply.started": "2022-10-01T17:54:00.996756Z"
    }
   },
   "outputs": [],
   "source": [
    "def grad(x,countFunc):\n",
    "    epsilon = 1.e-10\n",
    "    nFunc = 34; Qvar = 12\n",
    "    \n",
    "    for i in range(0,len(x)):\n",
    "        xtmp=x.copy()\n",
    "        xtmp[i]=xtmp[i]+epsilon\n",
    "        F_xtmp, countFunc = f(xtmp,nFunc,Qvar,countFunc)\n",
    "        F_x, countFunc = f(x,nFunc,Qvar,countFunc)\n",
    "        G[i]=(F_xtmp-F_x)/epsilon\n",
    "    \n",
    "    return G,countFunc"
   ]
  },
  {
   "cell_type": "code",
   "execution_count": 4,
   "id": "013f08e4-6682-4f1b-8ab3-5503cd9924d8",
   "metadata": {
    "execution": {
     "iopub.execute_input": "2022-10-01T17:54:01.011673Z",
     "iopub.status.busy": "2022-10-01T17:54:01.011673Z",
     "iopub.status.idle": "2022-10-01T17:54:01.025639Z",
     "shell.execute_reply": "2022-10-01T17:54:01.025639Z",
     "shell.execute_reply.started": "2022-10-01T17:54:01.011673Z"
    }
   },
   "outputs": [],
   "source": [
    "def direcao(G,gamma,dold):\n",
    "    \n",
    "    d = -G+gamma*dold\n",
    "    \n",
    "    return d"
   ]
  },
  {
   "cell_type": "code",
   "execution_count": 5,
   "id": "8ba3de58-6aa4-48d9-935c-cde0d721004d",
   "metadata": {
    "execution": {
     "iopub.execute_input": "2022-10-01T17:54:01.026636Z",
     "iopub.status.busy": "2022-10-01T17:54:01.026636Z",
     "iopub.status.idle": "2022-10-01T17:54:01.041597Z",
     "shell.execute_reply": "2022-10-01T17:54:01.041597Z",
     "shell.execute_reply.started": "2022-10-01T17:54:01.026636Z"
    },
    "tags": []
   },
   "outputs": [],
   "source": [
    "def coef_conj(G,Gold):\n",
    "    eps = 1.e-6\n",
    "    numerador = np.dot(G,G)\n",
    "    denominador = np.dot(Gold,Gold)\n",
    "    \n",
    "    if numerador<eps or denominador<eps:\n",
    "        flag = 1\n",
    "        return flag\n",
    "        \n",
    "    else:\n",
    "        # Fletcher-Reeves\n",
    "        gamma = numerador/denominador\n",
    "        return gamma"
   ]
  },
  {
   "cell_type": "code",
   "execution_count": 6,
   "id": "37f9106e",
   "metadata": {
    "execution": {
     "iopub.execute_input": "2022-10-01T17:54:01.042595Z",
     "iopub.status.busy": "2022-10-01T17:54:01.042595Z",
     "iopub.status.idle": "2022-10-01T17:54:01.056581Z",
     "shell.execute_reply": "2022-10-01T17:54:01.056581Z",
     "shell.execute_reply.started": "2022-10-01T17:54:01.042595Z"
    }
   },
   "outputs": [],
   "source": [
    "def alphaFibonacci(n = 10):\n",
    "\n",
    "    F = np.zeros( (n+1),dtype='float' )\n",
    "    I = np.zeros( (n+1),dtype='float' )\n",
    "    I[0]=x[-1]-x[0]\n",
    "    F[0] = 1; F[1] = 1\n",
    "\n",
    "    for i in range(2,n+1): F[i]=F[i-2]+F[i-1]\n",
    "\n",
    "    for i in range(0,n):\n",
    "        left = False; right = False\n",
    "        dist = F[n-2-i]/F[n-i]*I[i]\n",
    "        print\n",
    "        if f(x[0])>f(x[0]+dist): left = True \n",
    "\n",
    "        if f(x[-1])>f(x[-1]-dist): right = True \n",
    "\n",
    "        if (left == True) and (right == False): Xi=x[0]+dist; Xf=x[-1]\n",
    "        elif (left == False) and (right == True): Xf=x[-1]-dist; Xi=x[0]\n",
    "        elif f(x[0]+dist)>f(x[-1]-dist): Xi=x[0]+dist; Xf=x[-1]\n",
    "        else: Xf=x[-1]-dist; Xi=x[0]\n",
    "\n",
    "        x = np.linspace(Xi, Xf)\n",
    "        I[i+1]=x[-1]-x[0]   "
   ]
  },
  {
   "cell_type": "code",
   "execution_count": 7,
   "id": "24bc93c3-4065-48b1-ad48-1148e04f0da6",
   "metadata": {
    "execution": {
     "iopub.execute_input": "2022-10-01T17:54:01.057579Z",
     "iopub.status.busy": "2022-10-01T17:54:01.057579Z",
     "iopub.status.idle": "2022-10-01T17:54:03.246345Z",
     "shell.execute_reply": "2022-10-01T17:54:03.245329Z",
     "shell.execute_reply.started": "2022-10-01T17:54:01.057579Z"
    },
    "tags": []
   },
   "outputs": [
    {
     "name": "stdout",
     "output_type": "stream",
     "text": [
      "-36.00000 -45.00000 -50.00000 -55.00000 -59.00000 -62.00000 -65.00000 -68.00000 -70.00000 -73.00000 -75.00000 -77.00000 3.70848\n",
      "-36.10000 -45.02107 -50.26487 -55.05997 -59.00998 -62.11136 -65.07066 -68.00072 -70.19483 -73.00000 -75.00000 -77.00000 2.76649\n",
      "-36.22500 -45.04320 -50.46767 -55.11683 -59.02144 -62.18691 -65.12499 -68.00161 -70.26617 -73.00000 -75.00000 -77.00000 2.36308\n",
      "-36.38446 -45.06616 -50.63096 -55.17235 -59.03480 -62.24726 -65.17183 -68.00273 -70.30878 -73.00000 -75.00000 -77.00000 2.09016\n",
      "-36.59602 -45.09007 -50.77378 -55.22968 -59.05091 -62.30278 -65.21699 -68.00420 -70.34319 -73.00000 -75.00000 -77.00000 1.83209\n"
     ]
    }
   ],
   "source": [
    "nFunc = 34; Qvar = 12; countFunc = 0\n",
    "\n",
    "G =np.zeros(Qvar , dtype = 'float')\n",
    "Gold =np.zeros(Qvar , dtype = 'float')\n",
    "xold =np.zeros(Qvar , dtype = 'float')\n",
    "xnew =np.zeros(Qvar , dtype = 'float')\n",
    "x =np.zeros(Qvar , dtype = 'float')\n",
    "d =np.zeros(Qvar , dtype = 'float')\n",
    "dold =np.zeros(Qvar , dtype = 'float')\n",
    "fHist = []\n",
    "layout = \"{0:.5f}\"\n",
    "\n",
    "#chute incial:\n",
    "xold[0] = -36\n",
    "xold[1] = -45\n",
    "xold[2] = -50\n",
    "xold[3] = -55\n",
    "xold[4] = -59\n",
    "xold[5] = -62\n",
    "xold[6] = -65\n",
    "xold[7] = -68\n",
    "xold[8] = -70\n",
    "xold[9] = -73\n",
    "xold[10] = -75\n",
    "xold[11] = -77\n",
    "\n",
    "alfa=0.1; kmax=50; k=0\n",
    "F0,countFunc = f(xold,nFunc,Qvar,countFunc)\n",
    "for i in range(0, Qvar):\n",
    "    print(layout.format(xold[i]), end =\" \")\n",
    "print(layout.format(F0))\n",
    "flag=0\n",
    "\n",
    "# Primeira iteração k=0\n",
    "\n",
    "# Calculo Gradiente\n",
    "G,countFunc = grad(xold,countFunc)\n",
    "\n",
    "#Calculo da direção\n",
    "gamma = 0\n",
    "d = direcao(G,gamma,dold)\n",
    "\n",
    "# Processo iterativo\n",
    "xnew=xold+alfa*d\n",
    "\n",
    "#Atualiza xold\n",
    "xold = xnew.copy()\n",
    "\n",
    "#Calculo da função\n",
    "F,countFunc = f(xnew,nFunc,Qvar,countFunc)\n",
    "for i in range(0, Qvar):\n",
    "    print(layout.format(xnew[i]), end =\" \")\n",
    "print(layout.format(F))\n",
    "fHist.append(F)\n",
    "\n",
    "while k < kmax:\n",
    "    k += 1\n",
    "    \n",
    "    # Calculo Gradiente\n",
    "    Gold = G.copy()\n",
    "    G,countFunc = grad(xold,countFunc)\n",
    "    \n",
    "    #Calculo gamma\n",
    "    gamma = coef_conj(G,Gold)\n",
    "    \n",
    "    if flag==0:\n",
    "        #Calculo da direção\n",
    "        dold = d.copy()\n",
    "        d = direcao(G,gamma,dold)\n",
    "\n",
    "        # Processo iterativo\n",
    "        xnew=xold+alfa*d\n",
    "        \n",
    "        #Atualiza xold\n",
    "        Fold,countFunc = f(xold,nFunc,Qvar,countFunc)\n",
    "        xold = xnew.copy()\n",
    "\n",
    "        #Calculo da função\n",
    "        F,countFunc = f(xnew,nFunc,Qvar,countFunc)\n",
    "        if F>Fold:\n",
    "            flag=1\n",
    "            break\n",
    "        else:\n",
    "            for i in range(0, Qvar):\n",
    "                print(layout.format(xnew[i]), end =\" \")\n",
    "            print(layout.format(F))\n",
    "            fHist.append(F)"
   ]
  },
  {
   "cell_type": "code",
   "execution_count": 9,
   "id": "48de95e0-6c59-4d54-9f5a-9fd1c251e52e",
   "metadata": {
    "execution": {
     "iopub.execute_input": "2022-10-01T17:55:02.865147Z",
     "iopub.status.busy": "2022-10-01T17:55:02.865147Z",
     "iopub.status.idle": "2022-10-01T17:55:03.112649Z",
     "shell.execute_reply": "2022-10-01T17:55:03.112649Z",
     "shell.execute_reply.started": "2022-10-01T17:55:02.865147Z"
    },
    "tags": []
   },
   "outputs": [
    {
     "data": {
      "image/png": "[encoded data removed]",
      "text/plain": [
       "<Figure size 576x576 with 1 Axes>"
      ]
     },
     "metadata": {
      "needs_background": "light"
     },
     "output_type": "display_data"
    }
   ],
   "source": [
    "font = {\n",
    "        'size': 16,\n",
    "        }\n",
    "\n",
    "plt.figure(figsize=(8,8))\n",
    "plt.plot(np.arange(0,k),fHist)\n",
    "plt.grid()\n",
    "plt.title(f'Convergência {name}', fontdict=font)\n",
    "plt.ylabel(r'Valor da função f($\\vec{x}$)', fontdict=font)\n",
    "plt.xlabel(\"Número de iterações (k)\", fontdict=font)\n",
    "plt.show()"
   ]
  },
  {
   "cell_type": "code",
   "execution_count": 10,
   "id": "d31eea45-507e-4752-a87b-eef1db58c23f",
   "metadata": {
    "execution": {
     "iopub.execute_input": "2022-10-01T17:55:09.439116Z",
     "iopub.status.busy": "2022-10-01T17:55:09.439116Z",
     "iopub.status.idle": "2022-10-01T17:55:09.458066Z",
     "shell.execute_reply": "2022-10-01T17:55:09.457071Z",
     "shell.execute_reply.started": "2022-10-01T17:55:09.439116Z"
    },
    "tags": []
   },
   "outputs": [
    {
     "name": "stdout",
     "output_type": "stream",
     "text": [
      "Quantidade de chamadas da função obj =  130\n",
      "Tempo de Execução = 68.4895670413971 s\n"
     ]
    }
   ],
   "source": [
    "print(\"Quantidade de chamadas da função obj = \", countFunc)\n",
    "End = time.time()\n",
    "print(\"Tempo de Execução =\", End-Start, \"s\")\t"
   ]
  },
  {
   "cell_type": "code",
   "execution_count": null,
   "id": "de2747ac-030d-4849-8e1c-55a129f5b320",
   "metadata": {},
   "outputs": [],
   "source": []
  }
 ],
 "metadata": {
  "kernelspec": {
   "display_name": "Python 3 (ipykernel)",
   "language": "python",
   "name": "python3"
  },
  "language_info": {
   "codemirror_mode": {
    "name": "ipython",
    "version": 3
   },
   "file_extension": ".py",
   "mimetype": "text/x-python",
   "name": "python",
   "nbconvert_exporter": "python",
   "pygments_lexer": "ipython3",
   "version": "3.9.12"
  },
  "vscode": {
   "interpreter": {
    "hash": "f3f3c8e2c70d172923cdd26a18ca64af4bb2e4459cce796237545f1b235e951c"
   }
  }
 },
 "nbformat": 4,
 "nbformat_minor": 5
}
