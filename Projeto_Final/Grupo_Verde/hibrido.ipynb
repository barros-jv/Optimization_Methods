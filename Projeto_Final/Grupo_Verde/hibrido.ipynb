{
 "cells": [
  {
   "cell_type": "markdown",
   "id": "1f3b0d7d-9e18-4eb8-ba9d-33d71ba9d25d",
   "metadata": {},
   "source": [
    "## Métodos de Otimização: Método Híbrido"
   ]
  },
  {
   "cell_type": "markdown",
   "id": "6178346d-104a-43b0-bf18-21b8be47f418",
   "metadata": {},
   "source": [
    "### Enxame de Partículas + Steepest_Descent"
   ]
  },
  {
   "cell_type": "code",
   "execution_count": 1,
   "id": "dd9a6c9e-7e98-4a64-9d2e-cea98d2e4dc0",
   "metadata": {
    "execution": {
     "iopub.execute_input": "2022-10-07T20:55:01.846346Z",
     "iopub.status.busy": "2022-10-07T20:55:01.845307Z",
     "iopub.status.idle": "2022-10-07T20:55:02.654627Z",
     "shell.execute_reply": "2022-10-07T20:55:02.654627Z",
     "shell.execute_reply.started": "2022-10-07T20:55:01.846346Z"
    },
    "tags": []
   },
   "outputs": [],
   "source": [
    "import numpy as np\n",
    "import matplotlib.pyplot as plt\n",
    "import sys, os\n",
    "import random\n",
    "import time\n",
    "name = 'Método Híbrido' \n",
    "Start = time.time()"
   ]
  },
  {
   "cell_type": "code",
   "execution_count": 2,
   "id": "fca128cf-10a6-4370-b6e7-6e246bc9a66d",
   "metadata": {
    "execution": {
     "iopub.execute_input": "2022-10-07T20:55:02.655616Z",
     "iopub.status.busy": "2022-10-07T20:55:02.655616Z",
     "iopub.status.idle": "2022-10-07T20:55:02.686356Z",
     "shell.execute_reply": "2022-10-07T20:55:02.686356Z",
     "shell.execute_reply.started": "2022-10-07T20:55:02.655616Z"
    }
   },
   "outputs": [],
   "source": [
    "def f(x,nFunc,nVar,countFunc):\n",
    "    f = open(\"var.dat\", \"w\")\n",
    "    f.write(str(nFunc)+\"\\n\")\n",
    "    f.write(str(nVar)+\"\\n\")\n",
    "    for i in range(0, len(x)):\n",
    "        f.write(str(x[i])+'\\n')\n",
    "    f.close()\n",
    "    \n",
    "    result = os.system(\"funcao.exe\")\n",
    "    \n",
    "    f = open(\"obj.dat\", \"r\")\n",
    "    u = float(f.read())\n",
    "    f.close()\n",
    "    countFunc += 1\n",
    "    return u,countFunc"
   ]
  },
  {
   "cell_type": "code",
   "execution_count": 3,
   "id": "3235039a-7797-4bc3-9294-e691b65e3d94",
   "metadata": {
    "execution": {
     "iopub.execute_input": "2022-10-07T20:55:02.688318Z",
     "iopub.status.busy": "2022-10-07T20:55:02.688318Z",
     "iopub.status.idle": "2022-10-07T20:55:02.702270Z",
     "shell.execute_reply": "2022-10-07T20:55:02.702270Z",
     "shell.execute_reply.started": "2022-10-07T20:55:02.688318Z"
    }
   },
   "outputs": [],
   "source": [
    "def grad(x,countFunc):\n",
    "    epsilon = 1.e-10\n",
    "    nFunc = 5; Qvar = 2\n",
    "    \n",
    "    for i in range(0,len(x)):\n",
    "        xtmp=x.copy()\n",
    "        xtmp[i]=xtmp[i]+epsilon\n",
    "        F_xtmp, countFunc = f(xtmp,nFunc,Qvar,countFunc)\n",
    "        F_x, countFunc = f(x,nFunc,Qvar,countFunc)\n",
    "        G[i]=(F_xtmp-F_x)/epsilon\n",
    "    \n",
    "    return G,countFunc"
   ]
  },
  {
   "cell_type": "code",
   "execution_count": 4,
   "id": "6554cc11-b58b-40e6-8e30-bf760897efea",
   "metadata": {
    "execution": {
     "iopub.execute_input": "2022-10-07T20:55:02.703268Z",
     "iopub.status.busy": "2022-10-07T20:55:02.703268Z",
     "iopub.status.idle": "2022-10-07T20:55:02.717407Z",
     "shell.execute_reply": "2022-10-07T20:55:02.717407Z",
     "shell.execute_reply.started": "2022-10-07T20:55:02.703268Z"
    },
    "tags": []
   },
   "outputs": [],
   "source": [
    "nFunc = 5\n",
    "Qvar = 2\n",
    "Qtind = 50\n",
    "kmax = 150\n",
    "countFunc = 0\n",
    "\n",
    "pop =np.zeros((Qtind,Qvar) , dtype = 'float')\n",
    "x =np.zeros((Qtind,Qvar) , dtype = 'float')\n",
    "fHist = []\n",
    "fpop =np.zeros(Qtind , dtype = 'float')\n",
    "fsol =np.zeros(Qtind , dtype = 'float')\n",
    "pbest =np.zeros(Qvar , dtype = 'float')\n",
    "xmin =np.zeros(Qvar , dtype = 'float')\n",
    "xmax =np.zeros(Qvar , dtype = 'float')\n",
    "r =np.zeros(Qvar , dtype = 'float')\n",
    "r1 =np.zeros(Qvar , dtype = 'float')\n",
    "r2 =np.zeros(Qvar , dtype = 'float')\n",
    "\n",
    "xmin[0] = -10; xmin[1] = -10\n",
    "xmax[0] = 10; xmax[1] = 10"
   ]
  },
  {
   "cell_type": "code",
   "execution_count": 5,
   "id": "61efd377-d6f5-419f-b152-c2aa004e7de9",
   "metadata": {
    "execution": {
     "iopub.execute_input": "2022-10-07T20:55:02.718403Z",
     "iopub.status.busy": "2022-10-07T20:55:02.718403Z",
     "iopub.status.idle": "2022-10-07T20:55:03.996705Z",
     "shell.execute_reply": "2022-10-07T20:55:03.996040Z",
     "shell.execute_reply.started": "2022-10-07T20:55:02.718403Z"
    },
    "tags": []
   },
   "outputs": [
    {
     "data": {
      "image/png": "[encoded data removed]",
      "text/plain": [
       "<Figure size 432x288 with 1 Axes>"
      ]
     },
     "metadata": {
      "needs_background": "light"
     },
     "output_type": "display_data"
    }
   ],
   "source": [
    "#criando a populacao inicial e suas funcoes objetivo\n",
    "#o melhor individuo ja esta definido (pop == pi)\n",
    "\n",
    "for i in range(0, Qtind):\n",
    "    for j in range(0, Qvar):\n",
    "        r[j] = random.random()\n",
    "        pop[i,j] = xmin[j]+(1.-r[j])*(xmax[j]-xmin[j])\n",
    "    fpop[i],countFunc = f(pop[i,:],nFunc,Qvar,countFunc)\n",
    "\n",
    "plt.plot(pop[:,0], pop[:,1], 'bo')\n",
    "plt.show()"
   ]
  },
  {
   "cell_type": "code",
   "execution_count": 6,
   "id": "ab5c06cc-d36b-44a2-b4ae-52a0a5cd77d5",
   "metadata": {
    "execution": {
     "iopub.execute_input": "2022-10-07T20:55:03.996705Z",
     "iopub.status.busy": "2022-10-07T20:55:03.996705Z",
     "iopub.status.idle": "2022-10-07T20:55:04.011696Z",
     "shell.execute_reply": "2022-10-07T20:55:04.011696Z",
     "shell.execute_reply.started": "2022-10-07T20:55:03.996705Z"
    }
   },
   "outputs": [
    {
     "name": "stdout",
     "output_type": "stream",
     "text": [
      "6.60957729574663\n"
     ]
    }
   ],
   "source": [
    "minlocobj=np.argmin(fpop)\n",
    "pbest[:]=pop[minlocobj,:]\n",
    "fbest=fpop[minlocobj]\n",
    "print(fbest)"
   ]
  },
  {
   "cell_type": "code",
   "execution_count": 7,
   "id": "b92ee5db-7c52-4a9f-8da2-36292090a1aa",
   "metadata": {
    "execution": {
     "iopub.execute_input": "2022-10-07T20:55:04.012664Z",
     "iopub.status.busy": "2022-10-07T20:55:04.012664Z",
     "iopub.status.idle": "2022-10-07T20:55:17.618144Z",
     "shell.execute_reply": "2022-10-07T20:55:17.618144Z",
     "shell.execute_reply.started": "2022-10-07T20:55:04.012664Z"
    },
    "scrolled": true,
    "tags": []
   },
   "outputs": [
    {
     "name": "stdout",
     "output_type": "stream",
     "text": [
      "10.00000 3.32516 2.04695\n",
      "3.45022 2.78808 1.40133\n",
      "3.23965 1.88371 0.54391\n",
      "3.23965 1.88371 0.54391\n",
      "9.49721 2.55216 0.42330\n",
      "9.39059 2.55740 0.41584\n",
      "9.44749 2.51209 0.40068\n",
      "9.44287 2.47490 0.39970\n",
      "9.44287 2.47490 0.39970\n",
      "9.42233 2.47655 0.39793\n",
      "9.42381 2.47794 0.39791\n",
      "9.42635 2.47814 0.39790\n",
      "9.42520 2.47798 0.39790\n"
     ]
    }
   ],
   "source": [
    "x=pop.copy()\n",
    "layout = \"{0:.5f}\"\n",
    "k=0; e = 1.e-3; count = 0; k_tot = 0\n",
    "while k < kmax:\n",
    "    k += 1\n",
    "    k_tot +=1\n",
    "    for i in range(0, Qtind):\n",
    "        for j in range(0, Qvar):\n",
    "            r1[j] = random.random()\n",
    "            r2[j] = random.random()\n",
    "            x[i,j] = x[i,j] + 2.*r1[j]*(pop[i,j]-x[i,j]) + 2.*r2[j]*(pbest[j]-x[i,j])\n",
    "            x[i,j] = max(min(x[i,j],xmax[j]),xmin[j])\n",
    "\n",
    "        fsol[i],countFunc = f(x[i,:],nFunc,Qvar,countFunc)\n",
    "        \n",
    "    for i in range(0, Qtind):\n",
    "        if fsol[i] < fpop[i] :\n",
    "            fpop[i]=fsol[i]\n",
    "            pop[i,:]=x[i,:]\n",
    "        \n",
    "    minlocobj=np.argmin(fpop)\n",
    "    pbest[:]=pop[minlocobj,:]\n",
    "    fbest=fpop[minlocobj]\n",
    "    print(layout.format(pbest[0])+\" \"+layout.format(pbest[1])+\" \"+layout.format(fbest))\n",
    "    fHist.append(fbest)\n",
    "    for i in range(0, Qtind):\n",
    "        if (np.abs(fbest-fpop[i]) <= e):\n",
    "            count +=1 \n",
    "    if count/Qtind >= 0.9:\n",
    "        break\n",
    "    "
   ]
  },
  {
   "cell_type": "code",
   "execution_count": 8,
   "id": "a0e555a2-64f9-4a54-9447-648eacedd2dc",
   "metadata": {
    "execution": {
     "iopub.execute_input": "2022-10-07T20:55:17.620139Z",
     "iopub.status.busy": "2022-10-07T20:55:17.619143Z",
     "iopub.status.idle": "2022-10-07T20:55:17.634145Z",
     "shell.execute_reply": "2022-10-07T20:55:17.634145Z",
     "shell.execute_reply.started": "2022-10-07T20:55:17.620139Z"
    },
    "tags": []
   },
   "outputs": [
    {
     "name": "stdout",
     "output_type": "stream",
     "text": [
      "[9.42519824 2.47798069]\n"
     ]
    }
   ],
   "source": [
    "print(pbest[:])"
   ]
  },
  {
   "cell_type": "code",
   "execution_count": 9,
   "id": "00cff44d-2722-48f4-9800-44d3c684e6a3",
   "metadata": {
    "execution": {
     "iopub.execute_input": "2022-10-07T20:55:17.635099Z",
     "iopub.status.busy": "2022-10-07T20:55:17.635099Z",
     "iopub.status.idle": "2022-10-07T20:55:18.686873Z",
     "shell.execute_reply": "2022-10-07T20:55:18.686873Z",
     "shell.execute_reply.started": "2022-10-07T20:55:17.635099Z"
    },
    "tags": []
   },
   "outputs": [
    {
     "name": "stdout",
     "output_type": "stream",
     "text": [
      "9.42520 2.47798 0.39790\n",
      "9.42524 2.47746 0.39789\n",
      "9.42515 2.47704 0.39789\n",
      "9.42509 2.47670 0.39789\n",
      "9.42503 2.47641 0.39789\n",
      "9.42499 2.47617 0.39789\n",
      "9.42495 2.47597 0.39789\n",
      "9.42492 2.47580 0.39789\n",
      "9.42490 2.47567 0.39789\n",
      "9.42488 2.47556 0.39789\n",
      "9.42486 2.47546 0.39789\n"
     ]
    }
   ],
   "source": [
    "alfa=0.1; kmax=10; k=0; countFunc=0\n",
    "\n",
    "xold =np.zeros(Qvar , dtype = 'float')\n",
    "xnew =np.zeros(Qvar , dtype = 'float')\n",
    "G =np.zeros(Qvar , dtype = 'float')\n",
    "\n",
    "#chute incial:\n",
    "for i in range(0, Qvar):\n",
    "    xold[i] = pbest[i]\n",
    "    \n",
    "F0,countFunc = f(xold,nFunc,Qvar,countFunc)\n",
    "layout = \"{0:.5f}\"\n",
    "print(layout.format(xold[0])+\" \"+layout.format(xold[1])+\" \"+layout.format(F0))\n",
    "fHist.append(F0)\n",
    "\n",
    "while k < kmax:\n",
    "    k += 1\n",
    "    k_tot +=1\n",
    "    # Calculo Gradiente\n",
    "    G,countFunc = grad(xold,countFunc)\n",
    "    \n",
    "    # Processo iterativo\n",
    "    xnew=xold-alfa*G\n",
    "    \n",
    "    #Atualiza xold\n",
    "    xold = xnew.copy()\n",
    "    \n",
    "    #Calculo da função\n",
    "    F,countFunc = f(xnew,nFunc,Qvar,countFunc)\n",
    "    print(layout.format(xnew[0])+\" \"+layout.format(xnew[1])+\" \"+layout.format(F))\n",
    "    fHist.append(F)"
   ]
  },
  {
   "cell_type": "code",
   "execution_count": 10,
   "id": "d6f93cd8-3ff9-485c-9fb6-9ac87a4f0058",
   "metadata": {
    "execution": {
     "iopub.execute_input": "2022-10-07T20:55:18.687871Z",
     "iopub.status.busy": "2022-10-07T20:55:18.687871Z",
     "iopub.status.idle": "2022-10-07T20:55:18.970116Z",
     "shell.execute_reply": "2022-10-07T20:55:18.970116Z",
     "shell.execute_reply.started": "2022-10-07T20:55:18.687871Z"
    },
    "tags": []
   },
   "outputs": [
    {
     "data": {
      "image/png": "[encoded data removed]",
      "text/plain": [
       "<Figure size 576x576 with 1 Axes>"
      ]
     },
     "metadata": {
      "needs_background": "light"
     },
     "output_type": "display_data"
    }
   ],
   "source": [
    "font = {\n",
    "        'size': 16,\n",
    "        }\n",
    "\n",
    "plt.figure(figsize=(8,8))\n",
    "plt.plot(np.arange(0,k_tot+1),fHist)\n",
    "plt.grid()\n",
    "plt.title(f'Convergência {name}', fontdict=font)\n",
    "plt.ylabel(r'Valor da função f($\\vec{x}$)', fontdict=font)\n",
    "plt.xlabel(\"Número de iterações (k)\", fontdict=font)\n",
    "plt.show()"
   ]
  },
  {
   "cell_type": "code",
   "execution_count": 11,
   "id": "bf964896-9ce1-43cb-bba7-bc0ef5cb34ea",
   "metadata": {
    "execution": {
     "iopub.execute_input": "2022-10-07T20:55:18.971116Z",
     "iopub.status.busy": "2022-10-07T20:55:18.971116Z",
     "iopub.status.idle": "2022-10-07T20:55:18.984955Z",
     "shell.execute_reply": "2022-10-07T20:55:18.984955Z",
     "shell.execute_reply.started": "2022-10-07T20:55:18.971116Z"
    },
    "tags": []
   },
   "outputs": [
    {
     "name": "stdout",
     "output_type": "stream",
     "text": [
      "Quantidade de chamadas da função obj =  51\n",
      "Tempo de Execução = 16.32745862007141 s\n"
     ]
    }
   ],
   "source": [
    "print(\"Quantidade de chamadas da função obj = \", countFunc)\n",
    "End = time.time()\n",
    "print(\"Tempo de Execução =\", End-Start, \"s\")\t"
   ]
  },
  {
   "cell_type": "code",
   "execution_count": null,
   "id": "2bfc1657-a994-4c3a-91eb-189e3ef64599",
   "metadata": {},
   "outputs": [],
   "source": []
  }
 ],
 "metadata": {
  "kernelspec": {
   "display_name": "Python 3 (ipykernel)",
   "language": "python",
   "name": "python3"
  },
  "language_info": {
   "codemirror_mode": {
    "name": "ipython",
    "version": 3
   },
   "file_extension": ".py",
   "mimetype": "text/x-python",
   "name": "python",
   "nbconvert_exporter": "python",
   "pygments_lexer": "ipython3",
   "version": "3.9.12"
  }
 },
 "nbformat": 4,
 "nbformat_minor": 5
}
