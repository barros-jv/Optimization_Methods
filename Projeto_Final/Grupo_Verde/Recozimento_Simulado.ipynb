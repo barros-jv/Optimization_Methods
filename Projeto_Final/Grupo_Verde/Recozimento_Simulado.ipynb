{
 "cells": [
  {
   "cell_type": "markdown",
   "id": "7de23cfe-94b3-4c6a-9d2c-85cbdd4dd373",
   "metadata": {},
   "source": [
    "## Métodos de Otimização: Métodos Heuristicos"
   ]
  },
  {
   "cell_type": "markdown",
   "id": "3422ef2f-42c6-4265-989f-b8874fe9e0ce",
   "metadata": {},
   "source": [
    "### Recozimento Simulado"
   ]
  },
  {
   "cell_type": "code",
   "execution_count": 1,
   "id": "f61c62b9-bbf3-4087-aeab-df5421d06590",
   "metadata": {
    "execution": {
     "iopub.execute_input": "2022-10-08T18:54:08.329495Z",
     "iopub.status.busy": "2022-10-08T18:54:08.327470Z",
     "iopub.status.idle": "2022-10-08T18:54:09.073292Z",
     "shell.execute_reply": "2022-10-08T18:54:09.073292Z",
     "shell.execute_reply.started": "2022-10-08T18:54:08.329495Z"
    },
    "tags": []
   },
   "outputs": [],
   "source": [
    "import numpy as np\n",
    "import matplotlib.pyplot as plt\n",
    "import sys, os\n",
    "import random\n",
    "import time\n",
    "name = 'Recozimento Simulado' \n",
    "Start = time.time()"
   ]
  },
  {
   "cell_type": "code",
   "execution_count": 2,
   "id": "483f89ea-cff5-43b2-9778-ac41b03408b6",
   "metadata": {
    "execution": {
     "iopub.execute_input": "2022-10-08T18:54:09.074293Z",
     "iopub.status.busy": "2022-10-08T18:54:09.074293Z",
     "iopub.status.idle": "2022-10-08T18:54:09.105211Z",
     "shell.execute_reply": "2022-10-08T18:54:09.105211Z",
     "shell.execute_reply.started": "2022-10-08T18:54:09.074293Z"
    }
   },
   "outputs": [],
   "source": [
    "def f(x,nFunc,nVar,countFunc):\n",
    "    f = open(\"var.dat\", \"w\")\n",
    "    f.write(str(nFunc)+\"\\n\")\n",
    "    f.write(str(nVar)+\"\\n\")\n",
    "    for i in range(0, len(x)):\n",
    "        f.write(str(x[i])+'\\n')\n",
    "    f.close()\n",
    "    \n",
    "    result = os.system(\"funcao.exe\")\n",
    "    \n",
    "    f = open(\"obj.dat\", \"r\")\n",
    "    u = float(f.read())\n",
    "    f.close()\n",
    "    countFunc += 1\n",
    "    return u,countFunc"
   ]
  },
  {
   "cell_type": "code",
   "execution_count": 3,
   "id": "a8abc0c6-639c-4d43-8eaa-bcf03cce4261",
   "metadata": {
    "execution": {
     "iopub.execute_input": "2022-10-08T18:54:09.106208Z",
     "iopub.status.busy": "2022-10-08T18:54:09.106208Z",
     "iopub.status.idle": "2022-10-08T19:00:17.460370Z",
     "shell.execute_reply": "2022-10-08T19:00:17.459597Z",
     "shell.execute_reply.started": "2022-10-08T18:54:09.106208Z"
    }
   },
   "outputs": [
    {
     "name": "stdout",
     "output_type": "stream",
     "text": [
      "Coordenadas: 2.98248 2.17914 Resultado: 0.56899\n",
      "Coordenadas: 3.20938 2.17390 Resultado: 0.42232\n",
      "Coordenadas: 3.20938 2.17390 Resultado: 0.42232\n",
      "Coordenadas: 3.20938 2.17390 Resultado: 0.42232\n",
      "Coordenadas: 3.20938 2.17390 Resultado: 0.42232\n",
      "Coordenadas: 3.20938 2.17390 Resultado: 0.42232\n",
      "Coordenadas: 3.20938 2.17390 Resultado: 0.42232\n",
      "Coordenadas: 3.20938 2.17390 Resultado: 0.42232\n",
      "Coordenadas: 3.20938 2.17390 Resultado: 0.42232\n",
      "Coordenadas: 9.40329 2.47373 Resultado: 0.40039\n",
      "Coordenadas: 9.40329 2.47373 Resultado: 0.40039\n",
      "Coordenadas: 9.40329 2.47373 Resultado: 0.40039\n",
      "Coordenadas: 9.40329 2.47373 Resultado: 0.40039\n",
      "Coordenadas: 9.40329 2.47373 Resultado: 0.40039\n",
      "Coordenadas: 9.40329 2.47373 Resultado: 0.40039\n",
      "Coordenadas: 9.40329 2.47373 Resultado: 0.40039\n",
      "Coordenadas: 9.40329 2.47373 Resultado: 0.40039\n",
      "Coordenadas: 9.40329 2.47373 Resultado: 0.40039\n",
      "Coordenadas: 9.40329 2.47373 Resultado: 0.40039\n",
      "Coordenadas: 9.40329 2.47373 Resultado: 0.40039\n",
      "Coordenadas: 9.40329 2.47373 Resultado: 0.40039\n",
      "Coordenadas: 9.40329 2.47373 Resultado: 0.40039\n",
      "Coordenadas: 9.40329 2.47373 Resultado: 0.40039\n",
      "Coordenadas: 9.40329 2.47373 Resultado: 0.40039\n",
      "Coordenadas: 9.40329 2.47373 Resultado: 0.40039\n",
      "Coordenadas: 9.40329 2.47373 Resultado: 0.40039\n",
      "Coordenadas: 9.40329 2.47373 Resultado: 0.40039\n",
      "Coordenadas: 9.41882 2.42953 Resultado: 0.39969\n",
      "Coordenadas: 9.41882 2.42953 Resultado: 0.39969\n",
      "Coordenadas: 9.41882 2.42953 Resultado: 0.39969\n",
      "Coordenadas: 9.41882 2.42953 Resultado: 0.39969\n",
      "Coordenadas: 9.41882 2.42953 Resultado: 0.39969\n",
      "Coordenadas: 9.41882 2.42953 Resultado: 0.39969\n",
      "Coordenadas: 9.40617 2.46731 Resultado: 0.39961\n",
      "Coordenadas: 9.40617 2.46731 Resultado: 0.39961\n",
      "Coordenadas: 9.41730 2.49594 Resultado: 0.39890\n",
      "Coordenadas: 9.41730 2.49594 Resultado: 0.39890\n",
      "Coordenadas: 9.42434 2.49808 Resultado: 0.39844\n",
      "Coordenadas: 9.42434 2.49808 Resultado: 0.39844\n",
      "Coordenadas: 9.42434 2.49808 Resultado: 0.39844\n",
      "Coordenadas: 9.42434 2.49808 Resultado: 0.39844\n",
      "Coordenadas: 9.42783 2.46092 Resultado: 0.39821\n",
      "Coordenadas: 9.42780 2.48109 Resultado: 0.39794\n",
      "Coordenadas: 9.42780 2.48109 Resultado: 0.39794\n",
      "Coordenadas: 9.42780 2.48109 Resultado: 0.39794\n",
      "Coordenadas: 9.42780 2.48109 Resultado: 0.39794\n",
      "Coordenadas: 9.42658 2.47475 Resultado: 0.39791\n",
      "Coordenadas: 9.42658 2.47475 Resultado: 0.39791\n",
      "Coordenadas: 9.42658 2.47475 Resultado: 0.39791\n",
      "Coordenadas: 9.42658 2.47475 Resultado: 0.39791\n"
     ]
    }
   ],
   "source": [
    "# Método Baseado no algoritmo de Metropolis-Hasting\n",
    "T = 1000 #Temperatura inicial\n",
    "\n",
    "nFunc = 5; Qvar = 2\n",
    "countFunc = 0\n",
    "nvar=2\n",
    "Ns=20\n",
    "Nit=5\n",
    "RT=0.8\n",
    "niter_max = 50\n",
    "#chute incial:\n",
    "x1 = 3\n",
    "x2 = 2\n",
    "\n",
    "xnew=np.zeros(nvar, dtype='float')\n",
    "xold=np.zeros(nvar, dtype='float')\n",
    "xbest=np.zeros(nvar, dtype='float')\n",
    "N=np.zeros(nvar, dtype='float')\n",
    "Vu=np.zeros(nvar, dtype='float')\n",
    "V=3*np.ones(nvar, dtype='float')\n",
    "xmin =np.zeros(Qvar , dtype = 'float')\n",
    "xmax =np.zeros(Qvar , dtype = 'float')\n",
    "layout = \"{0:.5f}\"\n",
    "fHist = []\n",
    "\n",
    "xold[0]=x1; xold[1]=x2; Fold, countFunc = f(xold,nFunc,Qvar,countFunc)\n",
    "xbest = xold.copy(); fbest, countFunc = f(xold,nFunc,Qvar,countFunc)\n",
    "xmin[0] = -5; xmin[1] = 0\n",
    "xmax[0] = 10; xmax[1] = 15\n",
    "fHist.append(fbest)\n",
    "c = 2\n",
    "niter = 0\n",
    "flag = 1\n",
    "while niter<niter_max:\n",
    "    for k in range(0,Nit):\n",
    "        N=np.zeros(nvar, dtype='float')\n",
    "        for j in range(0,Ns):\n",
    "            for i in range(0,nvar):\n",
    "                xnew = xold.copy()\n",
    "                flag = 1\n",
    "                R = random.uniform(-1,1)\n",
    "                xnew[i] = xold[i] + R*V[i]\n",
    "                if (xnew[i]>xmax[i]) or (xnew[i]<xmin[i]):\n",
    "                    xnew = xold.copy()\n",
    "                    flag = 0\n",
    "                Fnew,countFunc = f(xnew,nFunc,Qvar,countFunc)\n",
    "                Fold,countFunc = f(xold,nFunc,Qvar,countFunc)\n",
    "                if (Fnew<Fold) and flag == 1:\n",
    "                    xold = xnew.copy()\n",
    "                    N[i] = N[i] + 1\n",
    "                    if Fnew < fbest:\n",
    "                        fbest = Fnew\n",
    "                        xbest = xnew.copy()\n",
    "                elif flag == 1:\n",
    "                    P = np.exp((Fold-Fnew)/T)\n",
    "                    R = random.uniform(0,1)\n",
    "                    if P > R:\n",
    "                        xold = xnew.copy()\n",
    "                        N[i] = N[i] + 1\n",
    "        for i in range(0,nvar):\n",
    "            if N[i]>0.6*Ns:\n",
    "                Vu[i] = V[i]*(1 + c*(N[i]/Ns-0.6)/0.4)\n",
    "            elif N[i]<0.4*Ns:\n",
    "                Vu[i] = V[i]/(1+c*(0.4-N[i]/Ns)/0.4)\n",
    "            else:\n",
    "                Vu[i] = V[i]\n",
    "        V = Vu.copy()\n",
    "    T = T*RT\n",
    "    print(\"Coordenadas: \" + layout.format(xbest[0])+\" \"+layout.format(xbest[1])+\" \"+\"Resultado: \"+layout.format(fbest))\n",
    "    fHist.append(fbest)\n",
    "    niter += 1"
   ]
  },
  {
   "cell_type": "code",
   "execution_count": 4,
   "id": "e3289e7a-a7d6-4538-9d3c-22cdbc34bd40",
   "metadata": {
    "execution": {
     "iopub.execute_input": "2022-10-08T19:00:17.460370Z",
     "iopub.status.busy": "2022-10-08T19:00:17.460370Z",
     "iopub.status.idle": "2022-10-08T19:00:17.475636Z",
     "shell.execute_reply": "2022-10-08T19:00:17.474929Z",
     "shell.execute_reply.started": "2022-10-08T19:00:17.460370Z"
    }
   },
   "outputs": [
    {
     "name": "stdout",
     "output_type": "stream",
     "text": [
      "0.014272476927059633\n"
     ]
    }
   ],
   "source": [
    "print(T)"
   ]
  },
  {
   "cell_type": "code",
   "execution_count": 5,
   "id": "7a0f8d9c-5e82-41d6-8855-a7b11dbfc09e",
   "metadata": {
    "execution": {
     "iopub.execute_input": "2022-10-08T19:00:17.475636Z",
     "iopub.status.busy": "2022-10-08T19:00:17.475636Z",
     "iopub.status.idle": "2022-10-08T19:00:17.759329Z",
     "shell.execute_reply": "2022-10-08T19:00:17.759329Z",
     "shell.execute_reply.started": "2022-10-08T19:00:17.475636Z"
    }
   },
   "outputs": [
    {
     "data": {
      "image/png": "[encoded data removed]",
      "text/plain": [
       "<Figure size 576x576 with 1 Axes>"
      ]
     },
     "metadata": {
      "needs_background": "light"
     },
     "output_type": "display_data"
    }
   ],
   "source": [
    "font = {\n",
    "        'size': 16,\n",
    "        }\n",
    "\n",
    "plt.figure(figsize=(8,8))\n",
    "plt.plot(np.arange(0,niter_max+1),fHist)\n",
    "plt.grid()\n",
    "plt.title(f'Convergência {name}', fontdict=font)\n",
    "plt.ylabel(r'Valor da função f($\\vec{x}$)', fontdict=font)\n",
    "plt.xlabel(\"Número de iterações (k)\", fontdict=font)\n",
    "plt.show()"
   ]
  },
  {
   "cell_type": "code",
   "execution_count": 6,
   "id": "9ec1cb2e-0082-4c65-b954-b84154e97054",
   "metadata": {
    "execution": {
     "iopub.execute_input": "2022-10-08T19:00:17.760327Z",
     "iopub.status.busy": "2022-10-08T19:00:17.760327Z",
     "iopub.status.idle": "2022-10-08T19:00:17.775285Z",
     "shell.execute_reply": "2022-10-08T19:00:17.775285Z",
     "shell.execute_reply.started": "2022-10-08T19:00:17.760327Z"
    }
   },
   "outputs": [
    {
     "name": "stdout",
     "output_type": "stream",
     "text": [
      "Quantidade de chamadas da função obj =  20002\n",
      "Tempo de Execução = 368.6918435096741 s\n"
     ]
    }
   ],
   "source": [
    "print(\"Quantidade de chamadas da função obj = \", countFunc)\n",
    "End = time.time()\n",
    "print(\"Tempo de Execução =\", End-Start, \"s\")\t"
   ]
  },
  {
   "cell_type": "code",
   "execution_count": null,
   "id": "ed52408a-341a-4f74-8048-a858ea7f9b9a",
   "metadata": {},
   "outputs": [],
   "source": []
  }
 ],
 "metadata": {
  "kernelspec": {
   "display_name": "Python 3 (ipykernel)",
   "language": "python",
   "name": "python3"
  },
  "language_info": {
   "codemirror_mode": {
    "name": "ipython",
    "version": 3
   },
   "file_extension": ".py",
   "mimetype": "text/x-python",
   "name": "python",
   "nbconvert_exporter": "python",
   "pygments_lexer": "ipython3",
   "version": "3.9.12"
  },
  "vscode": {
   "interpreter": {
    "hash": "f3f3c8e2c70d172923cdd26a18ca64af4bb2e4459cce796237545f1b235e951c"
   }
  }
 },
 "nbformat": 4,
 "nbformat_minor": 5
}
