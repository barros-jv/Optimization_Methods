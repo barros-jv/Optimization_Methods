{
 "cells": [
  {
   "cell_type": "markdown",
   "id": "7de23cfe-94b3-4c6a-9d2c-85cbdd4dd373",
   "metadata": {},
   "source": [
    "## Métodos de Otimização: Métodos Heuristicos"
   ]
  },
  {
   "cell_type": "markdown",
   "id": "3422ef2f-42c6-4265-989f-b8874fe9e0ce",
   "metadata": {},
   "source": [
    "### Recozimento Simulado"
   ]
  },
  {
   "cell_type": "code",
   "execution_count": 10,
   "id": "f61c62b9-bbf3-4087-aeab-df5421d06590",
   "metadata": {
    "tags": []
   },
   "outputs": [],
   "source": [
    "from mpl_toolkits import mplot3d\n",
    "%matplotlib inline\n",
    "\n",
    "import numpy as np\n",
    "import matplotlib.pyplot as plt\n",
    "import sys, os\n",
    "import random\n",
    "from scipy.stats import qmc"
   ]
  },
  {
   "cell_type": "code",
   "execution_count": 11,
   "id": "483f89ea-cff5-43b2-9778-ac41b03408b6",
   "metadata": {},
   "outputs": [],
   "source": [
    "def f(x,nFunc,nVar):\n",
    "    f = open(\"var.dat\", \"w\")\n",
    "    f.write(str(nFunc)+\"\\n\")\n",
    "    f.write(str(nVar)+\"\\n\")\n",
    "    for i in range(0, len(x)):\n",
    "        f.write(str(x[i])+'\\n')\n",
    "    f.close()\n",
    "    \n",
    "    result = os.system(\"funcao.exe\")\n",
    "    \n",
    "    f = open(\"obj.dat\", \"r\")\n",
    "    u = float(f.read())\n",
    "    f.close()\n",
    "    return u"
   ]
  },
  {
   "cell_type": "code",
   "execution_count": 12,
   "id": "a8abc0c6-639c-4d43-8eaa-bcf03cce4261",
   "metadata": {},
   "outputs": [
    {
     "name": "stdout",
     "output_type": "stream",
     "text": [
      "Valor de N: 0.00000 0.00000\n",
      "Valor de V: 3.00000 3.00000\n",
      "Coordenadas: 3.00000 2.00000 Resultado: 0.64453\n",
      "Valor de N: 12.00000 7.00000\n",
      "Valor de V: 19.68750 64.80000\n",
      "Coordenadas: 3.00000 2.00000 Resultado: 0.64453\n",
      "Valor de N: 12.00000 15.00000\n",
      "Valor de V: 10.50000 94.50000\n",
      "Coordenadas: 3.00000 2.00000 Resultado: 0.64453\n",
      "Valor de N: 14.00000 6.00000\n",
      "Valor de V: 7.20000 31.50000\n",
      "Coordenadas: 3.00000 2.00000 Resultado: 0.64453\n",
      "Valor de N: 8.00000 11.00000\n",
      "Valor de V: 5.76000 39.37500\n",
      "Coordenadas: 3.00000 2.00000 Resultado: 0.64453\n",
      "Valor de N: 10.00000 12.00000\n",
      "Valor de V: 8.64000 39.37500\n",
      "Coordenadas: 3.00000 2.00000 Resultado: 0.64453\n",
      "Valor de N: 10.00000 8.00000\n",
      "Valor de V: 21.60000 61.52344\n",
      "Coordenadas: 21.81594 32.81965 Resultado: 0.54818\n",
      "Valor de N: 6.00000 6.00000\n",
      "Valor de V: 9.60000 26.25000\n",
      "Coordenadas: 21.81594 32.81965 Resultado: 0.54818\n",
      "Valor de N: 6.00000 9.00000\n",
      "Valor de V: 17.50000 21.00000\n",
      "Coordenadas: -3.17389 12.53590 Resultado: 0.43644\n",
      "Valor de N: 7.00000 12.00000\n",
      "Valor de V: 11.20000 18.00000\n",
      "Coordenadas: -3.17389 12.53590 Resultado: 0.43644\n",
      "Valor de N: 6.00000 8.00000\n",
      "Valor de V: 5.83333 18.00000\n",
      "Coordenadas: -3.17389 12.53590 Resultado: 0.43644\n",
      "Valor de N: 6.00000 12.00000\n",
      "Valor de V: 6.53333 31.50000\n",
      "Coordenadas: -3.17389 12.53590 Resultado: 0.43644\n",
      "Valor de N: 10.00000 12.00000\n",
      "Valor de V: 5.22667 15.00000\n",
      "Coordenadas: -3.17389 12.53590 Resultado: 0.43644\n",
      "Valor de N: 12.00000 7.00000\n",
      "Valor de V: 5.22667 15.00000\n",
      "Coordenadas: -3.17389 12.53590 Resultado: 0.43644\n",
      "Valor de N: 11.00000 12.00000\n",
      "Valor de V: 4.18133 10.00000\n",
      "Coordenadas: -3.17389 12.53590 Resultado: 0.43644\n",
      "Valor de N: 7.00000 18.00000\n",
      "Valor de V: 2.67605 21.42857\n",
      "Coordenadas: -3.17389 12.53590 Resultado: 0.43644\n",
      "Valor de N: 12.00000 5.00000\n",
      "Valor de V: 8.02816 12.24490\n",
      "Coordenadas: -3.17389 12.53590 Resultado: 0.43644\n",
      "Valor de N: 13.00000 8.00000\n",
      "Valor de V: 10.03520 12.24490\n",
      "Coordenadas: -3.17389 12.53590 Resultado: 0.43644\n",
      "Valor de N: 4.00000 4.00000\n",
      "Valor de V: 2.86720 6.12245\n",
      "Coordenadas: -3.17389 12.53590 Resultado: 0.43644\n",
      "Valor de N: 11.00000 6.00000\n",
      "Valor de V: 7.52640 7.65306\n",
      "Coordenadas: -3.17389 12.53590 Resultado: 0.43644\n",
      "Valor de N: 13.00000 8.00000\n",
      "Valor de V: 6.72000 7.65306\n"
     ]
    }
   ],
   "source": [
    "# Método Baseado no algoritmo de Metropolis-Hasting\n",
    "T = 1000 #Temperatura inicial\n",
    "\n",
    "nFunc = 5; Qvar = 2\n",
    "\n",
    "nvar=2\n",
    "Ns=20\n",
    "Nit=5\n",
    "RT=0.8\n",
    "niter_max = 50\n",
    "#chute incial:\n",
    "x1 = 3\n",
    "x2 = 2\n",
    "\n",
    "xnew=np.zeros(nvar, dtype='float')\n",
    "xold=np.zeros(nvar, dtype='float')\n",
    "xbest=np.zeros(nvar, dtype='float')\n",
    "N=np.zeros(nvar, dtype='float')\n",
    "Vu=np.zeros(nvar, dtype='float')\n",
    "V=3*np.ones(nvar, dtype='float')\n",
    "xmin =np.zeros(Qvar , dtype = 'float')\n",
    "xmax =np.zeros(Qvar , dtype = 'float')\n",
    "layout = \"{0:.5f}\"\n",
    "fHist = []\n",
    "\n",
    "xold[0]=x1; xold[1]=x2; Fold = f(xold,nFunc,Qvar)\n",
    "xbest = xold.copy(); fbest = f(xold,nFunc,Qvar)\n",
    "xmin[0] = -5; xmin[1] = 0\n",
    "xmax[0] = 10; xmax[1] = 15\n",
    "fHist.append(fbest)\n",
    "c = 2\n",
    "niter = 0\n",
    "print(\"Valor de N: \"+layout.format(N[0])+\" \"+layout.format(N[1]))\n",
    "print(\"Valor de V: \"+layout.format(V[0])+\" \"+layout.format(V[1]))\n",
    "while niter<niter_max:\n",
    "    for k in range(0,Nit):\n",
    "        N=np.zeros(nvar, dtype='float')\n",
    "        for j in range(0,Ns):\n",
    "            for i in range(0,nvar):\n",
    "                xnew = xold.copy()\n",
    "                R = random.uniform(-1,1)\n",
    "                xnew[i] = xold[i] + R*V[i]\n",
    "                #xnew[i] = max(min(xnew[i],xmax[i]),xmin[i])\n",
    "                if f(xnew,nFunc,Qvar) < f(xold,nFunc,Qvar):\n",
    "                    xold = xnew.copy()\n",
    "                    N[i] = N[i] + 1\n",
    "                    if f(xnew,nFunc,Qvar) < fbest:\n",
    "                        fbest = f(xnew,nFunc,Qvar)\n",
    "                        xbest = xnew.copy()\n",
    "                else:\n",
    "                    P = np.exp((f(xold,nFunc,Qvar)-f(xnew,nFunc,Qvar))/T)\n",
    "                    R = random.uniform(0,1)\n",
    "                    if P > R:\n",
    "                        xold = xnew.copy()\n",
    "                        N[i] = N[i] + 1\n",
    "        for i in range(0,nvar):\n",
    "            if N[i]>0.6*Ns:\n",
    "                Vu[i] = V[i]*(1 + c*(N[i]/Ns-0.6)/0.4)\n",
    "            elif N[i]<0.4*Ns:\n",
    "                Vu[i] = V[i]/(1+c*(0.4-N[i]/Ns)/0.4)\n",
    "            else:\n",
    "                Vu[i] = V[i]\n",
    "        V = Vu.copy()\n",
    "    T = T*RT\n",
    "    print(\"Coordenadas: \" + layout.format(xbest[0])+\" \"+layout.format(xbest[1])+\" \"+\"Resultado: \"+layout.format(fbest))\n",
    "    print(\"Valor de N: \"+layout.format(N[0])+\" \"+layout.format(N[1]))\n",
    "    print(\"Valor de V: \"+layout.format(V[0])+\" \"+layout.format(V[1]))\n",
    "    fHist.append(fbest)\n",
    "    niter += 1"
   ]
  },
  {
   "cell_type": "code",
   "execution_count": null,
   "id": "e3289e7a-a7d6-4538-9d3c-22cdbc34bd40",
   "metadata": {},
   "outputs": [
    {
     "name": "stdout",
     "output_type": "stream",
     "text": [
      "0.014272476927059633\n"
     ]
    }
   ],
   "source": [
    "print(T)"
   ]
  },
  {
   "cell_type": "code",
   "execution_count": null,
   "id": "48de95e0-6c59-4d54-9f5a-9fd1c251e52e",
   "metadata": {},
   "outputs": [
    {
     "data": {
      "image/png": "[encoded data removed]",
      "text/plain": [
       "<Figure size 576x576 with 1 Axes>"
      ]
     },
     "metadata": {
      "needs_background": "light"
     },
     "output_type": "display_data"
    }
   ],
   "source": [
    "plt.figure(figsize=(8,8))\n",
    "plt.plot(np.arange(0,niter_max+1),fHist)\n",
    "plt.grid()\n",
    "plt.show()"
   ]
  },
  {
   "cell_type": "code",
   "execution_count": null,
   "id": "ed52408a-341a-4f74-8048-a858ea7f9b9a",
   "metadata": {},
   "outputs": [],
   "source": []
  }
 ],
 "metadata": {
  "kernelspec": {
   "display_name": "Python 3.9.12 ('base')",
   "language": "python",
   "name": "python3"
  },
  "language_info": {
   "codemirror_mode": {
    "name": "ipython",
    "version": 3
   },
   "file_extension": ".py",
   "mimetype": "text/x-python",
   "name": "python",
   "nbconvert_exporter": "python",
   "pygments_lexer": "ipython3",
   "version": "3.9.12"
  },
  "vscode": {
   "interpreter": {
    "hash": "f3f3c8e2c70d172923cdd26a18ca64af4bb2e4459cce796237545f1b235e951c"
   }
  }
 },
 "nbformat": 4,
 "nbformat_minor": 5
}
