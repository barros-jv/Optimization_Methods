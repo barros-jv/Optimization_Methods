{
 "cells": [
  {
   "cell_type": "markdown",
   "id": "f5756aa2-c07a-4dae-9af7-703d55183ac1",
   "metadata": {},
   "source": [
    "## Metamodelos: Superfícies de Resposta"
   ]
  },
  {
   "cell_type": "markdown",
   "id": "55f6a08f-13a4-416c-a072-4f9cc22939a9",
   "metadata": {},
   "source": [
    "### Funções de Base Radial (RBF)"
   ]
  },
  {
   "cell_type": "code",
   "execution_count": 1,
   "id": "ac43322f-1f1a-42ce-a1e1-c67f6da4563e",
   "metadata": {
    "execution": {
     "iopub.execute_input": "2022-10-07T23:55:51.102289Z",
     "iopub.status.busy": "2022-10-07T23:55:51.102289Z",
     "iopub.status.idle": "2022-10-07T23:55:51.798619Z",
     "shell.execute_reply": "2022-10-07T23:55:51.798619Z",
     "shell.execute_reply.started": "2022-10-07T23:55:51.102289Z"
    },
    "tags": []
   },
   "outputs": [],
   "source": [
    "from mpl_toolkits import mplot3d\n",
    "%matplotlib inline\n",
    "from mpl_toolkits.mplot3d import Axes3D\n",
    "\n",
    "import numpy as np\n",
    "import matplotlib.pyplot as plt\n",
    "import sys, os\n",
    "import random\n",
    "import time\n",
    "name = 'Funções de Base Radial (RBF)' \n",
    "Start = time.time()"
   ]
  },
  {
   "cell_type": "code",
   "execution_count": 2,
   "id": "42ff8fff-e24a-4793-bd96-740d6b970d94",
   "metadata": {
    "execution": {
     "iopub.execute_input": "2022-10-07T23:55:51.799619Z",
     "iopub.status.busy": "2022-10-07T23:55:51.799619Z",
     "iopub.status.idle": "2022-10-07T23:55:51.813700Z",
     "shell.execute_reply": "2022-10-07T23:55:51.813700Z",
     "shell.execute_reply.started": "2022-10-07T23:55:51.799619Z"
    },
    "tags": []
   },
   "outputs": [],
   "source": [
    "def f(x,nFunc,nVar,countFunc):\n",
    "    f = open(\"var.dat\", \"w\")\n",
    "    f.write(str(nFunc)+\"\\n\")\n",
    "    f.write(str(nVar)+\"\\n\")\n",
    "    for i in range(0, len(x)):\n",
    "        f.write(str(x[i])+'\\n')\n",
    "    f.close()\n",
    "    \n",
    "    result = os.system(\"funcao.exe\")\n",
    "    \n",
    "    f = open(\"obj.dat\", \"r\")\n",
    "    u = float(f.read())\n",
    "    f.close()\n",
    "    countFunc += 1\n",
    "    return u,countFunc"
   ]
  },
  {
   "cell_type": "code",
   "execution_count": 3,
   "id": "5541f1b3-0370-47d2-9327-03e416812719",
   "metadata": {
    "execution": {
     "iopub.execute_input": "2022-10-07T23:55:51.815698Z",
     "iopub.status.busy": "2022-10-07T23:55:51.814733Z",
     "iopub.status.idle": "2022-10-07T23:56:58.826835Z",
     "shell.execute_reply": "2022-10-07T23:56:58.826835Z",
     "shell.execute_reply.started": "2022-10-07T23:55:51.815698Z"
    },
    "tags": []
   },
   "outputs": [],
   "source": [
    "nFunc = 5; Qvar = 2; countFunc=0\n",
    "c = 1.e-15 # Fator de forma\n",
    "Qtp = 3000 # Quantidade de pontos p/ treinamento\n",
    "\n",
    "xmin =np.zeros(Qvar , dtype = 'float')\n",
    "xmax =np.zeros(Qvar , dtype = 'float')\n",
    "r =np.zeros(Qvar , dtype = 'float')\n",
    "xp = np.zeros((Qtp,Qvar) , dtype = 'float')\n",
    "U = np.zeros(Qtp , dtype = 'float')\n",
    "\n",
    "xmin[0] = -5; xmin[1] = 0\n",
    "xmax[0] = 10; xmax[1] = 15\n",
    "\n",
    "#Pontos de treinamento\n",
    "for i in range(0,Qtp):\n",
    "    for j in range(0,Qvar):\n",
    "        flag = True\n",
    "        count=0\n",
    "        while(flag):\n",
    "            r[j] = random.random()\n",
    "            aux = xmin[j]+(1.-r[j])*(xmax[j]-xmin[j])\n",
    "            for k in range(0,Qtp):\n",
    "                if (xp[i,j] == aux):\n",
    "                    count+=1\n",
    "                if count==0:\n",
    "                    flag = False\n",
    "                    xp[i,j] = aux\n",
    "    U[i],countFunc = f(xp[i,:],nFunc,Qvar,countFunc)"
   ]
  },
  {
   "cell_type": "raw",
   "id": "403925ea-4b53-4a1b-b587-dd3b2a9dfd75",
   "metadata": {
    "execution": {
     "iopub.execute_input": "2022-10-07T23:33:05.014344Z",
     "iopub.status.busy": "2022-10-07T23:33:05.014344Z",
     "iopub.status.idle": "2022-10-07T23:33:05.501552Z",
     "shell.execute_reply": "2022-10-07T23:33:05.501552Z",
     "shell.execute_reply.started": "2022-10-07T23:33:05.014344Z"
    },
    "tags": []
   },
   "source": [
    "plt.figure(figsize=(10,10))\n",
    "ax = plt.axes(projection='3d')\n",
    "surf = ax.plot_trisurf(xp[:,0], xp[:,1], U, cmap='viridis', linewidth=0)\n",
    "ax.set_title('Pontos para Treinamento');"
   ]
  },
  {
   "cell_type": "raw",
   "id": "35bbfc42-db8d-4e5d-b9f1-3d52d8efb7bd",
   "metadata": {
    "execution": {
     "iopub.execute_input": "2022-10-07T23:33:05.503548Z",
     "iopub.status.busy": "2022-10-07T23:33:05.502551Z",
     "iopub.status.idle": "2022-10-07T23:33:05.644881Z",
     "shell.execute_reply": "2022-10-07T23:33:05.644881Z",
     "shell.execute_reply.started": "2022-10-07T23:33:05.503548Z"
    },
    "tags": []
   },
   "source": [
    "fig = plt.figure(figsize=(10,10))\n",
    "ax = fig.add_subplot(111, projection='3d')\n",
    "ax.scatter(xp[:,0], xp[:,1], U)\n",
    "ax.set_title(\"Pontos para Treinamento\")\n",
    "plt.show()"
   ]
  },
  {
   "cell_type": "code",
   "execution_count": 4,
   "id": "0e23a863-33b1-4ed8-b7e0-d089c6df2eed",
   "metadata": {
    "execution": {
     "iopub.execute_input": "2022-10-07T23:56:58.827836Z",
     "iopub.status.busy": "2022-10-07T23:56:58.827836Z",
     "iopub.status.idle": "2022-10-07T23:57:27.108667Z",
     "shell.execute_reply": "2022-10-07T23:57:27.108667Z",
     "shell.execute_reply.started": "2022-10-07T23:56:58.827836Z"
    },
    "tags": []
   },
   "outputs": [],
   "source": [
    "psi =np.zeros((Qtp,Qtp) , dtype = 'float')\n",
    "for i in range(0,Qtp):\n",
    "    for j in range(0,Qtp):\n",
    "        aux = 0\n",
    "        for k in range(0,Qvar):\n",
    "            aux = aux + ((xp[i,k]-xp[j,k])**2)\n",
    "        psi[i,j] = np.sqrt(aux+c**2)\n",
    "        \n",
    "phi = np.linalg.solve(psi,U)"
   ]
  },
  {
   "cell_type": "raw",
   "id": "49cd6bc3-be9c-421e-9b31-45d57fbf4c2f",
   "metadata": {
    "execution": {
     "iopub.execute_input": "2022-10-07T23:33:18.359768Z",
     "iopub.status.busy": "2022-10-07T23:33:18.359768Z",
     "iopub.status.idle": "2022-10-07T23:33:53.052616Z",
     "shell.execute_reply": "2022-10-07T23:33:53.052616Z",
     "shell.execute_reply.started": "2022-10-07T23:33:18.359768Z"
    },
    "tags": []
   },
   "source": [
    "Qtp_aval = 5000\n",
    "x_aval = np.zeros((Qtp_aval,Qvar) , dtype = 'float')\n",
    "U_aval = np.zeros(Qtp_aval , dtype = 'float')\n",
    "\n",
    "for i in range(0,Qtp_aval):\n",
    "    for j in range(0,Qvar):\n",
    "        r[j] = random.random()\n",
    "        x_aval[i,j] = xmin[j]+(1.-r[j])*(xmax[j]-xmin[j])\n",
    "\n",
    "for i in range(0,Qtp_aval):\n",
    "    for j in range(0,Qtp):\n",
    "        aux = 0\n",
    "        for k in range(0,Qvar):\n",
    "            aux = aux + ((x_aval[i,k]-xp[j,k])**2)\n",
    "        U_aval[i] = U_aval[i]+(phi[j]*np.sqrt(aux+c**2))"
   ]
  },
  {
   "cell_type": "raw",
   "id": "c235010c-a86a-427c-9225-de209b5d7bab",
   "metadata": {
    "execution": {
     "iopub.execute_input": "2022-10-07T23:33:53.053529Z",
     "iopub.status.busy": "2022-10-07T23:33:53.053529Z",
     "iopub.status.idle": "2022-10-07T23:33:53.257964Z",
     "shell.execute_reply": "2022-10-07T23:33:53.257964Z",
     "shell.execute_reply.started": "2022-10-07T23:33:53.053529Z"
    },
    "tags": []
   },
   "source": [
    "fig = plt.figure(figsize=(10,10))\n",
    "ax = fig.add_subplot(111, projection='3d')\n",
    "ax.scatter(x_aval[:,0],x_aval[:,1], U_aval)\n",
    "ax.set_title(\"Saída da função\")\n",
    "plt.show()"
   ]
  },
  {
   "cell_type": "raw",
   "id": "d9bce9dd-06cf-433b-bd45-34c3dce79fca",
   "metadata": {
    "execution": {
     "iopub.execute_input": "2022-10-07T23:33:53.259959Z",
     "iopub.status.busy": "2022-10-07T23:33:53.258962Z",
     "iopub.status.idle": "2022-10-07T23:33:54.300321Z",
     "shell.execute_reply": "2022-10-07T23:33:54.300321Z",
     "shell.execute_reply.started": "2022-10-07T23:33:53.259959Z"
    },
    "tags": []
   },
   "source": [
    "plt.figure(figsize=(10,10))\n",
    "ax = plt.axes(projection='3d')\n",
    "surf = ax.plot_trisurf(x_aval[:,0],x_aval[:,1], U_aval, cmap='viridis', linewidth=0)\n",
    "ax.set_title('Saída da função')"
   ]
  },
  {
   "cell_type": "code",
   "execution_count": 5,
   "id": "e4ea340f-4e68-4808-8dda-09ff4a5ba534",
   "metadata": {
    "execution": {
     "iopub.execute_input": "2022-10-07T23:57:27.109663Z",
     "iopub.status.busy": "2022-10-07T23:57:27.109663Z",
     "iopub.status.idle": "2022-10-07T23:57:27.124623Z",
     "shell.execute_reply": "2022-10-07T23:57:27.124623Z",
     "shell.execute_reply.started": "2022-10-07T23:57:27.109663Z"
    },
    "tags": []
   },
   "outputs": [],
   "source": [
    "def fobj(x_aval,xp,c,Qtp,Qvar,countFunc):\n",
    "    U_aval = 0\n",
    "    for j in range(0,Qtp):\n",
    "        aux = 0\n",
    "        for k in range(0,Qvar):\n",
    "            aux = aux + ((x_aval[k]-xp[j,k])**2)\n",
    "        U_aval = U_aval+(phi[j]*np.sqrt(aux+c**2))\n",
    "        \n",
    "    countFunc += 1\n",
    "    return U_aval,countFunc"
   ]
  },
  {
   "cell_type": "markdown",
   "id": "b92c64a6-f643-422a-ba90-67efcb94cac6",
   "metadata": {},
   "source": [
    "__Enxame de Partícula__ "
   ]
  },
  {
   "cell_type": "code",
   "execution_count": 6,
   "id": "b8adebce-aaed-4193-b987-25814d53aaa2",
   "metadata": {
    "execution": {
     "iopub.execute_input": "2022-10-07T23:57:27.125621Z",
     "iopub.status.busy": "2022-10-07T23:57:27.125621Z",
     "iopub.status.idle": "2022-10-07T23:57:27.140580Z",
     "shell.execute_reply": "2022-10-07T23:57:27.140580Z",
     "shell.execute_reply.started": "2022-10-07T23:57:27.125621Z"
    },
    "tags": []
   },
   "outputs": [],
   "source": [
    "name = 'Enxame de Partículas + RBF' "
   ]
  },
  {
   "cell_type": "code",
   "execution_count": 7,
   "id": "b3b0bf6b-adf5-4de6-853a-e5b02a3a296d",
   "metadata": {
    "execution": {
     "iopub.execute_input": "2022-10-07T23:57:27.141579Z",
     "iopub.status.busy": "2022-10-07T23:57:27.141579Z",
     "iopub.status.idle": "2022-10-07T23:57:27.156567Z",
     "shell.execute_reply": "2022-10-07T23:57:27.156567Z",
     "shell.execute_reply.started": "2022-10-07T23:57:27.141579Z"
    },
    "tags": []
   },
   "outputs": [],
   "source": [
    "Qtind = 50; kmax = 150; countFunc = 0\n",
    "\n",
    "pop =np.zeros((Qtind,Qvar) , dtype = 'float')\n",
    "fHist = []\n",
    "fpop =np.zeros(Qtind , dtype = 'float')\n",
    "fsol =np.zeros(Qtind , dtype = 'float')\n",
    "pbest =np.zeros(Qvar , dtype = 'float')\n",
    "r1 =np.zeros(Qvar , dtype = 'float')\n",
    "r2 =np.zeros(Qvar , dtype = 'float')"
   ]
  },
  {
   "cell_type": "code",
   "execution_count": 8,
   "id": "a42ea36e-179f-4c4c-bd10-e788cbbe8bb4",
   "metadata": {
    "execution": {
     "iopub.execute_input": "2022-10-07T23:57:27.157535Z",
     "iopub.status.busy": "2022-10-07T23:57:27.157535Z",
     "iopub.status.idle": "2022-10-07T23:57:27.692764Z",
     "shell.execute_reply": "2022-10-07T23:57:27.692764Z",
     "shell.execute_reply.started": "2022-10-07T23:57:27.157535Z"
    },
    "tags": []
   },
   "outputs": [
    {
     "data": {
      "image/png": "[encoded data removed]",
      "text/plain": [
       "<Figure size 432x288 with 1 Axes>"
      ]
     },
     "metadata": {
      "needs_background": "light"
     },
     "output_type": "display_data"
    }
   ],
   "source": [
    "#criando a populacao inicial e suas funcoes objetivo\n",
    "#o melhor individuo ja esta definido (pop == pi)\n",
    "\n",
    "for i in range(0, Qtind):\n",
    "    for j in range(0, Qvar):\n",
    "        r[j] = random.random()\n",
    "        pop[i,j] = xmin[j]+(1.-r[j])*(xmax[j]-xmin[j])\n",
    "    fpop[i],countFunc = fobj(pop[i,:],xp,c,Qtp,Qvar,countFunc)\n",
    "\n",
    "plt.plot(pop[:,0], pop[:,1], 'bo')\n",
    "plt.show()"
   ]
  },
  {
   "cell_type": "code",
   "execution_count": 9,
   "id": "6d9b3e48-435b-4f2f-b77e-b794026dbcf7",
   "metadata": {
    "execution": {
     "iopub.execute_input": "2022-10-07T23:57:27.693766Z",
     "iopub.status.busy": "2022-10-07T23:57:27.693766Z",
     "iopub.status.idle": "2022-10-07T23:57:27.708498Z",
     "shell.execute_reply": "2022-10-07T23:57:27.708019Z",
     "shell.execute_reply.started": "2022-10-07T23:57:27.693766Z"
    },
    "tags": []
   },
   "outputs": [
    {
     "name": "stdout",
     "output_type": "stream",
     "text": [
      "2.666342279710988\n"
     ]
    }
   ],
   "source": [
    "minlocobj=np.argmin(fpop)\n",
    "pbest[:]=pop[minlocobj,:]\n",
    "fbest=fpop[minlocobj]\n",
    "print(fbest)"
   ]
  },
  {
   "cell_type": "code",
   "execution_count": 10,
   "id": "ae8ebfc1-47f7-49fe-aac6-c67be6be5887",
   "metadata": {
    "execution": {
     "iopub.execute_input": "2022-10-07T23:57:27.708498Z",
     "iopub.status.busy": "2022-10-07T23:57:27.708498Z",
     "iopub.status.idle": "2022-10-07T23:58:29.432907Z",
     "shell.execute_reply": "2022-10-07T23:58:29.432213Z",
     "shell.execute_reply.started": "2022-10-07T23:57:27.708498Z"
    },
    "scrolled": true,
    "tags": []
   },
   "outputs": [
    {
     "name": "stdout",
     "output_type": "stream",
     "text": [
      "9.52945 2.96659 0.63884\n",
      "9.42180 2.49402 0.42034\n",
      "9.42180 2.49402 0.42034\n",
      "9.38275 2.52235 0.41997\n",
      "9.41467 2.54567 0.40827\n",
      "9.41444 2.54374 0.40824\n",
      "9.41644 2.54337 0.40819\n",
      "9.41805 2.54363 0.40818\n",
      "9.41753 2.54387 0.40818\n",
      "9.41808 2.54480 0.40818\n",
      "9.41878 2.54523 0.40818\n",
      "9.41847 2.54501 0.40818\n",
      "9.41847 2.54501 0.40818\n",
      "9.41850 2.54501 0.40818\n",
      "9.41850 2.54501 0.40818\n",
      "9.41849 2.54501 0.40818\n",
      "9.41849 2.54501 0.40818\n",
      "9.41849 2.54501 0.40818\n",
      "9.41849 2.54501 0.40818\n",
      "9.41849 2.54501 0.40818\n",
      "9.41849 2.54500 0.40818\n",
      "9.41849 2.54500 0.40818\n",
      "9.41849 2.54500 0.40818\n",
      "9.41849 2.54500 0.40818\n",
      "9.41849 2.54500 0.40818\n",
      "9.41849 2.54500 0.40818\n",
      "9.41849 2.54500 0.40818\n",
      "9.41849 2.54500 0.40818\n",
      "9.41849 2.54500 0.40818\n",
      "9.41849 2.54500 0.40818\n",
      "9.41849 2.54500 0.40818\n",
      "9.41849 2.54500 0.40818\n",
      "9.41849 2.54500 0.40818\n",
      "9.41849 2.54500 0.40818\n",
      "9.41849 2.54500 0.40818\n",
      "9.41849 2.54500 0.40818\n",
      "9.41849 2.54500 0.40818\n",
      "9.41849 2.54500 0.40818\n",
      "9.41849 2.54500 0.40818\n",
      "9.41849 2.54500 0.40818\n",
      "9.41849 2.54500 0.40818\n",
      "9.41849 2.54500 0.40818\n",
      "9.41849 2.54500 0.40818\n",
      "9.41849 2.54500 0.40818\n",
      "9.41849 2.54500 0.40818\n",
      "9.41849 2.54500 0.40818\n",
      "9.41849 2.54500 0.40818\n",
      "9.41849 2.54500 0.40818\n",
      "9.41849 2.54500 0.40818\n",
      "9.41849 2.54500 0.40818\n",
      "9.41849 2.54500 0.40818\n",
      "9.41849 2.54500 0.40818\n",
      "9.41849 2.54500 0.40818\n",
      "9.41849 2.54500 0.40818\n",
      "9.41849 2.54500 0.40818\n",
      "9.41849 2.54500 0.40818\n",
      "9.41849 2.54500 0.40818\n",
      "9.41849 2.54500 0.40818\n",
      "9.41849 2.54500 0.40818\n",
      "9.41849 2.54500 0.40818\n",
      "9.41849 2.54500 0.40818\n",
      "9.41849 2.54500 0.40818\n",
      "9.41849 2.54500 0.40818\n",
      "9.41849 2.54500 0.40818\n",
      "9.41849 2.54500 0.40818\n",
      "9.41849 2.54500 0.40818\n",
      "9.41849 2.54500 0.40818\n",
      "9.41849 2.54500 0.40818\n",
      "9.41849 2.54500 0.40818\n",
      "9.41849 2.54500 0.40818\n",
      "9.41849 2.54500 0.40818\n",
      "9.41849 2.54500 0.40818\n",
      "9.41849 2.54500 0.40818\n",
      "9.41849 2.54500 0.40818\n",
      "9.41849 2.54500 0.40818\n",
      "9.41849 2.54500 0.40818\n",
      "9.41849 2.54500 0.40818\n",
      "9.41849 2.54500 0.40818\n",
      "9.41849 2.54500 0.40818\n",
      "9.41849 2.54500 0.40818\n",
      "9.41849 2.54500 0.40818\n",
      "9.41849 2.54500 0.40818\n",
      "9.41849 2.54500 0.40818\n",
      "9.41849 2.54500 0.40818\n",
      "9.41849 2.54500 0.40818\n",
      "9.41849 2.54500 0.40818\n",
      "9.41849 2.54500 0.40818\n",
      "9.41849 2.54500 0.40818\n",
      "9.41849 2.54500 0.40818\n",
      "9.41849 2.54500 0.40818\n",
      "9.41849 2.54500 0.40818\n",
      "9.41849 2.54500 0.40818\n",
      "9.41849 2.54500 0.40818\n",
      "9.41849 2.54500 0.40818\n",
      "9.41849 2.54500 0.40818\n",
      "9.41849 2.54500 0.40818\n",
      "9.41849 2.54500 0.40818\n",
      "9.41849 2.54500 0.40818\n",
      "9.41849 2.54500 0.40818\n",
      "9.41849 2.54500 0.40818\n",
      "9.41849 2.54500 0.40818\n",
      "9.41849 2.54500 0.40818\n",
      "9.41849 2.54500 0.40818\n",
      "9.41849 2.54500 0.40818\n",
      "9.41849 2.54500 0.40818\n",
      "9.41849 2.54500 0.40818\n",
      "9.41849 2.54500 0.40818\n",
      "9.41849 2.54500 0.40818\n",
      "9.41849 2.54500 0.40818\n",
      "9.41849 2.54500 0.40818\n",
      "9.41849 2.54500 0.40818\n",
      "9.41849 2.54500 0.40818\n",
      "9.41849 2.54500 0.40818\n",
      "9.41849 2.54500 0.40818\n",
      "9.41849 2.54500 0.40818\n",
      "9.41849 2.54500 0.40818\n",
      "9.41849 2.54500 0.40818\n",
      "9.41849 2.54500 0.40818\n",
      "9.41849 2.54500 0.40818\n",
      "9.41849 2.54500 0.40818\n",
      "9.41849 2.54500 0.40818\n",
      "9.41849 2.54500 0.40818\n",
      "9.41849 2.54500 0.40818\n",
      "9.41849 2.54500 0.40818\n",
      "9.41849 2.54500 0.40818\n",
      "9.41849 2.54500 0.40818\n",
      "9.41849 2.54500 0.40818\n",
      "9.41849 2.54500 0.40818\n",
      "9.41849 2.54500 0.40818\n",
      "9.41849 2.54500 0.40818\n",
      "9.41849 2.54500 0.40818\n",
      "9.41849 2.54500 0.40818\n",
      "9.41849 2.54500 0.40818\n",
      "9.41849 2.54500 0.40818\n",
      "9.41849 2.54500 0.40818\n",
      "9.41849 2.54500 0.40818\n",
      "9.41849 2.54500 0.40818\n",
      "9.41849 2.54500 0.40818\n",
      "9.41849 2.54500 0.40818\n",
      "9.41849 2.54500 0.40818\n",
      "9.41849 2.54500 0.40818\n",
      "9.41849 2.54500 0.40818\n",
      "9.41849 2.54500 0.40818\n",
      "9.41849 2.54500 0.40818\n",
      "9.41849 2.54500 0.40818\n",
      "9.41849 2.54500 0.40818\n",
      "9.41849 2.54500 0.40818\n",
      "9.41849 2.54500 0.40818\n",
      "9.41849 2.54500 0.40818\n",
      "9.41849 2.54500 0.40818\n"
     ]
    }
   ],
   "source": [
    "x=pop.copy()\n",
    "layout = \"{0:.5f}\"\n",
    "k=0\n",
    "while k < kmax:\n",
    "    k += 1\n",
    "    for i in range(0, Qtind):\n",
    "        for j in range(0, Qvar):\n",
    "            r1[j] = random.random()\n",
    "            r2[j] = random.random()\n",
    "            x[i,j] = x[i,j] + 2.*r1[j]*(pop[i,j]-x[i,j]) + 2.*r2[j]*(pbest[j]-x[i,j])\n",
    "            x[i,j] = max(min(x[i,j],xmax[j]),xmin[j])\n",
    "\n",
    "        fsol[i],countFunc = fobj(x[i,:],xp,c,Qtp,Qvar,countFunc)\n",
    "        \n",
    "    for i in range(0, Qtind):\n",
    "        if fsol[i] < fpop[i] :\n",
    "            fpop[i]=fsol[i]\n",
    "            pop[i,:]=x[i,:]\n",
    "    \n",
    "    minlocobj=np.argmin(fpop)\n",
    "    pbest[:]=pop[minlocobj,:]\n",
    "    fbest=fpop[minlocobj]\n",
    "    print(layout.format(pbest[0])+\" \"+layout.format(pbest[1])+\" \"+layout.format(fbest))\n",
    "    fHist.append(fbest)\n",
    "    "
   ]
  },
  {
   "cell_type": "code",
   "execution_count": 11,
   "id": "0c31d256-7d6c-4046-b85a-06ebaa897afa",
   "metadata": {
    "execution": {
     "iopub.execute_input": "2022-10-07T23:58:29.432907Z",
     "iopub.status.busy": "2022-10-07T23:58:29.432907Z",
     "iopub.status.idle": "2022-10-07T23:58:29.681267Z",
     "shell.execute_reply": "2022-10-07T23:58:29.680656Z",
     "shell.execute_reply.started": "2022-10-07T23:58:29.432907Z"
    }
   },
   "outputs": [
    {
     "data": {
      "image/png": "[encoded data removed]",
      "text/plain": [
       "<Figure size 576x576 with 1 Axes>"
      ]
     },
     "metadata": {
      "needs_background": "light"
     },
     "output_type": "display_data"
    }
   ],
   "source": [
    "font = {\n",
    "        'size': 16,\n",
    "        }\n",
    "\n",
    "plt.figure(figsize=(8,8))\n",
    "plt.plot(np.arange(0,k),fHist)\n",
    "plt.grid()\n",
    "plt.title(f'Convergência {name}', fontdict=font)\n",
    "plt.ylabel(r'Valor da função f($\\vec{x}$)', fontdict=font)\n",
    "plt.xlabel(\"Número de iterações (k)\", fontdict=font)\n",
    "plt.show()"
   ]
  },
  {
   "cell_type": "code",
   "execution_count": 12,
   "id": "457816e4-1fa9-4127-af22-0e213a0253a8",
   "metadata": {
    "execution": {
     "iopub.execute_input": "2022-10-07T23:58:29.682266Z",
     "iopub.status.busy": "2022-10-07T23:58:29.682266Z",
     "iopub.status.idle": "2022-10-07T23:58:29.696562Z",
     "shell.execute_reply": "2022-10-07T23:58:29.696562Z",
     "shell.execute_reply.started": "2022-10-07T23:58:29.682266Z"
    }
   },
   "outputs": [
    {
     "name": "stdout",
     "output_type": "stream",
     "text": [
      "Quantidade de chamadas da função obj =  7550\n",
      "Tempo de Execução = 157.90066957473755 s\n"
     ]
    }
   ],
   "source": [
    "print(\"Quantidade de chamadas da função obj = \", countFunc)\n",
    "End = time.time()\n",
    "print(\"Tempo de Execução =\", End-Start, \"s\")\t"
   ]
  },
  {
   "cell_type": "code",
   "execution_count": null,
   "id": "a7f6b3a7-9377-4436-8f86-fae6cbc207b9",
   "metadata": {},
   "outputs": [],
   "source": []
  }
 ],
 "metadata": {
  "kernelspec": {
   "display_name": "Python 3 (ipykernel)",
   "language": "python",
   "name": "python3"
  },
  "language_info": {
   "codemirror_mode": {
    "name": "ipython",
    "version": 3
   },
   "file_extension": ".py",
   "mimetype": "text/x-python",
   "name": "python",
   "nbconvert_exporter": "python",
   "pygments_lexer": "ipython3",
   "version": "3.9.12"
  },
  "vscode": {
   "interpreter": {
    "hash": "f3f3c8e2c70d172923cdd26a18ca64af4bb2e4459cce796237545f1b235e951c"
   }
  }
 },
 "nbformat": 4,
 "nbformat_minor": 5
}
