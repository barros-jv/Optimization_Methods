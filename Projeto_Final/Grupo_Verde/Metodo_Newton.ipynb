{
 "cells": [
  {
   "cell_type": "markdown",
   "id": "ef79a4e6-6939-4d6b-84fe-d13482fd88fd",
   "metadata": {},
   "source": [
    "## Métodos de Otimização: Métodos de procura multidimensional"
   ]
  },
  {
   "cell_type": "markdown",
   "id": "271be518-c664-42cd-8bab-0b29e10415ce",
   "metadata": {},
   "source": [
    "### Método de Newton - Diferenças finitas"
   ]
  },
  {
   "cell_type": "markdown",
   "id": "735757ac-85a5-4fb6-8a51-dbd5765e9323",
   "metadata": {},
   "source": [
    "__Imports:__"
   ]
  },
  {
   "cell_type": "code",
   "execution_count": 1,
   "id": "ac7eea8e-0c30-4ea0-a16b-6de129a3cb3e",
   "metadata": {
    "execution": {
     "iopub.execute_input": "2022-10-04T22:27:07.856913Z",
     "iopub.status.busy": "2022-10-04T22:27:07.855920Z",
     "iopub.status.idle": "2022-10-04T22:27:08.534905Z",
     "shell.execute_reply": "2022-10-04T22:27:08.534905Z",
     "shell.execute_reply.started": "2022-10-04T22:27:07.856913Z"
    }
   },
   "outputs": [],
   "source": [
    "import numpy as np\n",
    "import matplotlib.pyplot as plt\n",
    "import sys, os\n",
    "import time\n",
    "name = 'Newton' \n",
    "Start = time.time()"
   ]
  },
  {
   "cell_type": "markdown",
   "id": "e5d6f3e8-9bc9-4bc9-9fdd-c1e752d8f1c5",
   "metadata": {},
   "source": [
    "__Função Avaliada:__"
   ]
  },
  {
   "cell_type": "code",
   "execution_count": 2,
   "id": "089b13fd-bffe-40fb-8021-933429a2e905",
   "metadata": {
    "execution": {
     "iopub.execute_input": "2022-10-04T22:27:08.534905Z",
     "iopub.status.busy": "2022-10-04T22:27:08.534905Z",
     "iopub.status.idle": "2022-10-04T22:27:08.570751Z",
     "shell.execute_reply": "2022-10-04T22:27:08.570751Z",
     "shell.execute_reply.started": "2022-10-04T22:27:08.534905Z"
    }
   },
   "outputs": [],
   "source": [
    "x=np.zeros(2 , dtype = 'float')\n",
    "G =np.zeros(2 , dtype = 'float')\n",
    "\n",
    "def f(x,nFunc,nVar,countFunc):\n",
    "    f = open(\"var.dat\", \"w\")\n",
    "    f.write(str(nFunc)+\"\\n\")\n",
    "    f.write(str(nVar)+\"\\n\")\n",
    "    for i in range(0, len(x)):\n",
    "        f.write(str(x[i])+'\\n')\n",
    "    f.close()\n",
    "    \n",
    "    result = os.system(\"funcao.exe\")\n",
    "    \n",
    "    f = open(\"obj.dat\", \"r\")\n",
    "    u = float(f.read())\n",
    "    f.close()\n",
    "    countFunc += 1\n",
    "    return u,countFunc"
   ]
  },
  {
   "cell_type": "markdown",
   "id": "348be5e3-48b4-4218-ad31-40119ca18ca0",
   "metadata": {},
   "source": [
    "__Método:__"
   ]
  },
  {
   "cell_type": "code",
   "execution_count": 3,
   "id": "6ad3a80d-f7ba-4ef2-bf80-b74076aecdf8",
   "metadata": {
    "execution": {
     "iopub.execute_input": "2022-10-04T22:27:08.572722Z",
     "iopub.status.busy": "2022-10-04T22:27:08.571724Z",
     "iopub.status.idle": "2022-10-04T22:27:08.593765Z",
     "shell.execute_reply": "2022-10-04T22:27:08.593765Z",
     "shell.execute_reply.started": "2022-10-04T22:27:08.572722Z"
    }
   },
   "outputs": [],
   "source": [
    "def grad(x,countFunc):\n",
    "    epsilon = 1.e-10\n",
    "    nFunc = 5; Qvar = 2\n",
    "    \n",
    "    for i in range(0,len(x)):\n",
    "        xtmp=x.copy()\n",
    "        xtmp[i]=xtmp[i]+epsilon\n",
    "        F_xtmp, countFunc = f(xtmp,nFunc,Qvar,countFunc)\n",
    "        F_x, countFunc = f(x,nFunc,Qvar,countFunc)\n",
    "        G[i]=(F_xtmp-F_x)/epsilon\n",
    "    \n",
    "    return G,countFunc"
   ]
  },
  {
   "cell_type": "code",
   "execution_count": 4,
   "id": "eed46818-1dd0-48bb-a9b2-294af5eccbe9",
   "metadata": {
    "execution": {
     "iopub.execute_input": "2022-10-04T22:27:08.594738Z",
     "iopub.status.busy": "2022-10-04T22:27:08.594738Z",
     "iopub.status.idle": "2022-10-04T22:27:08.609762Z",
     "shell.execute_reply": "2022-10-04T22:27:08.609762Z",
     "shell.execute_reply.started": "2022-10-04T22:27:08.594738Z"
    }
   },
   "outputs": [],
   "source": [
    "def hessian(x,countFunc,delta=1e-3):\n",
    "    nFunc = 5; Qvar = 2\n",
    "    n = len(x)\n",
    "    output = np.zeros((n,n), dtype='float')\n",
    "    for i in range(n):\n",
    "        for j in range(n):\n",
    "            ei = np.zeros(n)\n",
    "            ei[i] = 1\n",
    "            ej = np.zeros(n)\n",
    "            ej[j] = 1\n",
    "            f1,countFunc = f(x + delta * ei + delta * ej,nFunc,Qvar,countFunc)\n",
    "            f2,countFunc = f(x + delta * ei - delta * ej,nFunc,Qvar,countFunc)\n",
    "            f3,countFunc = f(x - delta * ei + delta * ej,nFunc,Qvar,countFunc)\n",
    "            f4,countFunc = f(x - delta * ei - delta * ej,nFunc,Qvar,countFunc)\n",
    "            numdiff = (f1-f2-f3+f4)/(4*delta*delta)\n",
    "            output[i,j] = numdiff\n",
    "    return output,countFunc"
   ]
  },
  {
   "cell_type": "code",
   "execution_count": 5,
   "id": "4e18950e-0d64-40f8-ad99-bd91d5b24925",
   "metadata": {
    "execution": {
     "iopub.execute_input": "2022-10-04T22:27:08.610735Z",
     "iopub.status.busy": "2022-10-04T22:27:08.610735Z",
     "iopub.status.idle": "2022-10-04T22:27:11.892847Z",
     "shell.execute_reply": "2022-10-04T22:27:11.892847Z",
     "shell.execute_reply.started": "2022-10-04T22:27:08.610735Z"
    }
   },
   "outputs": [
    {
     "name": "stdout",
     "output_type": "stream",
     "text": [
      "3.13960 2.27403 0.39791\n",
      "3.14159 2.27500 0.39789\n",
      "3.14159 2.27500 0.39789\n",
      "3.14159 2.27500 0.39789\n",
      "3.14159 2.27500 0.39789\n",
      "3.14159 2.27500 0.39789\n",
      "3.14159 2.27500 0.39789\n",
      "3.14159 2.27500 0.39789\n",
      "3.14159 2.27500 0.39789\n",
      "3.14159 2.27500 0.39789\n"
     ]
    }
   ],
   "source": [
    "nFunc = 5; Qvar = 2; countFunc = 0\n",
    "\n",
    "G=np.zeros(Qvar, dtype='float')\n",
    "D2=np.zeros(Qvar, dtype='float')\n",
    "D2_partial=np.zeros(Qvar, dtype='float')\n",
    "xnew=np.zeros(Qvar, dtype='float')\n",
    "xold=np.zeros(Qvar, dtype='float')\n",
    "kmax=10; k=0\n",
    "xold[0]=3; xold[1]=2; F0,countFunc = f(xold,nFunc,Qvar,countFunc)\n",
    "layout = \"{0:.5f}\"\n",
    "fHist = []\n",
    "\n",
    "while k < kmax:\n",
    "    k += 1\n",
    "    # Calculo Gradiente\n",
    "    G,countFunc = grad(xold,countFunc)\n",
    "\n",
    "    # calcula a inversa do Hessiano\n",
    "    H,countFunc = hessian(xold,countFunc)\n",
    "    \n",
    "    # Processo iterativo\n",
    "    if np.linalg.det(H) == 0:\n",
    "        print('Flag: Matriz Singular')\n",
    "        xnew=xold-G\n",
    "    else:\n",
    "        Hinv = np.linalg.inv(H)\n",
    "        xnew=xold-np.matmul(Hinv,G)\n",
    "    \n",
    "    #Atualiza xold\n",
    "    xold = xnew.copy()\n",
    "    \n",
    "    #Calculo da função\n",
    "    F,countFunc = f(xnew,nFunc,Qvar,countFunc)\n",
    "    print(layout.format(xnew[0])+\" \"+layout.format(xnew[1])+\" \"+layout.format(F))\n",
    "    fHist.append(F)"
   ]
  },
  {
   "cell_type": "code",
   "execution_count": 6,
   "id": "c9606149-8d98-44ac-aaf4-7ce691023a0a",
   "metadata": {
    "execution": {
     "iopub.execute_input": "2022-10-04T22:27:11.893844Z",
     "iopub.status.busy": "2022-10-04T22:27:11.893844Z",
     "iopub.status.idle": "2022-10-04T22:27:12.159757Z",
     "shell.execute_reply": "2022-10-04T22:27:12.159757Z",
     "shell.execute_reply.started": "2022-10-04T22:27:11.893844Z"
    }
   },
   "outputs": [
    {
     "data": {
      "image/png": "[encoded data removed]",
      "text/plain": [
       "<Figure size 576x576 with 1 Axes>"
      ]
     },
     "metadata": {
      "needs_background": "light"
     },
     "output_type": "display_data"
    }
   ],
   "source": [
    "font = {\n",
    "        'size': 16,\n",
    "        }\n",
    "\n",
    "plt.figure(figsize=(8,8))\n",
    "plt.plot(np.arange(0,k),fHist)\n",
    "plt.grid()\n",
    "plt.title(f'Convergência {name}', fontdict=font)\n",
    "plt.ylabel(r'Valor da função f($\\vec{x}$)', fontdict=font)\n",
    "plt.xlabel(\"Número de iterações (k)\", fontdict=font)\n",
    "plt.show()"
   ]
  },
  {
   "cell_type": "code",
   "execution_count": 7,
   "id": "50858e94-91a5-4560-a70b-71fb07d59991",
   "metadata": {
    "execution": {
     "iopub.execute_input": "2022-10-04T22:27:12.160757Z",
     "iopub.status.busy": "2022-10-04T22:27:12.160757Z",
     "iopub.status.idle": "2022-10-04T22:27:12.175640Z",
     "shell.execute_reply": "2022-10-04T22:27:12.175640Z",
     "shell.execute_reply.started": "2022-10-04T22:27:12.160757Z"
    },
    "tags": []
   },
   "outputs": [
    {
     "name": "stdout",
     "output_type": "stream",
     "text": [
      "Quantidade de chamadas da função obj =  211\n",
      "Tempo de Execução = 3.6470370292663574 s\n"
     ]
    }
   ],
   "source": [
    "print(\"Quantidade de chamadas da função obj = \", countFunc)\n",
    "End = time.time()\n",
    "print(\"Tempo de Execução =\", End-Start, \"s\")\t"
   ]
  }
 ],
 "metadata": {
  "kernelspec": {
   "display_name": "Python 3 (ipykernel)",
   "language": "python",
   "name": "python3"
  },
  "language_info": {
   "codemirror_mode": {
    "name": "ipython",
    "version": 3
   },
   "file_extension": ".py",
   "mimetype": "text/x-python",
   "name": "python",
   "nbconvert_exporter": "python",
   "pygments_lexer": "ipython3",
   "version": "3.9.12"
  },
  "vscode": {
   "interpreter": {
    "hash": "f3f3c8e2c70d172923cdd26a18ca64af4bb2e4459cce796237545f1b235e951c"
   }
  }
 },
 "nbformat": 4,
 "nbformat_minor": 5
}
