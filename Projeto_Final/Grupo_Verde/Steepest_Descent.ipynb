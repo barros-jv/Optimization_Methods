{
 "cells": [
  {
   "cell_type": "markdown",
   "id": "0d9595e0-0e16-458e-84b0-a4f3b58fa0bc",
   "metadata": {},
   "source": [
    "## Métodos de Otimização: Métodos de procura multidimensional"
   ]
  },
  {
   "cell_type": "markdown",
   "id": "50fe44eb-309c-4091-8739-efc761d63d02",
   "metadata": {},
   "source": [
    "### Steepest Descent - Diferenças finitas"
   ]
  },
  {
   "cell_type": "markdown",
   "id": "56fa8e38-1e9f-451b-95c0-7ffce26b2f8f",
   "metadata": {},
   "source": [
    "__Imports:__"
   ]
  },
  {
   "cell_type": "code",
   "execution_count": 103,
   "id": "e1786854-3924-4bb0-9b22-08e91bbccb91",
   "metadata": {
    "execution": {
     "iopub.execute_input": "2022-08-06T13:04:30.212724Z",
     "iopub.status.busy": "2022-08-06T13:04:30.212724Z",
     "iopub.status.idle": "2022-08-06T13:04:30.861601Z",
     "shell.execute_reply": "2022-08-06T13:04:30.860937Z",
     "shell.execute_reply.started": "2022-08-06T13:04:30.212724Z"
    }
   },
   "outputs": [],
   "source": [
    "import numpy as np\n",
    "import matplotlib.pyplot as plt\n",
    "import sys, os\n",
    "import time\n",
    "name = 'Steepest Descent' \n",
    "Start = time.time()"
   ]
  },
  {
   "cell_type": "markdown",
   "id": "d69da1d6-c0e6-458d-bd34-75479cf9745f",
   "metadata": {},
   "source": [
    "__Função Avaliada:__"
   ]
  },
  {
   "cell_type": "code",
   "execution_count": 104,
   "id": "3599d712-192d-4c34-b504-263764080f61",
   "metadata": {
    "execution": {
     "iopub.execute_input": "2022-08-06T13:04:30.862601Z",
     "iopub.status.busy": "2022-08-06T13:04:30.861601Z",
     "iopub.status.idle": "2022-08-06T13:04:30.876184Z",
     "shell.execute_reply": "2022-08-06T13:04:30.876184Z",
     "shell.execute_reply.started": "2022-08-06T13:04:30.862601Z"
    }
   },
   "outputs": [],
   "source": [
    "x=np.zeros(2 , dtype = 'float')\n",
    "G =np.zeros(2 , dtype = 'float')\n",
    "\n",
    "def f(x,nFunc,nVar,countFunc):\n",
    "    f = open(\"var.dat\", \"w\")\n",
    "    f.write(str(nFunc)+\"\\n\")\n",
    "    f.write(str(nVar)+\"\\n\")\n",
    "    for i in range(0, len(x)):\n",
    "        f.write(str(x[i])+'\\n')\n",
    "    f.close()\n",
    "    \n",
    "    result = os.system(\"funcao.exe\")\n",
    "    \n",
    "    f = open(\"obj.dat\", \"r\")\n",
    "    u = float(f.read())\n",
    "    f.close()\n",
    "    countFunc += 1\n",
    "    return u,countFunc"
   ]
  },
  {
   "cell_type": "markdown",
   "id": "eb8e9259-295e-4222-a223-41995394e432",
   "metadata": {},
   "source": [
    "__Método:__"
   ]
  },
  {
   "cell_type": "code",
   "execution_count": 105,
   "id": "eefddf56-da51-4bde-bc9a-2d5939a1b7d7",
   "metadata": {
    "execution": {
     "iopub.execute_input": "2022-08-06T13:04:31.321147Z",
     "iopub.status.busy": "2022-08-06T13:04:31.321147Z",
     "iopub.status.idle": "2022-08-06T13:04:31.336107Z",
     "shell.execute_reply": "2022-08-06T13:04:31.336107Z",
     "shell.execute_reply.started": "2022-08-06T13:04:31.321147Z"
    }
   },
   "outputs": [],
   "source": [
    "def grad(x,countFunc):\n",
    "    epsilon = 1.e-10\n",
    "    nFunc = 5; Qvar = 2\n",
    "    \n",
    "    for i in range(0,len(x)):\n",
    "        xtmp=x.copy()\n",
    "        xtmp[i]=xtmp[i]+epsilon\n",
    "        F_xtmp, countFunc = f(xtmp,nFunc,Qvar,countFunc)\n",
    "        F_x, countFunc = f(x,nFunc,Qvar,countFunc)\n",
    "        G[i]=(F_xtmp-F_x)/epsilon\n",
    "    \n",
    "    return G,countFunc"
   ]
  },
  {
   "cell_type": "code",
   "execution_count": 106,
   "id": "3097dcac-c84f-47dd-8377-bb754b68f972",
   "metadata": {
    "execution": {
     "iopub.execute_input": "2022-08-06T13:04:31.337104Z",
     "iopub.status.busy": "2022-08-06T13:04:31.337104Z",
     "iopub.status.idle": "2022-08-06T13:04:32.821114Z",
     "shell.execute_reply": "2022-08-06T13:04:32.821114Z",
     "shell.execute_reply.started": "2022-08-06T13:04:31.337104Z"
    }
   },
   "outputs": [
    {
     "name": "stdout",
     "output_type": "stream",
     "text": [
      "3.00000 3.00000 0.86851\n",
      "3.03558 2.87760 0.72061\n",
      "3.05348 2.77391 0.61934\n",
      "3.06908 2.68807 0.54974\n",
      "3.08181 2.61690 0.50196\n",
      "3.09228 2.55794 0.46918\n",
      "3.10091 2.50910 0.44670\n",
      "3.10801 2.46867 0.43130\n",
      "3.11386 2.43521 0.42076\n",
      "3.11869 2.40751 0.41353\n",
      "3.12267 2.38459 0.40859\n",
      "3.12596 2.36563 0.40521\n",
      "3.12868 2.34995 0.40290\n",
      "3.13092 2.33698 0.40131\n",
      "3.13277 2.32625 0.40023\n",
      "3.13430 2.31738 0.39949\n",
      "3.13557 2.31004 0.39898\n",
      "3.13661 2.30397 0.39864\n",
      "3.13748 2.29896 0.39840\n",
      "3.13819 2.29481 0.39824\n",
      "3.13878 2.29138 0.39813\n",
      "3.13927 2.28854 0.39805\n",
      "3.13967 2.28620 0.39800\n",
      "3.14000 2.28426 0.39796\n",
      "3.14028 2.28265 0.39794\n",
      "3.14051 2.28133 0.39792\n",
      "3.14069 2.28023 0.39791\n",
      "3.14085 2.27932 0.39790\n",
      "3.14098 2.27857 0.39790\n",
      "3.14109 2.27795 0.39790\n",
      "3.14117 2.27744 0.39789\n",
      "3.14125 2.27702 0.39789\n",
      "3.14130 2.27667 0.39789\n",
      "3.14135 2.27638 0.39789\n",
      "3.14140 2.27614 0.39789\n",
      "3.14143 2.27594 0.39789\n",
      "3.14146 2.27578 0.39789\n",
      "3.14148 2.27564 0.39789\n",
      "3.14150 2.27553 0.39789\n",
      "3.14152 2.27544 0.39789\n",
      "3.14153 2.27536 0.39789\n",
      "3.14154 2.27530 0.39789\n",
      "3.14155 2.27525 0.39789\n",
      "3.14156 2.27521 0.39789\n",
      "3.14156 2.27517 0.39789\n",
      "3.14157 2.27514 0.39789\n",
      "3.14157 2.27512 0.39789\n",
      "3.14158 2.27510 0.39789\n",
      "3.14158 2.27508 0.39789\n",
      "3.14158 2.27507 0.39789\n",
      "3.14158 2.27505 0.39789\n"
     ]
    }
   ],
   "source": [
    "nFunc = 5; Qvar = 2\n",
    "alfa=0.1; kmax=50; k=0; countFunc=0\n",
    "\n",
    "xold =np.zeros(2 , dtype = 'float')\n",
    "xnew =np.zeros(2 , dtype = 'float')\n",
    "xold[0]=3; xold[1]=3; F0,countFunc = f(xold,nFunc,Qvar,countFunc)\n",
    "layout = \"{0:.5f}\"\n",
    "fHist = []\n",
    "print(layout.format(xold[0])+\" \"+layout.format(xold[1])+\" \"+layout.format(F0))\n",
    "fHist.append(F0)\n",
    "\n",
    "while k < kmax:\n",
    "    k += 1\n",
    "    \n",
    "    # Calculo Gradiente\n",
    "    G,countFunc = grad(xold,countFunc)\n",
    "    \n",
    "    # Processo iterativo\n",
    "    xnew=xold-alfa*G\n",
    "    \n",
    "    #Atualiza xold\n",
    "    xold = xnew.copy()\n",
    "    \n",
    "    #Calculo da função\n",
    "    F,countFunc = f(xnew,nFunc,Qvar,countFunc)\n",
    "    print(layout.format(xnew[0])+\" \"+layout.format(xnew[1])+\" \"+layout.format(F))\n",
    "    fHist.append(F)"
   ]
  },
  {
   "cell_type": "code",
   "execution_count": 107,
   "id": "48de95e0-6c59-4d54-9f5a-9fd1c251e52e",
   "metadata": {},
   "outputs": [
    {
     "data": {
      "image/png": "[encoded data removed]",
      "text/plain": [
       "<Figure size 576x576 with 1 Axes>"
      ]
     },
     "metadata": {
      "needs_background": "light"
     },
     "output_type": "display_data"
    }
   ],
   "source": [
    "font = {\n",
    "        'size': 16,\n",
    "        }\n",
    "\n",
    "plt.figure(figsize=(8,8))\n",
    "plt.plot(np.arange(0,k+1),fHist)\n",
    "plt.grid()\n",
    "plt.title(f'Convergência {name}', fontdict=font)\n",
    "plt.ylabel(r'Valor da função f($\\vec{x}$)', fontdict=font)\n",
    "plt.xlabel(\"Número de iterações (k)\", fontdict=font)\n",
    "plt.show()"
   ]
  },
  {
   "cell_type": "code",
   "execution_count": 108,
   "id": "d31eea45-507e-4752-a87b-eef1db58c23f",
   "metadata": {},
   "outputs": [
    {
     "name": "stdout",
     "output_type": "stream",
     "text": [
      "Quantidade de chamadas da função obj =  251\n",
      "Tempo de Execução = 4.558861970901489 s\n"
     ]
    }
   ],
   "source": [
    "print(\"Quantidade de chamadas da função obj = \", countFunc)\n",
    "End = time.time()\n",
    "print(\"Tempo de Execução =\", End-Start, \"s\")\t"
   ]
  },
  {
   "cell_type": "code",
   "execution_count": null,
   "id": "2062ff27",
   "metadata": {},
   "outputs": [],
   "source": []
  }
 ],
 "metadata": {
  "kernelspec": {
   "display_name": "Python 3.9.12 ('base')",
   "language": "python",
   "name": "python3"
  },
  "language_info": {
   "codemirror_mode": {
    "name": "ipython",
    "version": 3
   },
   "file_extension": ".py",
   "mimetype": "text/x-python",
   "name": "python",
   "nbconvert_exporter": "python",
   "pygments_lexer": "ipython3",
   "version": "3.9.12"
  },
  "vscode": {
   "interpreter": {
    "hash": "f3f3c8e2c70d172923cdd26a18ca64af4bb2e4459cce796237545f1b235e951c"
   }
  }
 },
 "nbformat": 4,
 "nbformat_minor": 5
}
