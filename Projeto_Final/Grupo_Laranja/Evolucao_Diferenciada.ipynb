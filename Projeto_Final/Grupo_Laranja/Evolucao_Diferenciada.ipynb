{
 "cells": [
  {
   "cell_type": "markdown",
   "id": "7de23cfe-94b3-4c6a-9d2c-85cbdd4dd373",
   "metadata": {},
   "source": [
    "## Métodos de Otimização: Métodos Heuristicos"
   ]
  },
  {
   "cell_type": "markdown",
   "id": "3422ef2f-42c6-4265-989f-b8874fe9e0ce",
   "metadata": {},
   "source": [
    "### Evolução Diferenciada"
   ]
  },
  {
   "cell_type": "code",
   "execution_count": 1,
   "id": "70e4b867-5f94-42d6-ab92-61cf06281fdd",
   "metadata": {
    "tags": []
   },
   "outputs": [],
   "source": [
    "import numpy as np\n",
    "import matplotlib.pyplot as plt\n",
    "import sys, os\n",
    "import random\n",
    "import time\n",
    "name = 'Evolução Diferenciada' \n",
    "Start = time.time()"
   ]
  },
  {
   "cell_type": "code",
   "execution_count": 2,
   "id": "483f89ea-cff5-43b2-9778-ac41b03408b6",
   "metadata": {},
   "outputs": [],
   "source": [
    "def f(x,nFunc,nVar,countFunc):\n",
    "    f = open(\"var.dat\", \"w\")\n",
    "    f.write(str(nFunc)+\"\\n\")\n",
    "    f.write(str(nVar)+\"\\n\")\n",
    "    for i in range(0, len(x)):\n",
    "        f.write(str(x[i])+'\\n')\n",
    "    f.close()\n",
    "    \n",
    "    result = os.system(\"funcao.exe\")\n",
    "    \n",
    "    f = open(\"obj.dat\", \"r\")\n",
    "    u = float(f.read())\n",
    "    f.close()\n",
    "    countFunc += 1\n",
    "    return u,countFunc"
   ]
  },
  {
   "cell_type": "code",
   "execution_count": 3,
   "id": "c5da1e4e-df72-4148-819c-e59c9d4c6765",
   "metadata": {
    "tags": []
   },
   "outputs": [],
   "source": [
    "nFunc = 18\n",
    "Qvar = 2\n",
    "Qtind = 20\n",
    "F = 0.8 #[0,2]\n",
    "niter_max=150\n",
    "countFunc = 0\n",
    "\n",
    "pop =np.zeros((Qtind,Qvar) , dtype = 'float')\n",
    "pop_new =np.zeros((Qtind,Qvar) , dtype = 'float')\n",
    "fpop =np.zeros(Qtind , dtype = 'float')\n",
    "pbest =np.zeros(Qvar , dtype = 'float')\n",
    "xmin =np.zeros(Qvar , dtype = 'float')\n",
    "xmax =np.zeros(Qvar , dtype = 'float')\n",
    "delta =np.zeros(2 , dtype = 'float')\n",
    "r =np.zeros(Qvar , dtype = 'float')\n",
    "fHist = []\n",
    "\n",
    "xmin[0] = -10; xmin[1] = -10\n",
    "xmax[0] = 10; xmax[1] = 10\n",
    "CR = 0.5"
   ]
  },
  {
   "cell_type": "code",
   "execution_count": 4,
   "id": "9272721d-900d-4706-88e0-7c6a469b2676",
   "metadata": {
    "tags": []
   },
   "outputs": [],
   "source": [
    "#criando a populacao inicial e suas funcoes objetivo\n",
    "for i in range(0, Qtind):\n",
    "    for j in range(0, Qvar):\n",
    "        r[j] = random.random()\n",
    "        pop[i,j] = xmin[j]+(1.-r[j])*(xmax[j]-xmin[j])\n",
    "    fpop[i],countFunc = f(pop[i,:],nFunc,Qvar,countFunc)\n",
    "\n",
    "minlocobj=np.argmin(fpop)\n",
    "pbest[:]=pop[minlocobj,:]\n",
    "fbest=fpop[minlocobj]\n",
    "fHist.append(fbest)"
   ]
  },
  {
   "cell_type": "code",
   "execution_count": 5,
   "id": "f08a60c2-06aa-4f48-bbf3-e383a6c3d304",
   "metadata": {
    "tags": []
   },
   "outputs": [
    {
     "data": {
      "image/png": "[encoded data removed]",
      "text/plain": [
       "<Figure size 432x288 with 1 Axes>"
      ]
     },
     "metadata": {
      "needs_background": "light"
     },
     "output_type": "display_data"
    }
   ],
   "source": [
    "plt.plot(pop[:,0], pop[:,1], 'bo')\n",
    "plt.show()"
   ]
  },
  {
   "cell_type": "code",
   "execution_count": 6,
   "id": "a8abc0c6-639c-4d43-8eaa-bcf03cce4261",
   "metadata": {},
   "outputs": [
    {
     "name": "stdout",
     "output_type": "stream",
     "text": [
      "1.19819 -2.92529 -9.87869\n",
      "1.19819 -2.92529 -9.87869\n",
      "1.19819 -2.92529 -9.87869\n",
      "1.19819 -2.92529 -9.87869\n",
      "1.19819 -2.92529 -9.87869\n",
      "1.19819 -2.92529 -9.87869\n",
      "1.19819 -2.92529 -9.87869\n",
      "1.19819 -2.92529 -9.87869\n",
      "-4.43969 -3.22632 -10.31634\n",
      "-4.43969 -3.22632 -10.31634\n",
      "-4.43969 -3.22632 -10.31634\n",
      "-4.43969 -3.22632 -10.31634\n",
      "-4.76360 -6.24727 -10.35114\n",
      "-4.76360 -6.24727 -10.35114\n",
      "-4.76360 -6.24727 -10.35114\n",
      "-4.76360 -6.24727 -10.35114\n",
      "-4.76360 -6.24727 -10.35114\n",
      "-4.76360 -6.24727 -10.35114\n",
      "-4.76360 -6.24727 -10.35114\n",
      "-4.76360 -6.24727 -10.35114\n",
      "-4.46224 -3.25032 -10.35186\n",
      "-4.46224 -3.25032 -10.35186\n",
      "-4.46224 -3.25032 -10.35186\n",
      "-4.46224 -3.25032 -10.35186\n",
      "-4.46224 -3.25032 -10.35186\n",
      "-4.55246 -3.34631 -10.37748\n",
      "-4.53442 -3.32711 -10.38731\n",
      "-4.53442 -3.32711 -10.38731\n",
      "-4.53442 -3.32711 -10.38731\n",
      "-4.53442 -3.32711 -10.38731\n",
      "-4.53442 -3.32711 -10.38731\n",
      "-4.52792 -3.32020 -10.38902\n",
      "-4.52792 -3.32020 -10.38902\n",
      "-4.52792 -3.32020 -10.38902\n",
      "-4.52792 -3.32020 -10.38902\n",
      "-4.52792 -3.32020 -10.38902\n",
      "-4.52183 -3.31372 -10.38974\n",
      "-4.52183 -3.31372 -10.38974\n",
      "-4.52183 -3.31372 -10.38974\n",
      "-4.52183 -3.31372 -10.38974\n",
      "-4.52183 -3.31372 -10.38974\n",
      "-4.52183 -3.31372 -10.38974\n",
      "-4.52183 -3.31372 -10.38974\n",
      "-4.52045 -3.31225 -10.38979\n",
      "-4.52045 -3.31225 -10.38979\n",
      "-4.51931 -3.31104 -10.38979\n",
      "-4.51931 -3.31104 -10.38979\n",
      "-4.51931 -3.31104 -10.38979\n",
      "-4.51931 -3.31104 -10.38979\n",
      "-4.51931 -3.31104 -10.38979\n",
      "-4.51931 -3.31104 -10.38979\n",
      "-4.51992 -3.31168 -10.38979\n",
      "-4.51992 -3.31168 -10.38979\n",
      "-4.51992 -3.31168 -10.38979\n",
      "-4.51992 -3.31168 -10.38979\n",
      "-4.51987 -3.31163 -10.38980\n",
      "-4.51980 -3.31156 -10.38980\n",
      "-4.51980 -3.31156 -10.38980\n",
      "-4.51980 -3.31156 -10.38980\n",
      "-4.51971 -3.31146 -10.38980\n",
      "-4.51971 -3.31146 -10.38980\n",
      "-4.51971 -3.31146 -10.38980\n",
      "-4.51971 -3.31146 -10.38980\n",
      "-4.51971 -3.31146 -10.38980\n",
      "-4.51971 -3.31146 -10.38980\n",
      "-4.51971 -3.31146 -10.38980\n",
      "-4.51971 -3.31146 -10.38980\n",
      "-4.51972 -3.31147 -10.38980\n",
      "-4.51972 -3.31147 -10.38980\n",
      "-4.51973 -3.31148 -10.38980\n",
      "-4.51973 -3.31148 -10.38980\n",
      "-4.51973 -3.31148 -10.38980\n",
      "-4.51973 -3.31148 -10.38980\n",
      "-4.51973 -3.31148 -10.38980\n",
      "-4.51973 -3.31148 -10.38980\n",
      "-4.51973 -3.31148 -10.38980\n",
      "-4.51973 -3.31148 -10.38980\n",
      "-4.51973 -3.31148 -10.38980\n",
      "-4.51973 -3.31148 -10.38980\n",
      "-4.51973 -3.31148 -10.38980\n",
      "-4.51973 -3.31148 -10.38980\n",
      "-4.51973 -3.31148 -10.38980\n",
      "-4.51973 -3.31148 -10.38980\n",
      "-4.51973 -3.31148 -10.38980\n",
      "-4.51973 -3.31148 -10.38980\n",
      "-4.51973 -3.31148 -10.38980\n",
      "-4.51973 -3.31148 -10.38980\n",
      "-4.51973 -3.31148 -10.38980\n",
      "-4.51973 -3.31148 -10.38980\n",
      "-4.51973 -3.31148 -10.38980\n",
      "-4.51973 -3.31148 -10.38980\n",
      "-4.51973 -3.31148 -10.38980\n",
      "-4.51973 -3.31148 -10.38980\n",
      "-4.51973 -3.31148 -10.38980\n",
      "-4.51973 -3.31148 -10.38980\n",
      "-4.51973 -3.31148 -10.38980\n",
      "-4.51973 -3.31148 -10.38980\n",
      "-4.51973 -3.31148 -10.38980\n",
      "-4.51973 -3.31148 -10.38980\n",
      "-4.51973 -3.31148 -10.38980\n",
      "-4.51973 -3.31148 -10.38980\n",
      "-4.51973 -3.31148 -10.38980\n",
      "-4.51973 -3.31148 -10.38980\n",
      "-4.51973 -3.31148 -10.38980\n",
      "-4.51973 -3.31148 -10.38980\n",
      "-4.51973 -3.31148 -10.38980\n",
      "-4.51973 -3.31148 -10.38980\n",
      "-4.51973 -3.31148 -10.38980\n",
      "-4.51973 -3.31148 -10.38980\n",
      "-4.51973 -3.31148 -10.38980\n",
      "-4.51973 -3.31148 -10.38980\n",
      "-4.51973 -3.31148 -10.38980\n",
      "-4.51973 -3.31148 -10.38980\n",
      "-4.51973 -3.31148 -10.38980\n",
      "-4.51973 -3.31148 -10.38980\n",
      "-4.51973 -3.31148 -10.38980\n",
      "-4.51973 -3.31148 -10.38980\n",
      "-4.51973 -3.31148 -10.38980\n",
      "-4.51973 -3.31148 -10.38980\n",
      "-4.51973 -3.31148 -10.38980\n",
      "-4.51973 -3.31148 -10.38980\n",
      "-4.51973 -3.31148 -10.38980\n",
      "-4.51973 -3.31148 -10.38980\n",
      "-4.51973 -3.31148 -10.38980\n",
      "-4.51973 -3.31148 -10.38980\n",
      "-4.51973 -3.31148 -10.38980\n",
      "-4.51973 -3.31148 -10.38980\n",
      "-4.51973 -3.31148 -10.38980\n",
      "-4.51973 -3.31148 -10.38980\n",
      "-4.51973 -3.31148 -10.38980\n",
      "-4.51973 -3.31148 -10.38980\n",
      "-4.51973 -3.31148 -10.38980\n",
      "-4.51973 -3.31148 -10.38980\n",
      "-4.51973 -3.31148 -10.38980\n",
      "-4.51973 -3.31148 -10.38980\n",
      "-4.51973 -3.31148 -10.38980\n",
      "-4.51973 -3.31148 -10.38980\n",
      "-4.51973 -3.31148 -10.38980\n",
      "-4.51973 -3.31148 -10.38980\n",
      "-4.51973 -3.31148 -10.38980\n",
      "-4.51973 -3.31148 -10.38980\n",
      "-4.51973 -3.31148 -10.38980\n",
      "-4.51973 -3.31148 -10.38980\n",
      "-4.51973 -3.31148 -10.38980\n",
      "-4.51973 -3.31148 -10.38980\n",
      "-4.51973 -3.31148 -10.38980\n",
      "-4.51973 -3.31148 -10.38980\n",
      "-4.51973 -3.31148 -10.38980\n",
      "-4.51973 -3.31148 -10.38980\n",
      "-4.51973 -3.31148 -10.38980\n"
     ]
    }
   ],
   "source": [
    "pop_new=pop.copy()\n",
    "layout = \"{0:.5f}\"\n",
    "niter=0\n",
    "while niter<niter_max:\n",
    "    for i in range(0,Qtind):\n",
    "        alpha = random.randrange(Qtind)\n",
    "        while (alpha==i) : alpha = random.randrange(Qtind)\n",
    "        beta = random.randrange(Qtind)\n",
    "        while (beta==i and beta==alpha): beta = random.randrange(Qtind)\n",
    "        gamma = random.randrange(Qtind)\n",
    "        while (gamma==i and gamma==alpha and gamma==beta): gamma = random.randrange(Qtind)\n",
    "        r = random.random()\n",
    "        if r<CR:\n",
    "            delta[0] = 0; delta[1] = 1\n",
    "        else:\n",
    "            delta[0] = 1; delta[1] = 0\n",
    "\n",
    "        for j in range(0, Qvar):\n",
    "            pop_new[i,j] = delta[0]*pop[i,j]+delta[1]*(pop[alpha,j]+F*(pop[beta,j]-pop[gamma,j]))\n",
    "            pop_new[i,j] = max(min(pop_new[i,j],xmax[j]),xmin[j])\n",
    "\n",
    "        fsol,countFunc = f(pop_new[i,:],nFunc,Qvar,countFunc)\n",
    "        \n",
    "        if fsol < fpop[i] :\n",
    "            fpop[i]=fsol\n",
    "            pop[i,:]=pop_new[i,:]\n",
    "                \n",
    "    minlocobj=np.argmin(fpop)\n",
    "    pbest[:]=pop[minlocobj,:]\n",
    "    fbest=fpop[minlocobj]\n",
    "    print(layout.format(pbest[0])+\" \"+layout.format(pbest[1])+\" \"+layout.format(fbest))\n",
    "    fHist.append(fbest)\n",
    "    niter += 1\n"
   ]
  },
  {
   "cell_type": "code",
   "execution_count": 7,
   "id": "48de95e0-6c59-4d54-9f5a-9fd1c251e52e",
   "metadata": {},
   "outputs": [
    {
     "data": {
      "image/png": "[encoded data removed]",
      "text/plain": [
       "<Figure size 576x576 with 1 Axes>"
      ]
     },
     "metadata": {
      "needs_background": "light"
     },
     "output_type": "display_data"
    }
   ],
   "source": [
    "font = {\n",
    "        'size': 16,\n",
    "        }\n",
    "\n",
    "plt.figure(figsize=(8,8))\n",
    "plt.plot(np.arange(0,niter_max+1),fHist)\n",
    "plt.grid()\n",
    "plt.title(f'Convergência {name}', fontdict=font)\n",
    "plt.ylabel(r'Valor da função f($\\vec{x}$)', fontdict=font)\n",
    "plt.xlabel(\"Número de iterações (k)\", fontdict=font)\n",
    "plt.show()"
   ]
  },
  {
   "cell_type": "code",
   "execution_count": 8,
   "id": "d31eea45-507e-4752-a87b-eef1db58c23f",
   "metadata": {},
   "outputs": [
    {
     "name": "stdout",
     "output_type": "stream",
     "text": [
      "Quantidade de chamadas da função obj =  3020\n",
      "Tempo de Execução = 60.76055192947388 s\n"
     ]
    }
   ],
   "source": [
    "print(\"Quantidade de chamadas da função obj = \", countFunc)\n",
    "End = time.time()\n",
    "print(\"Tempo de Execução =\", End-Start, \"s\")\t"
   ]
  },
  {
   "cell_type": "code",
   "execution_count": null,
   "id": "ce67f1ef",
   "metadata": {},
   "outputs": [],
   "source": []
  }
 ],
 "metadata": {
  "kernelspec": {
   "display_name": "Python 3.9.12 ('base')",
   "language": "python",
   "name": "python3"
  },
  "language_info": {
   "codemirror_mode": {
    "name": "ipython",
    "version": 3
   },
   "file_extension": ".py",
   "mimetype": "text/x-python",
   "name": "python",
   "nbconvert_exporter": "python",
   "pygments_lexer": "ipython3",
   "version": "3.9.12"
  },
  "vscode": {
   "interpreter": {
    "hash": "f3f3c8e2c70d172923cdd26a18ca64af4bb2e4459cce796237545f1b235e951c"
   }
  }
 },
 "nbformat": 4,
 "nbformat_minor": 5
}
