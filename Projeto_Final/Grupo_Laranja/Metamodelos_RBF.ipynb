{
 "cells": [
  {
   "cell_type": "markdown",
   "id": "f5756aa2-c07a-4dae-9af7-703d55183ac1",
   "metadata": {},
   "source": [
    "## Metamodelos: Superfícies de Resposta"
   ]
  },
  {
   "cell_type": "markdown",
   "id": "55f6a08f-13a4-416c-a072-4f9cc22939a9",
   "metadata": {},
   "source": [
    "### Funções de Base Radial (RBF)"
   ]
  },
  {
   "cell_type": "code",
   "execution_count": 1,
   "id": "ac43322f-1f1a-42ce-a1e1-c67f6da4563e",
   "metadata": {
    "execution": {
     "iopub.execute_input": "2022-10-07T23:49:41.682477Z",
     "iopub.status.busy": "2022-10-07T23:49:41.681481Z",
     "iopub.status.idle": "2022-10-07T23:49:42.460432Z",
     "shell.execute_reply": "2022-10-07T23:49:42.460432Z",
     "shell.execute_reply.started": "2022-10-07T23:49:41.682477Z"
    },
    "tags": []
   },
   "outputs": [],
   "source": [
    "from mpl_toolkits import mplot3d\n",
    "%matplotlib inline\n",
    "from mpl_toolkits.mplot3d import Axes3D\n",
    "\n",
    "import numpy as np\n",
    "import matplotlib.pyplot as plt\n",
    "import sys, os\n",
    "import random\n",
    "import time\n",
    "name = 'Funções de Base Radial (RBF)' \n",
    "Start = time.time()"
   ]
  },
  {
   "cell_type": "code",
   "execution_count": 2,
   "id": "42ff8fff-e24a-4793-bd96-740d6b970d94",
   "metadata": {
    "execution": {
     "iopub.execute_input": "2022-10-07T23:49:42.461398Z",
     "iopub.status.busy": "2022-10-07T23:49:42.461398Z",
     "iopub.status.idle": "2022-10-07T23:49:42.476227Z",
     "shell.execute_reply": "2022-10-07T23:49:42.476227Z",
     "shell.execute_reply.started": "2022-10-07T23:49:42.461398Z"
    },
    "tags": []
   },
   "outputs": [],
   "source": [
    "def f(x,nFunc,nVar,countFunc):\n",
    "    f = open(\"var.dat\", \"w\")\n",
    "    f.write(str(nFunc)+\"\\n\")\n",
    "    f.write(str(nVar)+\"\\n\")\n",
    "    for i in range(0, len(x)):\n",
    "        f.write(str(x[i])+'\\n')\n",
    "    f.close()\n",
    "    \n",
    "    result = os.system(\"funcao.exe\")\n",
    "    \n",
    "    f = open(\"obj.dat\", \"r\")\n",
    "    u = float(f.read())\n",
    "    f.close()\n",
    "    countFunc += 1\n",
    "    return u,countFunc"
   ]
  },
  {
   "cell_type": "code",
   "execution_count": 3,
   "id": "5541f1b3-0370-47d2-9327-03e416812719",
   "metadata": {
    "execution": {
     "iopub.execute_input": "2022-10-07T23:49:42.478094Z",
     "iopub.status.busy": "2022-10-07T23:49:42.478094Z",
     "iopub.status.idle": "2022-10-07T23:50:50.964084Z",
     "shell.execute_reply": "2022-10-07T23:50:50.964084Z",
     "shell.execute_reply.started": "2022-10-07T23:49:42.478094Z"
    },
    "tags": []
   },
   "outputs": [],
   "source": [
    "nFunc = 18; Qvar = 2; countFunc=0\n",
    "c = 1.e-15 # Fator de forma\n",
    "Qtp = 3000 # Quantidade de pontos p/ treinamento\n",
    "\n",
    "xmin =np.zeros(Qvar , dtype = 'float')\n",
    "xmax =np.zeros(Qvar , dtype = 'float')\n",
    "r =np.zeros(Qvar , dtype = 'float')\n",
    "xp = np.zeros((Qtp,Qvar) , dtype = 'float')\n",
    "U = np.zeros(Qtp , dtype = 'float')\n",
    "\n",
    "xmin[0] = -10; xmin[1] = -10\n",
    "xmax[0] = 10; xmax[1] = 10\n",
    "\n",
    "#Pontos de treinamento\n",
    "for i in range(0,Qtp):\n",
    "    for j in range(0,Qvar):\n",
    "        flag = True\n",
    "        count=0\n",
    "        while(flag):\n",
    "            r[j] = random.random()\n",
    "            aux = xmin[j]+(1.-r[j])*(xmax[j]-xmin[j])\n",
    "            for k in range(0,Qtp):\n",
    "                if (xp[i,j] == aux):\n",
    "                    count+=1\n",
    "                if count==0:\n",
    "                    flag = False\n",
    "                    xp[i,j] = aux\n",
    "    U[i],countFunc = f(xp[i,:],nFunc,Qvar,countFunc)"
   ]
  },
  {
   "cell_type": "code",
   "execution_count": 4,
   "id": "0e23a863-33b1-4ed8-b7e0-d089c6df2eed",
   "metadata": {
    "execution": {
     "iopub.execute_input": "2022-10-07T23:50:50.965085Z",
     "iopub.status.busy": "2022-10-07T23:50:50.965085Z",
     "iopub.status.idle": "2022-10-07T23:51:19.226972Z",
     "shell.execute_reply": "2022-10-07T23:51:19.226972Z",
     "shell.execute_reply.started": "2022-10-07T23:50:50.965085Z"
    },
    "tags": []
   },
   "outputs": [],
   "source": [
    "psi =np.zeros((Qtp,Qtp) , dtype = 'float')\n",
    "for i in range(0,Qtp):\n",
    "    for j in range(0,Qtp):\n",
    "        aux = 0\n",
    "        for k in range(0,Qvar):\n",
    "            aux = aux + ((xp[i,k]-xp[j,k])**2)\n",
    "        psi[i,j] = np.sqrt(aux+c**2)\n",
    "        \n",
    "phi = np.linalg.solve(psi,U)"
   ]
  },
  {
   "cell_type": "code",
   "execution_count": 5,
   "id": "e4ea340f-4e68-4808-8dda-09ff4a5ba534",
   "metadata": {
    "execution": {
     "iopub.execute_input": "2022-10-07T23:51:19.227940Z",
     "iopub.status.busy": "2022-10-07T23:51:19.227940Z",
     "iopub.status.idle": "2022-10-07T23:51:19.242900Z",
     "shell.execute_reply": "2022-10-07T23:51:19.242900Z",
     "shell.execute_reply.started": "2022-10-07T23:51:19.227940Z"
    },
    "tags": []
   },
   "outputs": [],
   "source": [
    "def fobj(x_aval,xp,c,Qtp,Qvar,countFunc):\n",
    "    U_aval = 0\n",
    "    for j in range(0,Qtp):\n",
    "        aux = 0\n",
    "        for k in range(0,Qvar):\n",
    "            aux = aux + ((x_aval[k]-xp[j,k])**2)\n",
    "        U_aval = U_aval+(phi[j]*np.sqrt(aux+c**2))\n",
    "        \n",
    "    countFunc += 1\n",
    "    return U_aval,countFunc"
   ]
  },
  {
   "cell_type": "markdown",
   "id": "b92c64a6-f643-422a-ba90-67efcb94cac6",
   "metadata": {},
   "source": [
    "__Enxame de Partícula__ "
   ]
  },
  {
   "cell_type": "code",
   "execution_count": 6,
   "id": "b8adebce-aaed-4193-b987-25814d53aaa2",
   "metadata": {
    "execution": {
     "iopub.execute_input": "2022-10-07T23:51:19.243898Z",
     "iopub.status.busy": "2022-10-07T23:51:19.243898Z",
     "iopub.status.idle": "2022-10-07T23:51:19.258857Z",
     "shell.execute_reply": "2022-10-07T23:51:19.258857Z",
     "shell.execute_reply.started": "2022-10-07T23:51:19.243898Z"
    },
    "tags": []
   },
   "outputs": [],
   "source": [
    "name = 'Enxame de Partículas + RBF' "
   ]
  },
  {
   "cell_type": "code",
   "execution_count": 7,
   "id": "b3b0bf6b-adf5-4de6-853a-e5b02a3a296d",
   "metadata": {
    "execution": {
     "iopub.execute_input": "2022-10-07T23:51:19.259855Z",
     "iopub.status.busy": "2022-10-07T23:51:19.259855Z",
     "iopub.status.idle": "2022-10-07T23:51:19.274815Z",
     "shell.execute_reply": "2022-10-07T23:51:19.274815Z",
     "shell.execute_reply.started": "2022-10-07T23:51:19.259855Z"
    },
    "tags": []
   },
   "outputs": [],
   "source": [
    "Qtind = 50; kmax = 150; countFunc = 0\n",
    "\n",
    "pop =np.zeros((Qtind,Qvar) , dtype = 'float')\n",
    "fHist = []\n",
    "fpop =np.zeros(Qtind , dtype = 'float')\n",
    "fsol =np.zeros(Qtind , dtype = 'float')\n",
    "pbest =np.zeros(Qvar , dtype = 'float')\n",
    "r1 =np.zeros(Qvar , dtype = 'float')\n",
    "r2 =np.zeros(Qvar , dtype = 'float')"
   ]
  },
  {
   "cell_type": "code",
   "execution_count": 8,
   "id": "a42ea36e-179f-4c4c-bd10-e788cbbe8bb4",
   "metadata": {
    "execution": {
     "iopub.execute_input": "2022-10-07T23:51:19.275813Z",
     "iopub.status.busy": "2022-10-07T23:51:19.275813Z",
     "iopub.status.idle": "2022-10-07T23:51:19.826225Z",
     "shell.execute_reply": "2022-10-07T23:51:19.826225Z",
     "shell.execute_reply.started": "2022-10-07T23:51:19.275813Z"
    },
    "tags": []
   },
   "outputs": [
    {
     "data": {
      "image/png": "[encoded data removed]",
      "text/plain": [
       "<Figure size 432x288 with 1 Axes>"
      ]
     },
     "metadata": {
      "needs_background": "light"
     },
     "output_type": "display_data"
    }
   ],
   "source": [
    "#criando a populacao inicial e suas funcoes objetivo\n",
    "#o melhor individuo ja esta definido (pop == pi)\n",
    "\n",
    "for i in range(0, Qtind):\n",
    "    for j in range(0, Qvar):\n",
    "        r[j] = random.random()\n",
    "        pop[i,j] = xmin[j]+(1.-r[j])*(xmax[j]-xmin[j])\n",
    "    fpop[i],countFunc = fobj(pop[i,:],xp,c,Qtp,Qvar,countFunc)\n",
    "\n",
    "plt.plot(pop[:,0], pop[:,1], 'bo')\n",
    "plt.show()"
   ]
  },
  {
   "cell_type": "code",
   "execution_count": 9,
   "id": "6d9b3e48-435b-4f2f-b77e-b794026dbcf7",
   "metadata": {
    "execution": {
     "iopub.execute_input": "2022-10-07T23:51:19.827223Z",
     "iopub.status.busy": "2022-10-07T23:51:19.827223Z",
     "iopub.status.idle": "2022-10-07T23:51:19.841862Z",
     "shell.execute_reply": "2022-10-07T23:51:19.841395Z",
     "shell.execute_reply.started": "2022-10-07T23:51:19.827223Z"
    },
    "tags": []
   },
   "outputs": [
    {
     "name": "stdout",
     "output_type": "stream",
     "text": [
      "-10.069060009538411\n"
     ]
    }
   ],
   "source": [
    "minlocobj=np.argmin(fpop)\n",
    "pbest[:]=pop[minlocobj,:]\n",
    "fbest=fpop[minlocobj]\n",
    "print(fbest)"
   ]
  },
  {
   "cell_type": "code",
   "execution_count": 10,
   "id": "ae8ebfc1-47f7-49fe-aac6-c67be6be5887",
   "metadata": {
    "execution": {
     "iopub.execute_input": "2022-10-07T23:51:19.842862Z",
     "iopub.status.busy": "2022-10-07T23:51:19.841862Z",
     "iopub.status.idle": "2022-10-07T23:52:22.740074Z",
     "shell.execute_reply": "2022-10-07T23:52:22.740074Z",
     "shell.execute_reply.started": "2022-10-07T23:51:19.842862Z"
    },
    "scrolled": true,
    "tags": []
   },
   "outputs": [
    {
     "name": "stdout",
     "output_type": "stream",
     "text": [
      "1.35607 -2.90875 -10.06906\n",
      "-1.68772 -2.91732 -10.50276\n",
      "-4.64461 -3.13744 -10.61341\n",
      "-4.68650 -3.19503 -10.67306\n",
      "-4.68650 -3.19503 -10.67306\n",
      "-4.68650 -3.19503 -10.67306\n",
      "-4.68650 -3.19015 -10.67395\n",
      "-4.73632 -3.21158 -10.68974\n",
      "-4.73857 -3.19505 -10.70246\n",
      "-4.73972 -3.19308 -10.70386\n",
      "-4.75218 -3.17625 -10.71362\n",
      "-4.75218 -3.17625 -10.71362\n",
      "-4.75085 -3.17317 -10.71547\n",
      "-4.75085 -3.17317 -10.71547\n",
      "-1.61067 -3.21754 -10.75810\n",
      "-1.61067 -3.21754 -10.75810\n",
      "-1.61067 -3.21754 -10.75810\n",
      "-1.60358 -3.21429 -10.76135\n",
      "-1.60358 -3.21429 -10.76135\n",
      "-1.57232 -3.16892 -10.77931\n",
      "-1.57744 -3.16402 -10.78030\n",
      "-1.57744 -3.16402 -10.78030\n",
      "-1.57744 -3.16402 -10.78030\n",
      "-1.57653 -3.16039 -10.78076\n",
      "-1.57635 -3.15650 -10.78115\n",
      "-1.57643 -3.15431 -10.78132\n",
      "-1.57637 -3.15252 -10.78143\n",
      "-1.57639 -3.14991 -10.78154\n",
      "-1.57699 -3.14892 -10.78157\n",
      "-1.57650 -3.14778 -10.78160\n",
      "-1.57532 -3.14698 -10.78161\n",
      "-1.57523 -3.14639 -10.78162\n",
      "-1.57540 -3.14585 -10.78162\n",
      "-1.57535 -3.14546 -10.78162\n",
      "-1.57538 -3.14546 -10.78162\n",
      "-1.57550 -3.14543 -10.78162\n",
      "-1.57545 -3.14537 -10.78162\n",
      "-1.57549 -3.14534 -10.78162\n",
      "-1.57547 -3.14533 -10.78162\n",
      "-1.57547 -3.14534 -10.78162\n",
      "-1.57547 -3.14534 -10.78162\n",
      "-1.57547 -3.14534 -10.78162\n",
      "-1.57547 -3.14534 -10.78162\n",
      "-1.57547 -3.14534 -10.78162\n",
      "-1.57547 -3.14534 -10.78162\n",
      "-1.57547 -3.14534 -10.78162\n",
      "-1.57547 -3.14534 -10.78162\n",
      "-1.57547 -3.14534 -10.78162\n",
      "-1.57547 -3.14534 -10.78162\n",
      "-1.57547 -3.14534 -10.78162\n",
      "-1.57547 -3.14534 -10.78162\n",
      "-1.57547 -3.14534 -10.78162\n",
      "-1.57547 -3.14534 -10.78162\n",
      "-1.57547 -3.14534 -10.78162\n",
      "-1.57547 -3.14534 -10.78162\n",
      "-1.57547 -3.14534 -10.78162\n",
      "-1.57547 -3.14534 -10.78162\n",
      "-1.57547 -3.14534 -10.78162\n",
      "-1.57547 -3.14534 -10.78162\n",
      "-1.57547 -3.14534 -10.78162\n",
      "-1.57547 -3.14534 -10.78162\n",
      "-1.57547 -3.14534 -10.78162\n",
      "-1.57547 -3.14534 -10.78162\n",
      "-1.57547 -3.14534 -10.78162\n",
      "-1.57547 -3.14534 -10.78162\n",
      "-1.57547 -3.14534 -10.78162\n",
      "-1.58155 3.14836 -10.85464\n",
      "-1.58155 3.14836 -10.85464\n",
      "-1.58155 3.14836 -10.85464\n",
      "-1.58172 3.15176 -10.85488\n",
      "-1.58184 3.15345 -10.85491\n",
      "-1.58167 3.15565 -10.85491\n",
      "-1.58158 3.15435 -10.85496\n",
      "-1.58158 3.15435 -10.85496\n",
      "-1.58158 3.15435 -10.85496\n",
      "-1.57991 3.15395 -10.85527\n",
      "-1.57876 3.15357 -10.85546\n",
      "-1.57838 3.15370 -10.85552\n",
      "-1.57789 3.15272 -10.85559\n",
      "-1.57683 3.15365 -10.85573\n",
      "-1.57677 3.15267 -10.85573\n",
      "-1.57638 3.15347 -10.85578\n",
      "-1.57620 3.15359 -10.85580\n",
      "-1.57568 3.15387 -10.85585\n",
      "-1.57522 3.15375 -10.85590\n",
      "-1.57494 3.15383 -10.85592\n",
      "-1.57321 3.15039 -10.85600\n",
      "-1.57265 3.15176 -10.85608\n",
      "-1.57236 3.15179 -10.85609\n",
      "-1.57103 3.15104 -10.85612\n",
      "-1.57026 3.15166 -10.85614\n",
      "-1.57026 3.15166 -10.85614\n",
      "-1.57025 3.15196 -10.85614\n",
      "-1.57023 3.15207 -10.85614\n",
      "-1.57023 3.15209 -10.85614\n",
      "-1.57023 3.15209 -10.85614\n",
      "-1.57024 3.15209 -10.85614\n",
      "-1.57025 3.15209 -10.85614\n",
      "-1.57026 3.15209 -10.85614\n",
      "-1.57026 3.15209 -10.85614\n",
      "-1.57027 3.15209 -10.85614\n",
      "-1.57027 3.15209 -10.85614\n",
      "-1.57027 3.15209 -10.85614\n",
      "-1.57027 3.15209 -10.85614\n",
      "-1.57028 3.15209 -10.85614\n",
      "-1.57028 3.15209 -10.85614\n",
      "-1.57028 3.15209 -10.85614\n",
      "-1.57028 3.15209 -10.85614\n",
      "-1.57029 3.15209 -10.85614\n",
      "-1.57029 3.15209 -10.85614\n",
      "-1.57029 3.15209 -10.85614\n",
      "-1.57029 3.15209 -10.85614\n",
      "-1.57029 3.15209 -10.85614\n",
      "-1.57029 3.15209 -10.85614\n",
      "-1.57029 3.15209 -10.85614\n",
      "-1.57029 3.15209 -10.85614\n",
      "-1.57029 3.15209 -10.85614\n",
      "-1.57029 3.15209 -10.85614\n",
      "-1.57029 3.15209 -10.85614\n",
      "-1.57029 3.15209 -10.85614\n",
      "-1.57029 3.15209 -10.85614\n",
      "-1.57029 3.15209 -10.85614\n",
      "-1.57029 3.15209 -10.85614\n",
      "-1.57029 3.15209 -10.85614\n",
      "-1.57029 3.15209 -10.85614\n",
      "-1.57029 3.15209 -10.85614\n",
      "-1.57029 3.15209 -10.85614\n",
      "-1.57029 3.15209 -10.85614\n",
      "-1.57029 3.15209 -10.85614\n",
      "-1.57029 3.15209 -10.85614\n",
      "-1.57029 3.15209 -10.85614\n",
      "-1.57029 3.15209 -10.85614\n",
      "-1.57029 3.15209 -10.85614\n",
      "-1.57029 3.15209 -10.85614\n",
      "-1.57029 3.15209 -10.85614\n",
      "-1.57029 3.15209 -10.85614\n",
      "-1.57029 3.15209 -10.85614\n",
      "-1.57029 3.15209 -10.85614\n",
      "-1.57029 3.15209 -10.85614\n",
      "-1.57029 3.15209 -10.85614\n",
      "-1.57029 3.15209 -10.85614\n",
      "-1.57029 3.15209 -10.85614\n",
      "-1.57029 3.15209 -10.85614\n",
      "-1.57029 3.15209 -10.85614\n",
      "-1.57029 3.15209 -10.85614\n",
      "-1.57029 3.15209 -10.85614\n",
      "-1.57029 3.15209 -10.85614\n",
      "-1.57029 3.15209 -10.85614\n",
      "-1.57029 3.15209 -10.85614\n",
      "-1.57029 3.15209 -10.85614\n"
     ]
    }
   ],
   "source": [
    "x=pop.copy()\n",
    "layout = \"{0:.5f}\"\n",
    "k=0\n",
    "while k < kmax:\n",
    "    k += 1\n",
    "    for i in range(0, Qtind):\n",
    "        for j in range(0, Qvar):\n",
    "            r1[j] = random.random()\n",
    "            r2[j] = random.random()\n",
    "            x[i,j] = x[i,j] + 2.*r1[j]*(pop[i,j]-x[i,j]) + 2.*r2[j]*(pbest[j]-x[i,j])\n",
    "            x[i,j] = max(min(x[i,j],xmax[j]),xmin[j])\n",
    "\n",
    "        fsol[i],countFunc = fobj(x[i,:],xp,c,Qtp,Qvar,countFunc)\n",
    "        \n",
    "    for i in range(0, Qtind):\n",
    "        if fsol[i] < fpop[i] :\n",
    "            fpop[i]=fsol[i]\n",
    "            pop[i,:]=x[i,:]\n",
    "    \n",
    "    minlocobj=np.argmin(fpop)\n",
    "    pbest[:]=pop[minlocobj,:]\n",
    "    fbest=fpop[minlocobj]\n",
    "    print(layout.format(pbest[0])+\" \"+layout.format(pbest[1])+\" \"+layout.format(fbest))\n",
    "    fHist.append(fbest)\n",
    "    "
   ]
  },
  {
   "cell_type": "code",
   "execution_count": 11,
   "id": "0c31d256-7d6c-4046-b85a-06ebaa897afa",
   "metadata": {
    "execution": {
     "iopub.execute_input": "2022-10-07T23:52:22.741072Z",
     "iopub.status.busy": "2022-10-07T23:52:22.741072Z",
     "iopub.status.idle": "2022-10-07T23:52:23.096481Z",
     "shell.execute_reply": "2022-10-07T23:52:23.096481Z",
     "shell.execute_reply.started": "2022-10-07T23:52:22.741072Z"
    }
   },
   "outputs": [
    {
     "data": {
      "image/png": "[encoded data removed]",
      "text/plain": [
       "<Figure size 576x576 with 1 Axes>"
      ]
     },
     "metadata": {
      "needs_background": "light"
     },
     "output_type": "display_data"
    }
   ],
   "source": [
    "font = {\n",
    "        'size': 16,\n",
    "        }\n",
    "\n",
    "plt.figure(figsize=(8,8))\n",
    "plt.plot(np.arange(0,k),fHist)\n",
    "plt.grid()\n",
    "plt.title(f'Convergência {name}', fontdict=font)\n",
    "plt.ylabel(r'Valor da função f($\\vec{x}$)', fontdict=font)\n",
    "plt.xlabel(\"Número de iterações (k)\", fontdict=font)\n",
    "plt.show()"
   ]
  },
  {
   "cell_type": "code",
   "execution_count": 12,
   "id": "457816e4-1fa9-4127-af22-0e213a0253a8",
   "metadata": {
    "execution": {
     "iopub.execute_input": "2022-10-07T23:52:23.098351Z",
     "iopub.status.busy": "2022-10-07T23:52:23.098351Z",
     "iopub.status.idle": "2022-10-07T23:52:23.112517Z",
     "shell.execute_reply": "2022-10-07T23:52:23.112517Z",
     "shell.execute_reply.started": "2022-10-07T23:52:23.098351Z"
    }
   },
   "outputs": [
    {
     "name": "stdout",
     "output_type": "stream",
     "text": [
      "Quantidade de chamadas da função obj =  7550\n",
      "Tempo de Execução = 160.64091777801514 s\n"
     ]
    }
   ],
   "source": [
    "print(\"Quantidade de chamadas da função obj = \", countFunc)\n",
    "End = time.time()\n",
    "print(\"Tempo de Execução =\", End-Start, \"s\")\t"
   ]
  },
  {
   "cell_type": "code",
   "execution_count": null,
   "id": "a7f6b3a7-9377-4436-8f86-fae6cbc207b9",
   "metadata": {},
   "outputs": [],
   "source": []
  }
 ],
 "metadata": {
  "kernelspec": {
   "display_name": "Python 3 (ipykernel)",
   "language": "python",
   "name": "python3"
  },
  "language_info": {
   "codemirror_mode": {
    "name": "ipython",
    "version": 3
   },
   "file_extension": ".py",
   "mimetype": "text/x-python",
   "name": "python",
   "nbconvert_exporter": "python",
   "pygments_lexer": "ipython3",
   "version": "3.9.12"
  },
  "vscode": {
   "interpreter": {
    "hash": "f3f3c8e2c70d172923cdd26a18ca64af4bb2e4459cce796237545f1b235e951c"
   }
  }
 },
 "nbformat": 4,
 "nbformat_minor": 5
}
