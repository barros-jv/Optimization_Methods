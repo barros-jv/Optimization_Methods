{
 "cells": [
  {
   "cell_type": "markdown",
   "id": "8403e809-f92f-41e0-8ed7-ec663d65d72b",
   "metadata": {},
   "source": [
    "## Métodos de Otimização: Métodos de procura multidimensional"
   ]
  },
  {
   "cell_type": "markdown",
   "id": "038789ac-746b-45eb-9654-dd669498ccc7",
   "metadata": {},
   "source": [
    "### Método de Quasi-Newton (BFGS) - Diferenças finitas"
   ]
  },
  {
   "cell_type": "markdown",
   "id": "4bc37bea-31e2-4b96-aef0-cdffb9de0890",
   "metadata": {},
   "source": [
    "__Imports:__"
   ]
  },
  {
   "cell_type": "code",
   "execution_count": 7,
   "id": "e1786854-3924-4bb0-9b22-08e91bbccb91",
   "metadata": {
    "execution": {
     "iopub.execute_input": "2022-08-06T13:04:30.212724Z",
     "iopub.status.busy": "2022-08-06T13:04:30.212724Z",
     "iopub.status.idle": "2022-08-06T13:04:30.861601Z",
     "shell.execute_reply": "2022-08-06T13:04:30.860937Z",
     "shell.execute_reply.started": "2022-08-06T13:04:30.212724Z"
    }
   },
   "outputs": [],
   "source": [
    "import numpy as np\n",
    "import matplotlib.pyplot as plt\n",
    "import sys, os\n",
    "import time\n",
    "name = 'Quasi-Newton (BFGS)' \n",
    "Start = time.time()"
   ]
  },
  {
   "cell_type": "markdown",
   "id": "85cb8ed1-c4aa-47ac-8f87-50e6e8559117",
   "metadata": {},
   "source": [
    "__Função Avaliada:__"
   ]
  },
  {
   "cell_type": "code",
   "execution_count": 8,
   "id": "3599d712-192d-4c34-b504-263764080f61",
   "metadata": {
    "execution": {
     "iopub.execute_input": "2022-08-06T13:04:30.862601Z",
     "iopub.status.busy": "2022-08-06T13:04:30.861601Z",
     "iopub.status.idle": "2022-08-06T13:04:30.876184Z",
     "shell.execute_reply": "2022-08-06T13:04:30.876184Z",
     "shell.execute_reply.started": "2022-08-06T13:04:30.862601Z"
    }
   },
   "outputs": [],
   "source": [
    "x=np.zeros(2 , dtype = 'float')\n",
    "G =np.zeros(2 , dtype = 'float')\n",
    "\n",
    "def f(x,nFunc,nVar,countFunc):\n",
    "    f = open(\"var.dat\", \"w\")\n",
    "    f.write(str(nFunc)+\"\\n\")\n",
    "    f.write(str(nVar)+\"\\n\")\n",
    "    for i in range(0, len(x)):\n",
    "        f.write(str(x[i])+'\\n')\n",
    "    f.close()\n",
    "    \n",
    "    result = os.system(\"funcao.exe\")\n",
    "    \n",
    "    f = open(\"obj.dat\", \"r\")\n",
    "    u = float(f.read())\n",
    "    f.close()\n",
    "    countFunc += 1\n",
    "    return u,countFunc"
   ]
  },
  {
   "cell_type": "markdown",
   "id": "eb3cf26f-f05f-4ce3-8c89-dc36712e48de",
   "metadata": {},
   "source": [
    "__Método:__"
   ]
  },
  {
   "cell_type": "code",
   "execution_count": 9,
   "id": "eefddf56-da51-4bde-bc9a-2d5939a1b7d7",
   "metadata": {
    "execution": {
     "iopub.execute_input": "2022-08-06T13:04:31.321147Z",
     "iopub.status.busy": "2022-08-06T13:04:31.321147Z",
     "iopub.status.idle": "2022-08-06T13:04:31.336107Z",
     "shell.execute_reply": "2022-08-06T13:04:31.336107Z",
     "shell.execute_reply.started": "2022-08-06T13:04:31.321147Z"
    }
   },
   "outputs": [],
   "source": [
    "def grad(x,countFunc):\n",
    "    epsilon = 1.e-10\n",
    "    nFunc = 18; Qvar = 2\n",
    "    \n",
    "    for i in range(0,len(x)):\n",
    "        xtmp=x.copy()\n",
    "        xtmp[i]=xtmp[i]+epsilon\n",
    "        F_xtmp, countFunc = f(xtmp,nFunc,Qvar,countFunc)\n",
    "        F_x, countFunc = f(x,nFunc,Qvar,countFunc)\n",
    "        G[i]=(F_xtmp-F_x)/epsilon\n",
    "    \n",
    "    return G,countFunc"
   ]
  },
  {
   "cell_type": "code",
   "execution_count": 10,
   "id": "8243f24e-f8a6-421b-afba-9fce08b62faa",
   "metadata": {
    "tags": []
   },
   "outputs": [
    {
     "name": "stdout",
     "output_type": "stream",
     "text": [
      "-1.50000 -3.10000 -10.81748\n",
      "-2.25799 -3.53100 -7.74608\n",
      "-1.56456 -3.18257 -10.84234\n",
      "-1.72662 -2.75697 -9.94271\n",
      "-1.56897 -3.13780 -10.85247\n",
      "-1.57005 -3.13978 -10.85249\n",
      "-1.56985 -3.13969 -10.85249\n",
      "-1.56956 -3.13945 -10.85249\n",
      "-1.56978 -3.13961 -10.85249\n",
      "-1.56990 -3.13975 -10.85249\n",
      "-1.56984 -3.13968 -10.85249\n"
     ]
    }
   ],
   "source": [
    "nFunc = 18; Qvar = 2; countFunc = 0\n",
    "\n",
    "Hinv=np.zeros((2,2), dtype='float')\n",
    "G=np.zeros(2, dtype='float')\n",
    "Gold=np.zeros(2, dtype='float')\n",
    "xnew=np.zeros(2, dtype='float')\n",
    "xold=np.zeros(2, dtype='float')\n",
    "layout = \"{0:.5f}\"\n",
    "tol = -1e-10\n",
    "fHist = []\n",
    "\n",
    "#chute incial:\n",
    "x1 = -1.5\n",
    "x2 = -3.1\n",
    "\n",
    "alpha=1; kmax=50; k=0\n",
    "xold[0]=x1; xold[1]=x2; F0,countFunc = f(xold,nFunc,Qvar,countFunc)\n",
    "print(layout.format(xold[0])+\" \"+layout.format(xold[1])+\" \"+layout.format(F0))\n",
    "\n",
    "# Primeira iteração k=0\n",
    "\n",
    "# Calculo Gradiente\n",
    "G,countFunc = grad(xold,countFunc)\n",
    "\n",
    "# Aproximação da inversa do Hessiano (Newton)\n",
    "Hinv[0,0]=1.\n",
    "Hinv[1,1]=1.\n",
    "\n",
    "#Calculo da direção\n",
    "d = -np.matmul(Hinv,G)\n",
    "\n",
    "# Processo iterativo\n",
    "xnew=xold+alpha*d\n",
    "\n",
    "#Atualiza xold\n",
    "xold = xnew.copy()\n",
    "\n",
    "#Calculo da função\n",
    "F,countFunc = f(xnew,nFunc,Qvar,countFunc)\n",
    "print(layout.format(xnew[0])+\" \"+layout.format(xnew[1])+\" \"+layout.format(F))\n",
    "fHist.append(F)\n",
    "\n",
    "while k < kmax:\n",
    "    k += 1\n",
    "    \n",
    "    Gold = G.copy()\n",
    "    # Calculo Gradiente\n",
    "    G,countFunc = grad(xold,countFunc)\n",
    "\n",
    "    #Calculo de Y\n",
    "    Y = G-Gold\n",
    "\n",
    "    #Calculo matriz M\n",
    "    M = (1.+np.dot(Y,np.matmul(Hinv,Y))/np.dot(Y,d))*np.outer(d,d)/np.dot(d,Y)\n",
    "\n",
    "    #Calculo matriz N\n",
    "    N = -(np.matmul(np.outer(d,Y),Hinv)+np.outer(np.matmul(Hinv,Y),d))/np.dot(Y,d)\n",
    "\n",
    "    # Aproximação da inversa do Hessiano\n",
    "    Hinv = Hinv+M+N\n",
    "\n",
    "    #Calculo da direção\n",
    "    d = -np.matmul(Hinv,G)\n",
    "\n",
    "    # Processo iterativo\n",
    "    xnew=xold+alpha*d\n",
    "    \n",
    "    if max(d) == 0:\n",
    "        break\n",
    "\n",
    "    #Atualiza xold\n",
    "    xold = xnew.copy()\n",
    "\n",
    "    F,countFunc = f(xnew,nFunc,Qvar,countFunc)\n",
    "    print(layout.format(xnew[0])+\" \"+layout.format(xnew[1])+\" \"+layout.format(F))\n",
    "    fHist.append(F)"
   ]
  },
  {
   "cell_type": "code",
   "execution_count": 11,
   "id": "48de95e0-6c59-4d54-9f5a-9fd1c251e52e",
   "metadata": {},
   "outputs": [
    {
     "data": {
      "image/png": "[encoded data removed]",
      "text/plain": [
       "<Figure size 576x576 with 1 Axes>"
      ]
     },
     "metadata": {
      "needs_background": "light"
     },
     "output_type": "display_data"
    }
   ],
   "source": [
    "font = {\n",
    "        'size': 16,\n",
    "        }\n",
    "\n",
    "plt.figure(figsize=(8,8))\n",
    "plt.plot(np.arange(0,k),fHist)\n",
    "plt.grid()\n",
    "plt.title(f'Convergência {name}', fontdict=font)\n",
    "plt.ylabel(r'Valor da função f($\\vec{x}$)', fontdict=font)\n",
    "plt.xlabel(\"Número de iterações (k)\", fontdict=font)\n",
    "plt.show()"
   ]
  },
  {
   "cell_type": "code",
   "execution_count": 12,
   "id": "d31eea45-507e-4752-a87b-eef1db58c23f",
   "metadata": {},
   "outputs": [
    {
     "name": "stdout",
     "output_type": "stream",
     "text": [
      "Quantidade de chamadas da função obj =  55\n",
      "Tempo de Execução = 1.415886640548706 s\n"
     ]
    }
   ],
   "source": [
    "print(\"Quantidade de chamadas da função obj = \", countFunc)\n",
    "End = time.time()\n",
    "print(\"Tempo de Execução =\", End-Start, \"s\")\t"
   ]
  },
  {
   "cell_type": "code",
   "execution_count": null,
   "id": "2f859d19-cd91-47ff-980f-1830ae27bb1b",
   "metadata": {},
   "outputs": [],
   "source": []
  },
  {
   "cell_type": "code",
   "execution_count": null,
   "id": "68d8a37a-20f6-45c1-ae10-d70e9ce85dd7",
   "metadata": {},
   "outputs": [],
   "source": []
  }
 ],
 "metadata": {
  "kernelspec": {
   "display_name": "Python 3.9.12 ('base')",
   "language": "python",
   "name": "python3"
  },
  "language_info": {
   "codemirror_mode": {
    "name": "ipython",
    "version": 3
   },
   "file_extension": ".py",
   "mimetype": "text/x-python",
   "name": "python",
   "nbconvert_exporter": "python",
   "pygments_lexer": "ipython3",
   "version": "3.9.12"
  },
  "vscode": {
   "interpreter": {
    "hash": "f3f3c8e2c70d172923cdd26a18ca64af4bb2e4459cce796237545f1b235e951c"
   }
  }
 },
 "nbformat": 4,
 "nbformat_minor": 5
}
