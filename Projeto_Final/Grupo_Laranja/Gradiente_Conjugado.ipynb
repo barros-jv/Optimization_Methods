{
 "cells": [
  {
   "cell_type": "markdown",
   "id": "cec9b56a-41d5-46e2-86d4-8d4094958453",
   "metadata": {},
   "source": [
    "## Métodos de Otimização: Métodos de procura multidimensional"
   ]
  },
  {
   "cell_type": "markdown",
   "id": "ed985c74-6f63-4cfd-b380-79db49c26104",
   "metadata": {},
   "source": [
    "### Gradiente Conjugado- Diferenças finitas"
   ]
  },
  {
   "cell_type": "markdown",
   "id": "4e72dcc9-a38d-433c-bfaa-13b2c68b0a99",
   "metadata": {},
   "source": [
    "__Imports:__"
   ]
  },
  {
   "cell_type": "code",
   "execution_count": 10,
   "id": "e654b462-146c-48fb-97b0-7c14086be29c",
   "metadata": {
    "execution": {
     "iopub.execute_input": "2022-08-06T12:53:01.856856Z",
     "iopub.status.busy": "2022-08-06T12:53:01.855857Z",
     "iopub.status.idle": "2022-08-06T12:53:02.562843Z",
     "shell.execute_reply": "2022-08-06T12:53:02.562282Z",
     "shell.execute_reply.started": "2022-08-06T12:53:01.855857Z"
    }
   },
   "outputs": [],
   "source": [
    "import numpy as np\n",
    "import matplotlib.pyplot as plt\n",
    "import sys, os\n",
    "import time\n",
    "name = 'Gradiente Conjugado' \n",
    "Start = time.time()"
   ]
  },
  {
   "cell_type": "markdown",
   "id": "06e16741-45f3-481c-87a5-3c3af2127d41",
   "metadata": {},
   "source": [
    "__Função Avaliada:__"
   ]
  },
  {
   "cell_type": "code",
   "execution_count": 11,
   "id": "3599d712-192d-4c34-b504-263764080f61",
   "metadata": {
    "execution": {
     "iopub.execute_input": "2022-08-06T13:04:30.862601Z",
     "iopub.status.busy": "2022-08-06T13:04:30.861601Z",
     "iopub.status.idle": "2022-08-06T13:04:30.876184Z",
     "shell.execute_reply": "2022-08-06T13:04:30.876184Z",
     "shell.execute_reply.started": "2022-08-06T13:04:30.862601Z"
    }
   },
   "outputs": [],
   "source": [
    "x=np.zeros(2 , dtype = 'float')\n",
    "G =np.zeros(2 , dtype = 'float')\n",
    "\n",
    "def f(x,nFunc,nVar,countFunc):\n",
    "    f = open(\"var.dat\", \"w\")\n",
    "    f.write(str(nFunc)+\"\\n\")\n",
    "    f.write(str(nVar)+\"\\n\")\n",
    "    for i in range(0, len(x)):\n",
    "        f.write(str(x[i])+'\\n')\n",
    "    f.close()\n",
    "    \n",
    "    result = os.system(\"funcao.exe\")\n",
    "    \n",
    "    f = open(\"obj.dat\", \"r\")\n",
    "    u = float(f.read())\n",
    "    f.close()\n",
    "    countFunc += 1\n",
    "    return u,countFunc"
   ]
  },
  {
   "cell_type": "markdown",
   "id": "448edc9e-b54b-4e63-b02f-9e316248e062",
   "metadata": {},
   "source": [
    "__Método:__"
   ]
  },
  {
   "cell_type": "code",
   "execution_count": 12,
   "id": "eefddf56-da51-4bde-bc9a-2d5939a1b7d7",
   "metadata": {
    "execution": {
     "iopub.execute_input": "2022-08-06T13:04:31.321147Z",
     "iopub.status.busy": "2022-08-06T13:04:31.321147Z",
     "iopub.status.idle": "2022-08-06T13:04:31.336107Z",
     "shell.execute_reply": "2022-08-06T13:04:31.336107Z",
     "shell.execute_reply.started": "2022-08-06T13:04:31.321147Z"
    }
   },
   "outputs": [],
   "source": [
    "def grad(x,countFunc):\n",
    "    epsilon = 1.e-10\n",
    "    nFunc = 18; Qvar = 2\n",
    "    \n",
    "    for i in range(0,len(x)):\n",
    "        xtmp=x.copy()\n",
    "        xtmp[i]=xtmp[i]+epsilon\n",
    "        F_xtmp, countFunc = f(xtmp,nFunc,Qvar,countFunc)\n",
    "        F_x, countFunc = f(x,nFunc,Qvar,countFunc)\n",
    "        G[i]=(F_xtmp-F_x)/epsilon\n",
    "    \n",
    "    return G,countFunc"
   ]
  },
  {
   "cell_type": "code",
   "execution_count": 13,
   "id": "013f08e4-6682-4f1b-8ab3-5503cd9924d8",
   "metadata": {
    "execution": {
     "iopub.execute_input": "2022-08-06T12:53:03.038080Z",
     "iopub.status.busy": "2022-08-06T12:53:03.038080Z",
     "iopub.status.idle": "2022-08-06T12:53:03.053040Z",
     "shell.execute_reply": "2022-08-06T12:53:03.053040Z",
     "shell.execute_reply.started": "2022-08-06T12:53:03.038080Z"
    }
   },
   "outputs": [],
   "source": [
    "def direcao(G,gamma,dold):\n",
    "    \n",
    "    d = -G+gamma*dold\n",
    "    \n",
    "    return d"
   ]
  },
  {
   "cell_type": "code",
   "execution_count": 14,
   "id": "8ba3de58-6aa4-48d9-935c-cde0d721004d",
   "metadata": {
    "execution": {
     "iopub.execute_input": "2022-08-06T13:03:59.420487Z",
     "iopub.status.busy": "2022-08-06T13:03:59.420487Z",
     "iopub.status.idle": "2022-08-06T13:03:59.439348Z",
     "shell.execute_reply": "2022-08-06T13:03:59.438351Z",
     "shell.execute_reply.started": "2022-08-06T13:03:59.420487Z"
    },
    "tags": []
   },
   "outputs": [],
   "source": [
    "def coef_conj(G,Gold):\n",
    "    eps = 1.e-6\n",
    "    numerador = np.dot(G,G)\n",
    "    denominador = np.dot(Gold,Gold)\n",
    "    \n",
    "    if numerador<eps or denominador<eps:\n",
    "        flag = 1\n",
    "        return flag\n",
    "        \n",
    "    else:\n",
    "        # Fletcher-Reeves\n",
    "        gamma = numerador/denominador\n",
    "        return gamma"
   ]
  },
  {
   "cell_type": "code",
   "execution_count": 15,
   "id": "37f9106e",
   "metadata": {},
   "outputs": [],
   "source": [
    "def alphaFibonacci(n = 10):\n",
    "\n",
    "    F = np.zeros( (n+1),dtype='float' )\n",
    "    I = np.zeros( (n+1),dtype='float' )\n",
    "    I[0]=x[-1]-x[0]\n",
    "    F[0] = 1; F[1] = 1\n",
    "\n",
    "    for i in range(2,n+1): F[i]=F[i-2]+F[i-1]\n",
    "\n",
    "    for i in range(0,n):\n",
    "        left = False; right = False\n",
    "        dist = F[n-2-i]/F[n-i]*I[i]\n",
    "        print\n",
    "        if f(x[0])>f(x[0]+dist): left = True \n",
    "\n",
    "        if f(x[-1])>f(x[-1]-dist): right = True \n",
    "\n",
    "        if (left == True) and (right == False): Xi=x[0]+dist; Xf=x[-1]\n",
    "        elif (left == False) and (right == True): Xf=x[-1]-dist; Xi=x[0]\n",
    "        elif f(x[0]+dist)>f(x[-1]-dist): Xi=x[0]+dist; Xf=x[-1]\n",
    "        else: Xf=x[-1]-dist; Xi=x[0]\n",
    "\n",
    "        x = np.linspace(Xi, Xf)\n",
    "        I[i+1]=x[-1]-x[0]   "
   ]
  },
  {
   "cell_type": "code",
   "execution_count": 16,
   "id": "24bc93c3-4065-48b1-ad48-1148e04f0da6",
   "metadata": {
    "execution": {
     "iopub.execute_input": "2022-08-06T13:31:02.283322Z",
     "iopub.status.busy": "2022-08-06T13:31:02.283322Z",
     "iopub.status.idle": "2022-08-06T13:31:02.550272Z",
     "shell.execute_reply": "2022-08-06T13:31:02.549272Z",
     "shell.execute_reply.started": "2022-08-06T13:31:02.283322Z"
    },
    "tags": []
   },
   "outputs": [
    {
     "name": "stdout",
     "output_type": "stream",
     "text": [
      "-1.50000 -3.10000 -10.81748\n",
      "-1.57580 -3.14310 -10.85223\n",
      "-1.56986 -3.13962 -10.85249\n",
      "-1.56393 -3.13624 -10.85224\n",
      "-1.56440 -3.13656 -10.85228\n",
      "-1.57069 -3.14024 -10.85249\n",
      "-1.56989 -3.13965 -10.85249\n",
      "-1.56910 -3.13907 -10.85249\n",
      "-1.56910 -3.13919 -10.85249\n",
      "-1.56980 -3.13977 -10.85249\n",
      "-1.56981 -3.13968 -10.85249\n",
      "-1.56982 -3.13959 -10.85249\n",
      "-1.56983 -3.13949 -10.85249\n",
      "-1.56984 -3.13950 -10.85249\n",
      "-1.56976 -3.13962 -10.85249\n",
      "-1.56968 -3.13973 -10.85249\n",
      "-1.56970 -3.13975 -10.85249\n",
      "-1.56982 -3.13967 -10.85249\n",
      "-1.56993 -3.13958 -10.85249\n",
      "-1.56995 -3.13960 -10.85249\n",
      "-1.56987 -3.13972 -10.85249\n",
      "-1.56979 -3.13983 -10.85249\n",
      "-1.56971 -3.13975 -10.85249\n",
      "-1.56981 -3.13954 -10.85249\n",
      "-1.56989 -3.13958 -10.85249\n",
      "-1.56983 -3.13970 -10.85249\n",
      "-1.56977 -3.13982 -10.85249\n",
      "-1.56981 -3.13983 -10.85249\n",
      "-1.56988 -3.13967 -10.85249\n",
      "-1.56996 -3.13950 -10.85249\n",
      "-1.56993 -3.13953 -10.85249\n",
      "-1.56982 -3.13964 -10.85249\n",
      "-1.56971 -3.13986 -10.85249\n",
      "-1.56970 -3.13977 -10.85249\n",
      "-1.56980 -3.13952 -10.85249\n",
      "-1.56982 -3.13958 -10.85249\n",
      "-1.56984 -3.13973 -10.85249\n",
      "-1.56986 -3.13978 -10.85249\n",
      "-1.56986 -3.13982 -10.85249\n",
      "-1.56975 -3.13966 -10.85249\n",
      "-1.56983 -3.13963 -10.85249\n",
      "-1.56991 -3.13960 -10.85249\n",
      "-1.56989 -3.13967 -10.85249\n",
      "-1.56978 -3.13970 -10.85249\n",
      "-1.56967 -3.13963 -10.85249\n",
      "-1.56966 -3.13957 -10.85249\n",
      "-1.56985 -3.13960 -10.85249\n",
      "-1.57004 -3.13973 -10.85249\n",
      "-1.57003 -3.13977 -10.85249\n",
      "-1.56982 -3.13970 -10.85249\n",
      "-1.56970 -3.13964 -10.85249\n",
      "-1.56979 -3.13967 -10.85249\n"
     ]
    }
   ],
   "source": [
    "nFunc = 18; Qvar = 2; countFunc = 0\n",
    "\n",
    "G =np.zeros(2 , dtype = 'float')\n",
    "Gold =np.zeros(2 , dtype = 'float')\n",
    "xold =np.zeros(2 , dtype = 'float')\n",
    "xnew =np.zeros(2 , dtype = 'float')\n",
    "d =np.zeros(2 , dtype = 'float')\n",
    "dold =np.zeros(2 , dtype = 'float')\n",
    "fHist = []\n",
    "layout = \"{0:.5f}\"\n",
    "\n",
    "#chute incial:\n",
    "x1 = -1.5\n",
    "x2 = -3.1\n",
    "\n",
    "alfa=0.1; kmax=50; k=0\n",
    "xold[0]=x1; xold[1]=x2; F0,countFunc = f(xold,nFunc,Qvar,countFunc)\n",
    "print(layout.format(xold[0])+\" \"+layout.format(xold[1])+\" \"+layout.format(F0))\n",
    "flag=0\n",
    "\n",
    "# Primeira iteração k=0\n",
    "\n",
    "# Calculo Gradiente\n",
    "G,countFunc = grad(xold,countFunc)\n",
    "\n",
    "#Calculo da direção\n",
    "gamma = 0\n",
    "d = direcao(G,gamma,dold)\n",
    "\n",
    "# Processo iterativo\n",
    "xnew=xold+alfa*d\n",
    "\n",
    "#Atualiza xold\n",
    "xold = xnew.copy()\n",
    "\n",
    "#Calculo da função\n",
    "F,countFunc = f(xnew,nFunc,Qvar,countFunc)\n",
    "print(layout.format(xnew[0])+\" \"+layout.format(xnew[1])+\" \"+layout.format(F))\n",
    "fHist.append(F)\n",
    "\n",
    "while k < kmax:\n",
    "    k += 1\n",
    "    \n",
    "    # Calculo Gradiente\n",
    "    Gold = G.copy()\n",
    "    G,countFunc = grad(xold,countFunc)\n",
    "    \n",
    "    #Calculo gamma\n",
    "    gamma = coef_conj(G,Gold)\n",
    "    \n",
    "    if flag==0:\n",
    "        #Calculo da direção\n",
    "        dold = d.copy()\n",
    "        d = direcao(G,gamma,dold)\n",
    "\n",
    "        # Processo iterativo\n",
    "        xnew=xold+alfa*d\n",
    "\n",
    "        #Atualiza xold\n",
    "        xold = xnew.copy()\n",
    "\n",
    "        #Calculo da função\n",
    "        F,countFunc = f(xnew,nFunc,Qvar,countFunc)\n",
    "        print(layout.format(xnew[0])+\" \"+layout.format(xnew[1])+\" \"+layout.format(F))\n",
    "        fHist.append(F)"
   ]
  },
  {
   "cell_type": "code",
   "execution_count": 17,
   "id": "48de95e0-6c59-4d54-9f5a-9fd1c251e52e",
   "metadata": {},
   "outputs": [
    {
     "data": {
      "image/png": "[encoded data removed]",
      "text/plain": [
       "<Figure size 576x576 with 1 Axes>"
      ]
     },
     "metadata": {
      "needs_background": "light"
     },
     "output_type": "display_data"
    }
   ],
   "source": [
    "font = {\n",
    "        'size': 16,\n",
    "        }\n",
    "\n",
    "plt.figure(figsize=(8,8))\n",
    "plt.plot(np.arange(0,k+1),fHist)\n",
    "plt.grid()\n",
    "plt.title(f'Convergência {name}', fontdict=font)\n",
    "plt.ylabel(r'Valor da função f($\\vec{x}$)', fontdict=font)\n",
    "plt.xlabel(\"Número de iterações (k)\", fontdict=font)\n",
    "plt.show()"
   ]
  },
  {
   "cell_type": "code",
   "execution_count": 18,
   "id": "d31eea45-507e-4752-a87b-eef1db58c23f",
   "metadata": {},
   "outputs": [
    {
     "name": "stdout",
     "output_type": "stream",
     "text": [
      "Quantidade de chamadas da função obj =  256\n",
      "Tempo de Execução = 5.249463081359863 s\n"
     ]
    }
   ],
   "source": [
    "print(\"Quantidade de chamadas da função obj = \", countFunc)\n",
    "End = time.time()\n",
    "print(\"Tempo de Execução =\", End-Start, \"s\")\t"
   ]
  },
  {
   "cell_type": "code",
   "execution_count": null,
   "id": "de2747ac-030d-4849-8e1c-55a129f5b320",
   "metadata": {},
   "outputs": [],
   "source": []
  }
 ],
 "metadata": {
  "kernelspec": {
   "display_name": "Python 3.9.12 ('base')",
   "language": "python",
   "name": "python3"
  },
  "language_info": {
   "codemirror_mode": {
    "name": "ipython",
    "version": 3
   },
   "file_extension": ".py",
   "mimetype": "text/x-python",
   "name": "python",
   "nbconvert_exporter": "python",
   "pygments_lexer": "ipython3",
   "version": "3.9.12"
  },
  "vscode": {
   "interpreter": {
    "hash": "f3f3c8e2c70d172923cdd26a18ca64af4bb2e4459cce796237545f1b235e951c"
   }
  }
 },
 "nbformat": 4,
 "nbformat_minor": 5
}
