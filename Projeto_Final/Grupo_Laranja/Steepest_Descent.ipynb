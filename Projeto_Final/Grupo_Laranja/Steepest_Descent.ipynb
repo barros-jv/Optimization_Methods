{
 "cells": [
  {
   "cell_type": "markdown",
   "id": "0d9595e0-0e16-458e-84b0-a4f3b58fa0bc",
   "metadata": {},
   "source": [
    "## Métodos de Otimização: Métodos de procura multidimensional"
   ]
  },
  {
   "cell_type": "markdown",
   "id": "50fe44eb-309c-4091-8739-efc761d63d02",
   "metadata": {},
   "source": [
    "### Steepest Descent - Diferenças finitas"
   ]
  },
  {
   "cell_type": "markdown",
   "id": "56fa8e38-1e9f-451b-95c0-7ffce26b2f8f",
   "metadata": {},
   "source": [
    "__Imports:__"
   ]
  },
  {
   "cell_type": "code",
   "execution_count": 7,
   "id": "e1786854-3924-4bb0-9b22-08e91bbccb91",
   "metadata": {
    "execution": {
     "iopub.execute_input": "2022-08-06T13:04:30.212724Z",
     "iopub.status.busy": "2022-08-06T13:04:30.212724Z",
     "iopub.status.idle": "2022-08-06T13:04:30.861601Z",
     "shell.execute_reply": "2022-08-06T13:04:30.860937Z",
     "shell.execute_reply.started": "2022-08-06T13:04:30.212724Z"
    }
   },
   "outputs": [],
   "source": [
    "import numpy as np\n",
    "import matplotlib.pyplot as plt\n",
    "import sys, os\n",
    "import time\n",
    "name = 'Steepest Descent' \n",
    "Start = time.time()"
   ]
  },
  {
   "cell_type": "markdown",
   "id": "d69da1d6-c0e6-458d-bd34-75479cf9745f",
   "metadata": {},
   "source": [
    "__Função Avaliada:__"
   ]
  },
  {
   "cell_type": "code",
   "execution_count": 8,
   "id": "3599d712-192d-4c34-b504-263764080f61",
   "metadata": {
    "execution": {
     "iopub.execute_input": "2022-08-06T13:04:30.862601Z",
     "iopub.status.busy": "2022-08-06T13:04:30.861601Z",
     "iopub.status.idle": "2022-08-06T13:04:30.876184Z",
     "shell.execute_reply": "2022-08-06T13:04:30.876184Z",
     "shell.execute_reply.started": "2022-08-06T13:04:30.862601Z"
    }
   },
   "outputs": [],
   "source": [
    "x=np.zeros(2 , dtype = 'float')\n",
    "G =np.zeros(2 , dtype = 'float')\n",
    "\n",
    "def f(x,nFunc,nVar,countFunc):\n",
    "    f = open(\"var.dat\", \"w\")\n",
    "    f.write(str(nFunc)+\"\\n\")\n",
    "    f.write(str(nVar)+\"\\n\")\n",
    "    for i in range(0, len(x)):\n",
    "        f.write(str(x[i])+'\\n')\n",
    "    f.close()\n",
    "    \n",
    "    result = os.system(\"funcao.exe\")\n",
    "    \n",
    "    f = open(\"obj.dat\", \"r\")\n",
    "    u = float(f.read())\n",
    "    f.close()\n",
    "    countFunc += 1\n",
    "    return u,countFunc"
   ]
  },
  {
   "cell_type": "markdown",
   "id": "eb8e9259-295e-4222-a223-41995394e432",
   "metadata": {},
   "source": [
    "__Método:__"
   ]
  },
  {
   "cell_type": "code",
   "execution_count": 9,
   "id": "eefddf56-da51-4bde-bc9a-2d5939a1b7d7",
   "metadata": {
    "execution": {
     "iopub.execute_input": "2022-08-06T13:04:31.321147Z",
     "iopub.status.busy": "2022-08-06T13:04:31.321147Z",
     "iopub.status.idle": "2022-08-06T13:04:31.336107Z",
     "shell.execute_reply": "2022-08-06T13:04:31.336107Z",
     "shell.execute_reply.started": "2022-08-06T13:04:31.321147Z"
    }
   },
   "outputs": [],
   "source": [
    "def grad(x,countFunc):\n",
    "    epsilon = 1.e-10\n",
    "    nFunc = 18; Qvar = 2\n",
    "    \n",
    "    for i in range(0,len(x)):\n",
    "        xtmp=x.copy()\n",
    "        xtmp[i]=xtmp[i]+epsilon\n",
    "        F_xtmp, countFunc = f(xtmp,nFunc,Qvar,countFunc)\n",
    "        F_x, countFunc = f(x,nFunc,Qvar,countFunc)\n",
    "        G[i]=(F_xtmp-F_x)/epsilon\n",
    "    \n",
    "    return G,countFunc"
   ]
  },
  {
   "cell_type": "code",
   "execution_count": 10,
   "id": "3097dcac-c84f-47dd-8377-bb754b68f972",
   "metadata": {
    "execution": {
     "iopub.execute_input": "2022-08-06T13:04:31.337104Z",
     "iopub.status.busy": "2022-08-06T13:04:31.337104Z",
     "iopub.status.idle": "2022-08-06T13:04:32.821114Z",
     "shell.execute_reply": "2022-08-06T13:04:32.821114Z",
     "shell.execute_reply.started": "2022-08-06T13:04:31.337104Z"
    }
   },
   "outputs": [
    {
     "name": "stdout",
     "output_type": "stream",
     "text": [
      "-1.50000 -3.10000 -10.81748\n",
      "-1.57580 -3.14310 -10.85223\n",
      "-1.56930 -3.13930 -10.85249\n",
      "-1.56980 -3.13960 -10.85249\n",
      "-1.56990 -3.13970 -10.85249\n",
      "-1.56980 -3.13970 -10.85249\n",
      "-1.56980 -3.13970 -10.85249\n",
      "-1.56980 -3.13970 -10.85249\n",
      "-1.56980 -3.13970 -10.85249\n",
      "-1.56980 -3.13970 -10.85249\n",
      "-1.56980 -3.13970 -10.85249\n",
      "-1.56980 -3.13970 -10.85249\n",
      "-1.56980 -3.13970 -10.85249\n",
      "-1.56980 -3.13970 -10.85249\n",
      "-1.56980 -3.13970 -10.85249\n",
      "-1.56980 -3.13970 -10.85249\n",
      "-1.56980 -3.13970 -10.85249\n",
      "-1.56980 -3.13970 -10.85249\n",
      "-1.56980 -3.13970 -10.85249\n",
      "-1.56980 -3.13970 -10.85249\n",
      "-1.56980 -3.13970 -10.85249\n",
      "-1.56980 -3.13970 -10.85249\n",
      "-1.56980 -3.13970 -10.85249\n",
      "-1.56980 -3.13970 -10.85249\n",
      "-1.56980 -3.13970 -10.85249\n",
      "-1.56980 -3.13970 -10.85249\n",
      "-1.56980 -3.13970 -10.85249\n",
      "-1.56980 -3.13970 -10.85249\n",
      "-1.56980 -3.13970 -10.85249\n",
      "-1.56980 -3.13970 -10.85249\n",
      "-1.56980 -3.13970 -10.85249\n",
      "-1.56980 -3.13970 -10.85249\n",
      "-1.56980 -3.13970 -10.85249\n",
      "-1.56980 -3.13970 -10.85249\n",
      "-1.56980 -3.13970 -10.85249\n",
      "-1.56980 -3.13970 -10.85249\n",
      "-1.56980 -3.13970 -10.85249\n",
      "-1.56980 -3.13970 -10.85249\n",
      "-1.56980 -3.13970 -10.85249\n",
      "-1.56980 -3.13970 -10.85249\n",
      "-1.56980 -3.13970 -10.85249\n",
      "-1.56980 -3.13970 -10.85249\n",
      "-1.56980 -3.13970 -10.85249\n",
      "-1.56980 -3.13970 -10.85249\n",
      "-1.56980 -3.13970 -10.85249\n",
      "-1.56980 -3.13970 -10.85249\n",
      "-1.56980 -3.13970 -10.85249\n",
      "-1.56980 -3.13970 -10.85249\n",
      "-1.56980 -3.13970 -10.85249\n",
      "-1.56980 -3.13970 -10.85249\n",
      "-1.56980 -3.13970 -10.85249\n"
     ]
    }
   ],
   "source": [
    "nFunc = 18; Qvar = 2\n",
    "alfa=0.1; kmax=50; k=0; countFunc=0\n",
    "#chute incial:\n",
    "x1 = -1.5\n",
    "x2 = -3.1\n",
    "\n",
    "xold =np.zeros(2 , dtype = 'float')\n",
    "xnew =np.zeros(2 , dtype = 'float')\n",
    "xold[0]=x1; xold[1]=x2; F0,countFunc = f(xold,nFunc,Qvar,countFunc)\n",
    "layout = \"{0:.5f}\"\n",
    "fHist = []\n",
    "print(layout.format(xold[0])+\" \"+layout.format(xold[1])+\" \"+layout.format(F0))\n",
    "fHist.append(F0)\n",
    "\n",
    "while k < kmax:\n",
    "    k += 1\n",
    "    \n",
    "    # Calculo Gradiente\n",
    "    G,countFunc = grad(xold,countFunc)\n",
    "    \n",
    "    # Processo iterativo\n",
    "    xnew=xold-alfa*G\n",
    "    \n",
    "    #Atualiza xold\n",
    "    xold = xnew.copy()\n",
    "    \n",
    "    #Calculo da função\n",
    "    F,countFunc = f(xnew,nFunc,Qvar,countFunc)\n",
    "    print(layout.format(xnew[0])+\" \"+layout.format(xnew[1])+\" \"+layout.format(F))\n",
    "    fHist.append(F)"
   ]
  },
  {
   "cell_type": "code",
   "execution_count": 11,
   "id": "48de95e0-6c59-4d54-9f5a-9fd1c251e52e",
   "metadata": {},
   "outputs": [
    {
     "data": {
      "image/png": "[encoded data removed]",
      "text/plain": [
       "<Figure size 576x576 with 1 Axes>"
      ]
     },
     "metadata": {
      "needs_background": "light"
     },
     "output_type": "display_data"
    }
   ],
   "source": [
    "font = {\n",
    "        'size': 16,\n",
    "        }\n",
    "\n",
    "plt.figure(figsize=(8,8))\n",
    "plt.plot(np.arange(0,k+1),fHist)\n",
    "plt.grid()\n",
    "plt.title(f'Convergência {name}', fontdict=font)\n",
    "plt.ylabel(r'Valor da função f($\\vec{x}$)', fontdict=font)\n",
    "plt.xlabel(\"Número de iterações (k)\", fontdict=font)\n",
    "plt.show()"
   ]
  },
  {
   "cell_type": "code",
   "execution_count": 12,
   "id": "d31eea45-507e-4752-a87b-eef1db58c23f",
   "metadata": {},
   "outputs": [
    {
     "name": "stdout",
     "output_type": "stream",
     "text": [
      "Quantidade de chamadas da função obj =  251\n",
      "Tempo de Execução = 4.53554892539978 s\n"
     ]
    }
   ],
   "source": [
    "print(\"Quantidade de chamadas da função obj = \", countFunc)\n",
    "End = time.time()\n",
    "print(\"Tempo de Execução =\", End-Start, \"s\")\t"
   ]
  },
  {
   "cell_type": "code",
   "execution_count": null,
   "id": "2062ff27",
   "metadata": {},
   "outputs": [],
   "source": []
  }
 ],
 "metadata": {
  "kernelspec": {
   "display_name": "Python 3.9.12 ('base')",
   "language": "python",
   "name": "python3"
  },
  "language_info": {
   "codemirror_mode": {
    "name": "ipython",
    "version": 3
   },
   "file_extension": ".py",
   "mimetype": "text/x-python",
   "name": "python",
   "nbconvert_exporter": "python",
   "pygments_lexer": "ipython3",
   "version": "3.9.12"
  },
  "vscode": {
   "interpreter": {
    "hash": "f3f3c8e2c70d172923cdd26a18ca64af4bb2e4459cce796237545f1b235e951c"
   }
  }
 },
 "nbformat": 4,
 "nbformat_minor": 5
}
