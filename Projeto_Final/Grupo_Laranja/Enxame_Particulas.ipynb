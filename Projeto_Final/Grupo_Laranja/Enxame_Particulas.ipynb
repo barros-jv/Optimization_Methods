{
 "cells": [
  {
   "cell_type": "markdown",
   "id": "f5756aa2-c07a-4dae-9af7-703d55183ac1",
   "metadata": {},
   "source": [
    "## Métodos de Otimização: Métodos Heuristicos"
   ]
  },
  {
   "cell_type": "markdown",
   "id": "55f6a08f-13a4-416c-a072-4f9cc22939a9",
   "metadata": {},
   "source": [
    "### Enxame de Partículas"
   ]
  },
  {
   "cell_type": "code",
   "execution_count": 1,
   "id": "104f0913-13e7-42a0-a869-9851aad3acd8",
   "metadata": {
    "execution": {
     "iopub.execute_input": "2022-10-05T00:29:36.482356Z",
     "iopub.status.busy": "2022-10-05T00:29:36.481361Z",
     "iopub.status.idle": "2022-10-05T00:29:37.224914Z",
     "shell.execute_reply": "2022-10-05T00:29:37.224358Z",
     "shell.execute_reply.started": "2022-10-05T00:29:36.482356Z"
    },
    "tags": []
   },
   "outputs": [],
   "source": [
    "import numpy as np\n",
    "import matplotlib.pyplot as plt\n",
    "import sys, os\n",
    "import random\n",
    "import time\n",
    "name = 'Enxame de Partículas' \n",
    "Start = time.time()"
   ]
  },
  {
   "cell_type": "code",
   "execution_count": 2,
   "id": "483f89ea-cff5-43b2-9778-ac41b03408b6",
   "metadata": {
    "execution": {
     "iopub.execute_input": "2022-10-05T00:29:37.224914Z",
     "iopub.status.busy": "2022-10-05T00:29:37.224914Z",
     "iopub.status.idle": "2022-10-05T00:29:37.271791Z",
     "shell.execute_reply": "2022-10-05T00:29:37.271791Z",
     "shell.execute_reply.started": "2022-10-05T00:29:37.224914Z"
    }
   },
   "outputs": [],
   "source": [
    "def f(x,nFunc,nVar,countFunc):\n",
    "    f = open(\"var.dat\", \"w\")\n",
    "    f.write(str(nFunc)+\"\\n\")\n",
    "    f.write(str(nVar)+\"\\n\")\n",
    "    for i in range(0, len(x)):\n",
    "        f.write(str(x[i])+'\\n')\n",
    "    f.close()\n",
    "    \n",
    "    result = os.system(\"funcao.exe\")\n",
    "    \n",
    "    f = open(\"obj.dat\", \"r\")\n",
    "    u = float(f.read())\n",
    "    f.close()\n",
    "    countFunc += 1\n",
    "    return u,countFunc"
   ]
  },
  {
   "cell_type": "code",
   "execution_count": 3,
   "id": "10702a66-75ec-41cf-aa3e-afa2ed0558b6",
   "metadata": {
    "execution": {
     "iopub.execute_input": "2022-10-05T00:29:37.273786Z",
     "iopub.status.busy": "2022-10-05T00:29:37.273786Z",
     "iopub.status.idle": "2022-10-05T00:29:37.286945Z",
     "shell.execute_reply": "2022-10-05T00:29:37.286945Z",
     "shell.execute_reply.started": "2022-10-05T00:29:37.273786Z"
    },
    "tags": []
   },
   "outputs": [],
   "source": [
    "nFunc = 18\n",
    "Qvar = 2\n",
    "Qtind = 50\n",
    "kmax = 150\n",
    "countFunc = 0\n",
    "\n",
    "pop =np.zeros((Qtind,Qvar) , dtype = 'float')\n",
    "x =np.zeros((Qtind,Qvar) , dtype = 'float')\n",
    "fHist = []\n",
    "fpop =np.zeros(Qtind , dtype = 'float')\n",
    "fsol =np.zeros(Qtind , dtype = 'float')\n",
    "pbest =np.zeros(Qvar , dtype = 'float')\n",
    "xmin =np.zeros(Qvar , dtype = 'float')\n",
    "xmax =np.zeros(Qvar , dtype = 'float')\n",
    "r =np.zeros(Qvar , dtype = 'float')\n",
    "r1 =np.zeros(Qvar , dtype = 'float')\n",
    "r2 =np.zeros(Qvar , dtype = 'float')\n",
    "\n",
    "xmin[0] = -10; xmin[1] = -10\n",
    "xmax[0] = 10; xmax[1] = 10"
   ]
  },
  {
   "cell_type": "code",
   "execution_count": 4,
   "id": "60f9f7d8-6a91-4e0d-852c-784fef69faf4",
   "metadata": {
    "execution": {
     "iopub.execute_input": "2022-10-05T00:29:37.287942Z",
     "iopub.status.busy": "2022-10-05T00:29:37.287942Z",
     "iopub.status.idle": "2022-10-05T00:29:38.457147Z",
     "shell.execute_reply": "2022-10-05T00:29:38.457147Z",
     "shell.execute_reply.started": "2022-10-05T00:29:37.287942Z"
    },
    "tags": []
   },
   "outputs": [
    {
     "data": {
      "image/png": "[encoded data removed]",
      "text/plain": [
       "<Figure size 432x288 with 1 Axes>"
      ]
     },
     "metadata": {
      "needs_background": "light"
     },
     "output_type": "display_data"
    }
   ],
   "source": [
    "#criando a populacao inicial e suas funcoes objetivo\n",
    "#o melhor individuo ja esta definido (pop == pi)\n",
    "\n",
    "for i in range(0, Qtind):\n",
    "    for j in range(0, Qvar):\n",
    "        r[j] = random.random()\n",
    "        pop[i,j] = xmin[j]+(1.-r[j])*(xmax[j]-xmin[j])\n",
    "    fpop[i],countFunc = f(pop[i,:],nFunc,Qvar,countFunc)\n",
    "\n",
    "plt.plot(pop[:,0], pop[:,1], 'bo')\n",
    "plt.show()"
   ]
  },
  {
   "cell_type": "code",
   "execution_count": 5,
   "id": "fb4c8659-c7bf-47ac-8e5d-db725bf183dc",
   "metadata": {
    "execution": {
     "iopub.execute_input": "2022-10-05T00:29:38.458146Z",
     "iopub.status.busy": "2022-10-05T00:29:38.458146Z",
     "iopub.status.idle": "2022-10-05T00:29:38.472991Z",
     "shell.execute_reply": "2022-10-05T00:29:38.472240Z",
     "shell.execute_reply.started": "2022-10-05T00:29:38.458146Z"
    }
   },
   "outputs": [
    {
     "name": "stdout",
     "output_type": "stream",
     "text": [
      "-10.6536697712278\n"
     ]
    }
   ],
   "source": [
    "minlocobj=np.argmin(fpop)\n",
    "pbest[:]=pop[minlocobj,:]\n",
    "fbest=fpop[minlocobj]\n",
    "print(fbest)"
   ]
  },
  {
   "cell_type": "code",
   "execution_count": 6,
   "id": "da0dd626-1d87-4ca3-a287-c98c9d1b2112",
   "metadata": {
    "execution": {
     "iopub.execute_input": "2022-10-05T00:29:38.472991Z",
     "iopub.status.busy": "2022-10-05T00:29:38.472991Z",
     "iopub.status.idle": "2022-10-05T00:32:03.699425Z",
     "shell.execute_reply": "2022-10-05T00:32:03.699425Z",
     "shell.execute_reply.started": "2022-10-05T00:29:38.472991Z"
    },
    "tags": []
   },
   "outputs": [
    {
     "name": "stdout",
     "output_type": "stream",
     "text": [
      "4.58520 -3.16445 -10.65367\n",
      "4.61645 -3.16900 -10.68719\n",
      "4.61799 -3.16842 -10.68885\n",
      "4.71950 -3.15969 -10.73089\n",
      "4.71277 -3.15895 -10.73189\n",
      "1.46668 -3.13940 -10.79476\n",
      "1.61230 -3.13496 -10.84258\n",
      "1.61230 -3.13496 -10.84258\n",
      "1.59440 -3.13619 -10.84915\n",
      "1.57476 -3.13655 -10.85231\n",
      "1.56970 -3.13591 -10.85242\n",
      "1.57060 -3.13615 -10.85242\n",
      "1.57060 -3.13615 -10.85242\n",
      "1.57216 -3.14104 -10.85245\n",
      "1.57189 -3.13946 -10.85247\n",
      "1.57160 -3.14018 -10.85247\n",
      "1.56938 -3.14029 -10.85249\n",
      "1.57014 -3.14021 -10.85249\n",
      "1.56950 -3.14011 -10.85249\n",
      "1.56950 -3.14001 -10.85249\n",
      "1.56950 -3.14001 -10.85249\n",
      "1.57002 -3.14001 -10.85249\n",
      "1.56975 -3.14002 -10.85249\n",
      "1.57007 -3.13989 -10.85249\n",
      "1.56980 -3.13948 -10.85249\n",
      "1.56985 -3.13959 -10.85249\n",
      "1.56985 -3.13965 -10.85249\n",
      "1.56985 -3.13965 -10.85249\n",
      "1.56985 -3.13967 -10.85249\n",
      "1.56983 -3.13967 -10.85249\n",
      "1.56983 -3.13966 -10.85249\n",
      "1.56983 -3.13966 -10.85249\n",
      "1.56983 -3.13966 -10.85249\n",
      "1.56983 -3.13966 -10.85249\n",
      "1.56983 -3.13966 -10.85249\n",
      "1.56983 -3.13966 -10.85249\n",
      "1.56983 -3.13966 -10.85249\n",
      "1.56983 -3.13966 -10.85249\n",
      "1.56983 -3.13966 -10.85249\n",
      "1.56983 -3.13966 -10.85249\n",
      "1.56983 -3.13966 -10.85249\n",
      "1.56983 -3.13966 -10.85249\n",
      "1.56983 -3.13966 -10.85249\n",
      "1.56983 -3.13966 -10.85249\n",
      "1.56983 -3.13966 -10.85249\n",
      "1.56983 -3.13966 -10.85249\n",
      "1.56983 -3.13966 -10.85249\n",
      "1.56983 -3.13966 -10.85249\n",
      "1.56983 -3.13966 -10.85249\n",
      "1.56983 -3.13966 -10.85249\n",
      "1.56983 -3.13966 -10.85249\n",
      "1.56983 -3.13966 -10.85249\n",
      "1.56983 -3.13966 -10.85249\n",
      "1.56983 -3.13966 -10.85249\n",
      "1.56983 -3.13966 -10.85249\n",
      "1.56983 -3.13966 -10.85249\n",
      "1.56983 -3.13966 -10.85249\n",
      "1.56983 -3.13966 -10.85249\n",
      "1.56983 -3.13966 -10.85249\n",
      "1.56983 -3.13966 -10.85249\n",
      "1.55648 0.02611 -10.86751\n",
      "1.55648 0.02611 -10.86751\n",
      "1.55648 0.02611 -10.86751\n",
      "1.56495 -0.01140 -10.87142\n",
      "1.56495 -0.01140 -10.87142\n",
      "1.57048 -0.00586 -10.87211\n",
      "1.56680 -0.00165 -10.87221\n",
      "1.56680 -0.00165 -10.87221\n",
      "1.56792 0.00259 -10.87222\n",
      "1.56792 0.00259 -10.87222\n",
      "1.56785 0.00084 -10.87226\n",
      "1.56782 -0.00064 -10.87226\n",
      "1.56878 -0.00063 -10.87228\n",
      "1.56909 -0.00064 -10.87229\n",
      "1.56926 -0.00064 -10.87229\n",
      "1.56926 -0.00064 -10.87229\n",
      "1.57090 -0.00111 -10.87229\n",
      "1.57041 -0.00098 -10.87229\n",
      "1.57041 -0.00098 -10.87229\n",
      "1.57041 -0.00098 -10.87229\n",
      "1.57026 -0.00076 -10.87230\n",
      "1.57026 -0.00076 -10.87230\n",
      "1.57063 -0.00063 -10.87230\n",
      "1.57099 0.00024 -10.87230\n",
      "1.57099 0.00024 -10.87230\n",
      "1.57101 0.00009 -10.87230\n",
      "1.57057 -0.00034 -10.87230\n",
      "1.57084 0.00003 -10.87230\n",
      "1.57079 -0.00001 -10.87230\n",
      "1.57079 -0.00001 -10.87230\n",
      "1.57076 -0.00005 -10.87230\n",
      "1.57073 -0.00007 -10.87230\n",
      "1.57073 -0.00007 -10.87230\n",
      "1.57072 -0.00004 -10.87230\n",
      "1.57071 -0.00005 -10.87230\n",
      "1.57071 -0.00005 -10.87230\n",
      "1.57070 -0.00005 -10.87230\n",
      "1.57069 -0.00006 -10.87230\n",
      "1.57067 -0.00001 -10.87230\n",
      "1.57067 -0.00002 -10.87230\n",
      "1.57067 -0.00001 -10.87230\n",
      "1.57064 0.00004 -10.87230\n",
      "1.57062 0.00000 -10.87230\n",
      "1.57062 0.00000 -10.87230\n",
      "1.57061 0.00000 -10.87230\n",
      "1.57061 0.00000 -10.87230\n",
      "1.57061 0.00000 -10.87230\n",
      "1.57061 0.00000 -10.87230\n",
      "1.57060 -0.00000 -10.87230\n",
      "1.57060 -0.00000 -10.87230\n",
      "1.57060 -0.00000 -10.87230\n",
      "1.57060 -0.00000 -10.87230\n",
      "1.57060 -0.00000 -10.87230\n",
      "1.57060 -0.00000 -10.87230\n",
      "1.57060 -0.00000 -10.87230\n",
      "1.57060 0.00000 -10.87230\n",
      "1.57060 -0.00000 -10.87230\n",
      "1.57060 -0.00000 -10.87230\n",
      "1.57060 -0.00000 -10.87230\n",
      "1.57060 -0.00000 -10.87230\n",
      "1.57060 -0.00000 -10.87230\n",
      "1.57060 -0.00000 -10.87230\n",
      "1.57060 -0.00000 -10.87230\n",
      "1.57060 -0.00000 -10.87230\n",
      "1.57060 -0.00000 -10.87230\n",
      "1.57060 -0.00000 -10.87230\n",
      "1.57060 -0.00000 -10.87230\n",
      "1.57060 -0.00000 -10.87230\n",
      "1.57060 -0.00000 -10.87230\n",
      "1.57060 -0.00000 -10.87230\n",
      "1.57060 -0.00000 -10.87230\n",
      "1.57060 -0.00000 -10.87230\n",
      "1.57060 -0.00000 -10.87230\n",
      "1.57060 -0.00000 -10.87230\n",
      "1.57060 -0.00000 -10.87230\n",
      "1.57060 -0.00000 -10.87230\n",
      "1.57060 -0.00000 -10.87230\n",
      "1.57060 -0.00000 -10.87230\n",
      "1.57060 -0.00000 -10.87230\n",
      "1.57060 -0.00000 -10.87230\n",
      "1.57060 -0.00000 -10.87230\n",
      "1.57060 -0.00000 -10.87230\n",
      "1.57060 -0.00000 -10.87230\n",
      "1.57060 -0.00000 -10.87230\n",
      "1.57060 -0.00000 -10.87230\n",
      "1.57060 -0.00000 -10.87230\n",
      "1.57060 -0.00000 -10.87230\n",
      "1.57060 -0.00000 -10.87230\n",
      "1.57060 -0.00000 -10.87230\n",
      "1.57060 -0.00000 -10.87230\n"
     ]
    }
   ],
   "source": [
    "x=pop.copy()\n",
    "layout = \"{0:.5f}\"\n",
    "k=0\n",
    "while k < kmax:\n",
    "    k += 1\n",
    "    for i in range(0, Qtind):\n",
    "        for j in range(0, Qvar):\n",
    "            r1[j] = random.random()\n",
    "            r2[j] = random.random()\n",
    "            x[i,j] = x[i,j] + 2.*r1[j]*(pop[i,j]-x[i,j]) + 2.*r2[j]*(pbest[j]-x[i,j])\n",
    "            x[i,j] = max(min(x[i,j],xmax[j]),xmin[j])\n",
    "\n",
    "        fsol[i],countFunc = f(x[i,:],nFunc,Qvar,countFunc)\n",
    "        \n",
    "    for i in range(0, Qtind):\n",
    "        if fsol[i] < fpop[i] :\n",
    "            fpop[i]=fsol[i]\n",
    "            pop[i,:]=x[i,:]\n",
    "    \n",
    "    minlocobj=np.argmin(fpop)\n",
    "    pbest[:]=pop[minlocobj,:]\n",
    "    fbest=fpop[minlocobj]\n",
    "    print(layout.format(pbest[0])+\" \"+layout.format(pbest[1])+\" \"+layout.format(fbest))\n",
    "    fHist.append(fbest)\n",
    "    "
   ]
  },
  {
   "cell_type": "code",
   "execution_count": 7,
   "id": "48de95e0-6c59-4d54-9f5a-9fd1c251e52e",
   "metadata": {
    "execution": {
     "iopub.execute_input": "2022-10-05T00:32:03.700423Z",
     "iopub.status.busy": "2022-10-05T00:32:03.700423Z",
     "iopub.status.idle": "2022-10-05T00:32:03.935017Z",
     "shell.execute_reply": "2022-10-05T00:32:03.935017Z",
     "shell.execute_reply.started": "2022-10-05T00:32:03.700423Z"
    }
   },
   "outputs": [
    {
     "data": {
      "image/png": "[encoded data removed]",
      "text/plain": [
       "<Figure size 576x576 with 1 Axes>"
      ]
     },
     "metadata": {
      "needs_background": "light"
     },
     "output_type": "display_data"
    }
   ],
   "source": [
    "font = {\n",
    "        'size': 16,\n",
    "        }\n",
    "\n",
    "plt.figure(figsize=(8,8))\n",
    "plt.plot(np.arange(0,k),fHist)\n",
    "plt.grid()\n",
    "plt.title(f'Convergência {name}', fontdict=font)\n",
    "plt.ylabel(r'Valor da função f($\\vec{x}$)', fontdict=font)\n",
    "plt.xlabel(\"Número de iterações (k)\", fontdict=font)\n",
    "plt.show()"
   ]
  },
  {
   "cell_type": "code",
   "execution_count": 8,
   "id": "d31eea45-507e-4752-a87b-eef1db58c23f",
   "metadata": {
    "execution": {
     "iopub.execute_input": "2022-10-05T00:32:03.935824Z",
     "iopub.status.busy": "2022-10-05T00:32:03.935824Z",
     "iopub.status.idle": "2022-10-05T00:32:03.951109Z",
     "shell.execute_reply": "2022-10-05T00:32:03.950345Z",
     "shell.execute_reply.started": "2022-10-05T00:32:03.935824Z"
    }
   },
   "outputs": [
    {
     "name": "stdout",
     "output_type": "stream",
     "text": [
      "Quantidade de chamadas da função obj =  7550\n",
      "Tempo de Execução = 146.72889161109924 s\n"
     ]
    }
   ],
   "source": [
    "print(\"Quantidade de chamadas da função obj = \", countFunc)\n",
    "End = time.time()\n",
    "print(\"Tempo de Execução =\", End-Start, \"s\")\t"
   ]
  },
  {
   "cell_type": "code",
   "execution_count": null,
   "id": "764a4442",
   "metadata": {},
   "outputs": [],
   "source": []
  }
 ],
 "metadata": {
  "kernelspec": {
   "display_name": "Python 3 (ipykernel)",
   "language": "python",
   "name": "python3"
  },
  "language_info": {
   "codemirror_mode": {
    "name": "ipython",
    "version": 3
   },
   "file_extension": ".py",
   "mimetype": "text/x-python",
   "name": "python",
   "nbconvert_exporter": "python",
   "pygments_lexer": "ipython3",
   "version": "3.9.12"
  },
  "vscode": {
   "interpreter": {
    "hash": "f3f3c8e2c70d172923cdd26a18ca64af4bb2e4459cce796237545f1b235e951c"
   }
  }
 },
 "nbformat": 4,
 "nbformat_minor": 5
}
