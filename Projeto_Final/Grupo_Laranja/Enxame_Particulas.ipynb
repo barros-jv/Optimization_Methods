{
 "cells": [
  {
   "cell_type": "markdown",
   "id": "f5756aa2-c07a-4dae-9af7-703d55183ac1",
   "metadata": {},
   "source": [
    "## Métodos de Otimização: Métodos Heuristicos"
   ]
  },
  {
   "cell_type": "markdown",
   "id": "55f6a08f-13a4-416c-a072-4f9cc22939a9",
   "metadata": {},
   "source": [
    "### Enxame de Partículas"
   ]
  },
  {
   "cell_type": "code",
   "execution_count": 1,
   "id": "104f0913-13e7-42a0-a869-9851aad3acd8",
   "metadata": {
    "tags": []
   },
   "outputs": [],
   "source": [
    "import numpy as np\n",
    "import matplotlib.pyplot as plt\n",
    "import sys, os\n",
    "import random\n",
    "import time\n",
    "name = 'Enxame de Partículas' \n",
    "Start = time.time()"
   ]
  },
  {
   "cell_type": "code",
   "execution_count": 2,
   "id": "483f89ea-cff5-43b2-9778-ac41b03408b6",
   "metadata": {},
   "outputs": [],
   "source": [
    "def f(x,nFunc,nVar,countFunc):\n",
    "    f = open(\"var.dat\", \"w\")\n",
    "    f.write(str(nFunc)+\"\\n\")\n",
    "    f.write(str(nVar)+\"\\n\")\n",
    "    for i in range(0, len(x)):\n",
    "        f.write(str(x[i])+'\\n')\n",
    "    f.close()\n",
    "    \n",
    "    result = os.system(\"funcao.exe\")\n",
    "    \n",
    "    f = open(\"obj.dat\", \"r\")\n",
    "    u = float(f.read())\n",
    "    f.close()\n",
    "    countFunc += 1\n",
    "    return u,countFunc"
   ]
  },
  {
   "cell_type": "code",
   "execution_count": 3,
   "id": "10702a66-75ec-41cf-aa3e-afa2ed0558b6",
   "metadata": {
    "tags": []
   },
   "outputs": [],
   "source": [
    "nFunc = 18\n",
    "Qvar = 2\n",
    "Qtind = 50\n",
    "kmax = 150\n",
    "countFunc = 0\n",
    "\n",
    "pop =np.zeros((Qtind,Qvar) , dtype = 'float')\n",
    "x =np.zeros((Qtind,Qvar) , dtype = 'float')\n",
    "fHist = []\n",
    "fpop =np.zeros(Qtind , dtype = 'float')\n",
    "fsol =np.zeros(Qtind , dtype = 'float')\n",
    "pbest =np.zeros(Qvar , dtype = 'float')\n",
    "xmin =np.zeros(Qvar , dtype = 'float')\n",
    "xmax =np.zeros(Qvar , dtype = 'float')\n",
    "r =np.zeros(Qvar , dtype = 'float')\n",
    "r1 =np.zeros(Qvar , dtype = 'float')\n",
    "r2 =np.zeros(Qvar , dtype = 'float')\n",
    "\n",
    "xmin[0] = -10; xmin[1] = -10\n",
    "xmax[0] = 10; xmax[1] = 10"
   ]
  },
  {
   "cell_type": "code",
   "execution_count": 4,
   "id": "60f9f7d8-6a91-4e0d-852c-784fef69faf4",
   "metadata": {
    "tags": []
   },
   "outputs": [
    {
     "data": {
      "image/png": "[encoded data removed]",
      "text/plain": [
       "<Figure size 432x288 with 1 Axes>"
      ]
     },
     "metadata": {
      "needs_background": "light"
     },
     "output_type": "display_data"
    }
   ],
   "source": [
    "#criando a populacao inicial e suas funcoes objetivo\n",
    "#o melhor individuo ja esta definido (pop == pi)\n",
    "\n",
    "for i in range(0, Qtind):\n",
    "    for j in range(0, Qvar):\n",
    "        r[j] = random.random()\n",
    "        pop[i,j] = xmin[j]+(1.-r[j])*(xmax[j]-xmin[j])\n",
    "    fpop[i],countFunc = f(pop[i,:],nFunc,Qvar,countFunc)\n",
    "\n",
    "plt.plot(pop[:,0], pop[:,1], 'bo')\n",
    "plt.show()"
   ]
  },
  {
   "cell_type": "code",
   "execution_count": 5,
   "id": "fb4c8659-c7bf-47ac-8e5d-db725bf183dc",
   "metadata": {},
   "outputs": [
    {
     "name": "stdout",
     "output_type": "stream",
     "text": [
      "-9.51588885607517\n"
     ]
    }
   ],
   "source": [
    "minlocobj=np.argmin(fpop)\n",
    "pbest[:]=pop[minlocobj,:]\n",
    "fbest=fpop[minlocobj]\n",
    "print(fbest)"
   ]
  },
  {
   "cell_type": "code",
   "execution_count": 6,
   "id": "da0dd626-1d87-4ca3-a287-c98c9d1b2112",
   "metadata": {
    "tags": []
   },
   "outputs": [
    {
     "name": "stdout",
     "output_type": "stream",
     "text": [
      "1.63790 6.03258 -10.31171\n",
      "1.57904 6.31116 -10.62873\n",
      "1.57904 6.31116 -10.62873\n",
      "1.56168 6.29741 -10.63427\n",
      "1.56575 6.29121 -10.63604\n",
      "1.56690 6.28540 -10.63718\n",
      "1.56629 6.28527 -10.63719\n",
      "1.56733 6.27334 -10.63837\n",
      "1.56760 6.27068 -10.63842\n",
      "1.56747 6.26998 -10.63842\n",
      "1.56747 6.26998 -10.63842\n",
      "1.56746 6.27004 -10.63842\n",
      "1.56745 6.27022 -10.63842\n",
      "1.56747 6.27021 -10.63842\n",
      "1.60913 3.25347 -10.77382\n",
      "1.58914 3.15676 -10.84888\n",
      "1.58914 3.15676 -10.84888\n",
      "1.58914 3.15676 -10.84888\n",
      "1.56171 3.15929 -10.85004\n",
      "1.57523 3.12349 -10.85091\n",
      "1.56407 3.13502 -10.85220\n",
      "1.56278 3.13929 -10.85222\n",
      "1.56278 3.13929 -10.85222\n",
      "1.57283 3.14022 -10.85244\n",
      "1.57283 3.14022 -10.85244\n",
      "1.57108 3.13930 -10.85248\n",
      "1.57020 3.13948 -10.85249\n",
      "1.57012 3.13957 -10.85249\n",
      "1.56972 3.13961 -10.85249\n",
      "1.56972 3.13961 -10.85249\n",
      "1.56976 3.13960 -10.85249\n",
      "1.56980 3.13960 -10.85249\n",
      "1.56981 3.13961 -10.85249\n",
      "1.56982 3.13966 -10.85249\n",
      "1.56983 3.13966 -10.85249\n",
      "1.56983 3.13966 -10.85249\n",
      "1.56983 3.13966 -10.85249\n",
      "1.56983 3.13966 -10.85249\n",
      "1.56983 3.13966 -10.85249\n",
      "1.56983 3.13966 -10.85249\n",
      "1.56983 3.13966 -10.85249\n",
      "1.56983 3.13966 -10.85249\n",
      "1.56983 3.13966 -10.85249\n",
      "1.56983 3.13966 -10.85249\n",
      "1.56983 3.13966 -10.85249\n",
      "1.52848 -0.02752 -10.85854\n",
      "1.53647 0.03253 -10.86022\n",
      "1.57899 0.02129 -10.86945\n",
      "1.58248 0.01849 -10.86967\n",
      "1.58248 0.01849 -10.86967\n",
      "1.56768 0.00983 -10.87173\n",
      "1.57521 0.00539 -10.87203\n",
      "1.57328 0.00289 -10.87222\n",
      "1.57347 0.00234 -10.87223\n",
      "1.57263 -0.00143 -10.87227\n",
      "1.57254 -0.00104 -10.87227\n",
      "1.57048 -0.00107 -10.87229\n",
      "1.57150 0.00039 -10.87229\n",
      "1.57124 0.00028 -10.87230\n",
      "1.57124 0.00002 -10.87230\n",
      "1.57058 0.00002 -10.87230\n",
      "1.57059 0.00002 -10.87230\n",
      "1.57059 0.00002 -10.87230\n",
      "1.57059 0.00002 -10.87230\n",
      "1.57060 -0.00001 -10.87230\n",
      "1.57060 0.00001 -10.87230\n",
      "1.57060 0.00001 -10.87230\n",
      "1.57060 0.00000 -10.87230\n",
      "1.57060 0.00000 -10.87230\n",
      "1.57060 0.00000 -10.87230\n",
      "1.57060 0.00000 -10.87230\n",
      "1.57060 -0.00000 -10.87230\n",
      "1.57060 0.00000 -10.87230\n",
      "1.57060 -0.00000 -10.87230\n",
      "1.57060 0.00000 -10.87230\n",
      "1.57060 -0.00000 -10.87230\n",
      "1.57060 -0.00000 -10.87230\n",
      "1.57060 -0.00000 -10.87230\n",
      "1.57060 -0.00000 -10.87230\n",
      "1.57060 -0.00000 -10.87230\n",
      "1.57060 -0.00000 -10.87230\n",
      "1.57060 -0.00000 -10.87230\n",
      "1.57060 -0.00000 -10.87230\n",
      "1.57060 -0.00000 -10.87230\n",
      "1.57060 -0.00000 -10.87230\n",
      "1.57060 -0.00000 -10.87230\n",
      "1.57060 -0.00000 -10.87230\n",
      "1.57060 -0.00000 -10.87230\n",
      "1.57060 -0.00000 -10.87230\n",
      "1.57060 -0.00000 -10.87230\n",
      "1.57060 -0.00000 -10.87230\n",
      "1.57060 -0.00000 -10.87230\n",
      "1.57060 -0.00000 -10.87230\n",
      "1.57060 -0.00000 -10.87230\n",
      "1.57060 -0.00000 -10.87230\n",
      "1.57060 -0.00000 -10.87230\n",
      "1.57060 -0.00000 -10.87230\n",
      "1.57060 -0.00000 -10.87230\n",
      "1.57060 -0.00000 -10.87230\n",
      "1.57060 -0.00000 -10.87230\n",
      "1.57060 -0.00000 -10.87230\n",
      "1.57060 -0.00000 -10.87230\n",
      "1.57060 -0.00000 -10.87230\n",
      "1.57060 -0.00000 -10.87230\n",
      "1.57060 -0.00000 -10.87230\n",
      "1.57060 -0.00000 -10.87230\n",
      "1.57060 -0.00000 -10.87230\n",
      "1.57060 -0.00000 -10.87230\n",
      "1.57060 -0.00000 -10.87230\n",
      "1.57060 -0.00000 -10.87230\n",
      "1.57060 -0.00000 -10.87230\n",
      "1.57060 -0.00000 -10.87230\n",
      "1.57060 -0.00000 -10.87230\n",
      "1.57060 -0.00000 -10.87230\n",
      "1.57060 -0.00000 -10.87230\n",
      "1.57060 -0.00000 -10.87230\n",
      "1.57060 -0.00000 -10.87230\n",
      "1.57060 -0.00000 -10.87230\n",
      "1.57060 -0.00000 -10.87230\n",
      "1.57060 -0.00000 -10.87230\n",
      "1.57060 -0.00000 -10.87230\n",
      "1.57060 -0.00000 -10.87230\n",
      "1.57060 -0.00000 -10.87230\n",
      "1.57060 -0.00000 -10.87230\n",
      "1.57060 -0.00000 -10.87230\n",
      "1.57060 -0.00000 -10.87230\n",
      "1.57060 -0.00000 -10.87230\n",
      "1.57060 -0.00000 -10.87230\n",
      "1.57060 -0.00000 -10.87230\n",
      "1.57060 -0.00000 -10.87230\n",
      "1.57060 -0.00000 -10.87230\n",
      "1.57060 -0.00000 -10.87230\n",
      "1.57060 -0.00000 -10.87230\n",
      "1.57060 -0.00000 -10.87230\n",
      "1.57060 -0.00000 -10.87230\n",
      "1.57060 -0.00000 -10.87230\n",
      "1.57060 -0.00000 -10.87230\n",
      "1.57060 -0.00000 -10.87230\n",
      "1.57060 -0.00000 -10.87230\n",
      "1.57060 -0.00000 -10.87230\n",
      "1.57060 -0.00000 -10.87230\n",
      "1.57060 -0.00000 -10.87230\n",
      "1.57060 -0.00000 -10.87230\n",
      "1.57060 -0.00000 -10.87230\n",
      "1.57060 -0.00000 -10.87230\n",
      "1.57060 -0.00000 -10.87230\n",
      "1.57060 -0.00000 -10.87230\n",
      "1.57060 -0.00000 -10.87230\n",
      "1.57060 -0.00000 -10.87230\n",
      "1.57060 -0.00000 -10.87230\n"
     ]
    }
   ],
   "source": [
    "x=pop.copy()\n",
    "layout = \"{0:.5f}\"\n",
    "k=0\n",
    "while k < kmax:\n",
    "    k += 1\n",
    "    for i in range(0, Qtind):\n",
    "        for j in range(0, Qvar):\n",
    "            r1[j] = random.random()\n",
    "            r2[j] = random.random()\n",
    "            x[i,j] = x[i,j] + 2.*r1[j]*(pop[i,j]-x[i,j]) + 2.*r2[j]*(pbest[j]-x[i,j])\n",
    "            x[i,j] = max(min(x[i,j],xmax[j]),xmin[j])\n",
    "\n",
    "        fsol[i],countFunc = f(x[i,:],nFunc,Qvar,countFunc)\n",
    "        \n",
    "    for i in range(0, Qtind):\n",
    "        if fsol[i] < fpop[i] :\n",
    "            fpop[i]=fsol[i]\n",
    "            pop[i,:]=x[i,:]\n",
    "    \n",
    "    minlocobj=np.argmin(fpop)\n",
    "    pbest[:]=pop[minlocobj,:]\n",
    "    fbest=fpop[minlocobj]\n",
    "    print(layout.format(pbest[0])+\" \"+layout.format(pbest[1])+\" \"+layout.format(fbest))\n",
    "    fHist.append(fbest)\n",
    "    "
   ]
  },
  {
   "cell_type": "code",
   "execution_count": 7,
   "id": "48de95e0-6c59-4d54-9f5a-9fd1c251e52e",
   "metadata": {},
   "outputs": [
    {
     "data": {
      "image/png": "[encoded data removed]",
      "text/plain": [
       "<Figure size 576x576 with 1 Axes>"
      ]
     },
     "metadata": {
      "needs_background": "light"
     },
     "output_type": "display_data"
    }
   ],
   "source": [
    "font = {\n",
    "        'size': 16,\n",
    "        }\n",
    "\n",
    "plt.figure(figsize=(8,8))\n",
    "plt.plot(np.arange(0,k),fHist)\n",
    "plt.grid()\n",
    "plt.title(f'Convergência {name}', fontdict=font)\n",
    "plt.ylabel(r'Valor da função f($\\vec{x}$)', fontdict=font)\n",
    "plt.xlabel(\"Número de iterações (k)\", fontdict=font)\n",
    "plt.show()"
   ]
  },
  {
   "cell_type": "code",
   "execution_count": 8,
   "id": "d31eea45-507e-4752-a87b-eef1db58c23f",
   "metadata": {},
   "outputs": [
    {
     "name": "stdout",
     "output_type": "stream",
     "text": [
      "Quantidade de chamadas da função obj =  7550\n",
      "Tempo de Execução = 162.2397816181183 s\n"
     ]
    }
   ],
   "source": [
    "print(\"Quantidade de chamadas da função obj = \", countFunc)\n",
    "End = time.time()\n",
    "print(\"Tempo de Execução =\", End-Start, \"s\")\t"
   ]
  },
  {
   "cell_type": "code",
   "execution_count": null,
   "id": "764a4442",
   "metadata": {},
   "outputs": [],
   "source": []
  }
 ],
 "metadata": {
  "kernelspec": {
   "display_name": "Python 3.9.12 ('base')",
   "language": "python",
   "name": "python3"
  },
  "language_info": {
   "codemirror_mode": {
    "name": "ipython",
    "version": 3
   },
   "file_extension": ".py",
   "mimetype": "text/x-python",
   "name": "python",
   "nbconvert_exporter": "python",
   "pygments_lexer": "ipython3",
   "version": "3.9.12"
  },
  "vscode": {
   "interpreter": {
    "hash": "f3f3c8e2c70d172923cdd26a18ca64af4bb2e4459cce796237545f1b235e951c"
   }
  }
 },
 "nbformat": 4,
 "nbformat_minor": 5
}
