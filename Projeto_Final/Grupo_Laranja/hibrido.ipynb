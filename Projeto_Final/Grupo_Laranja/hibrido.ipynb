{
 "cells": [
  {
   "cell_type": "markdown",
   "id": "1f3b0d7d-9e18-4eb8-ba9d-33d71ba9d25d",
   "metadata": {},
   "source": [
    "## Métodos de Otimização: Método Híbrido"
   ]
  },
  {
   "cell_type": "markdown",
   "id": "6178346d-104a-43b0-bf18-21b8be47f418",
   "metadata": {},
   "source": [
    "### Enxame de Partículas + Steepest_Descent"
   ]
  },
  {
   "cell_type": "code",
   "execution_count": 1,
   "id": "dd9a6c9e-7e98-4a64-9d2e-cea98d2e4dc0",
   "metadata": {
    "execution": {
     "iopub.execute_input": "2022-10-07T20:55:17.248816Z",
     "iopub.status.busy": "2022-10-07T20:55:17.248816Z",
     "iopub.status.idle": "2022-10-07T20:55:17.998153Z",
     "shell.execute_reply": "2022-10-07T20:55:17.997155Z",
     "shell.execute_reply.started": "2022-10-07T20:55:17.248816Z"
    },
    "tags": []
   },
   "outputs": [],
   "source": [
    "import numpy as np\n",
    "import matplotlib.pyplot as plt\n",
    "import sys, os\n",
    "import random\n",
    "import time\n",
    "name = 'Método Híbrido' \n",
    "Start = time.time()"
   ]
  },
  {
   "cell_type": "code",
   "execution_count": 2,
   "id": "fca128cf-10a6-4370-b6e7-6e246bc9a66d",
   "metadata": {
    "execution": {
     "iopub.execute_input": "2022-10-07T20:55:17.999151Z",
     "iopub.status.busy": "2022-10-07T20:55:17.999151Z",
     "iopub.status.idle": "2022-10-07T20:55:18.044057Z",
     "shell.execute_reply": "2022-10-07T20:55:18.044057Z",
     "shell.execute_reply.started": "2022-10-07T20:55:17.999151Z"
    }
   },
   "outputs": [],
   "source": [
    "def f(x,nFunc,nVar,countFunc):\n",
    "    f = open(\"var.dat\", \"w\")\n",
    "    f.write(str(nFunc)+\"\\n\")\n",
    "    f.write(str(nVar)+\"\\n\")\n",
    "    for i in range(0, len(x)):\n",
    "        f.write(str(x[i])+'\\n')\n",
    "    f.close()\n",
    "    \n",
    "    result = os.system(\"funcao.exe\")\n",
    "    \n",
    "    f = open(\"obj.dat\", \"r\")\n",
    "    u = float(f.read())\n",
    "    f.close()\n",
    "    countFunc += 1\n",
    "    return u,countFunc"
   ]
  },
  {
   "cell_type": "code",
   "execution_count": 3,
   "id": "3235039a-7797-4bc3-9294-e691b65e3d94",
   "metadata": {
    "execution": {
     "iopub.execute_input": "2022-10-07T20:55:18.046027Z",
     "iopub.status.busy": "2022-10-07T20:55:18.046027Z",
     "iopub.status.idle": "2022-10-07T20:55:18.060985Z",
     "shell.execute_reply": "2022-10-07T20:55:18.059987Z",
     "shell.execute_reply.started": "2022-10-07T20:55:18.046027Z"
    }
   },
   "outputs": [],
   "source": [
    "def grad(x,countFunc):\n",
    "    epsilon = 1.e-10\n",
    "    nFunc = 18; Qvar = 2\n",
    "    \n",
    "    for i in range(0,len(x)):\n",
    "        xtmp=x.copy()\n",
    "        xtmp[i]=xtmp[i]+epsilon\n",
    "        F_xtmp, countFunc = f(xtmp,nFunc,Qvar,countFunc)\n",
    "        F_x, countFunc = f(x,nFunc,Qvar,countFunc)\n",
    "        G[i]=(F_xtmp-F_x)/epsilon\n",
    "    \n",
    "    return G,countFunc"
   ]
  },
  {
   "cell_type": "code",
   "execution_count": 4,
   "id": "6554cc11-b58b-40e6-8e30-bf760897efea",
   "metadata": {
    "execution": {
     "iopub.execute_input": "2022-10-07T20:55:18.061983Z",
     "iopub.status.busy": "2022-10-07T20:55:18.060985Z",
     "iopub.status.idle": "2022-10-07T20:55:18.076944Z",
     "shell.execute_reply": "2022-10-07T20:55:18.075945Z",
     "shell.execute_reply.started": "2022-10-07T20:55:18.061983Z"
    },
    "tags": []
   },
   "outputs": [],
   "source": [
    "nFunc = 18\n",
    "Qvar = 2\n",
    "Qtind = 50\n",
    "kmax = 150\n",
    "countFunc = 0\n",
    "\n",
    "pop =np.zeros((Qtind,Qvar) , dtype = 'float')\n",
    "x =np.zeros((Qtind,Qvar) , dtype = 'float')\n",
    "fHist = []\n",
    "fpop =np.zeros(Qtind , dtype = 'float')\n",
    "fsol =np.zeros(Qtind , dtype = 'float')\n",
    "pbest =np.zeros(Qvar , dtype = 'float')\n",
    "xmin =np.zeros(Qvar , dtype = 'float')\n",
    "xmax =np.zeros(Qvar , dtype = 'float')\n",
    "r =np.zeros(Qvar , dtype = 'float')\n",
    "r1 =np.zeros(Qvar , dtype = 'float')\n",
    "r2 =np.zeros(Qvar , dtype = 'float')\n",
    "\n",
    "xmin[0] = -10; xmin[1] = -10\n",
    "xmax[0] = 10; xmax[1] = 10"
   ]
  },
  {
   "cell_type": "code",
   "execution_count": 5,
   "id": "61efd377-d6f5-419f-b152-c2aa004e7de9",
   "metadata": {
    "execution": {
     "iopub.execute_input": "2022-10-07T20:55:18.076944Z",
     "iopub.status.busy": "2022-10-07T20:55:18.076944Z",
     "iopub.status.idle": "2022-10-07T20:55:19.283914Z",
     "shell.execute_reply": "2022-10-07T20:55:19.283914Z",
     "shell.execute_reply.started": "2022-10-07T20:55:18.076944Z"
    },
    "tags": []
   },
   "outputs": [
    {
     "data": {
      "image/png": "[encoded data removed]",
      "text/plain": [
       "<Figure size 432x288 with 1 Axes>"
      ]
     },
     "metadata": {
      "needs_background": "light"
     },
     "output_type": "display_data"
    }
   ],
   "source": [
    "#criando a populacao inicial e suas funcoes objetivo\n",
    "#o melhor individuo ja esta definido (pop == pi)\n",
    "\n",
    "for i in range(0, Qtind):\n",
    "    for j in range(0, Qvar):\n",
    "        r[j] = random.random()\n",
    "        pop[i,j] = xmin[j]+(1.-r[j])*(xmax[j]-xmin[j])\n",
    "    fpop[i],countFunc = f(pop[i,:],nFunc,Qvar,countFunc)\n",
    "\n",
    "plt.plot(pop[:,0], pop[:,1], 'bo')\n",
    "plt.show()"
   ]
  },
  {
   "cell_type": "code",
   "execution_count": 6,
   "id": "ab5c06cc-d36b-44a2-b4ae-52a0a5cd77d5",
   "metadata": {
    "execution": {
     "iopub.execute_input": "2022-10-07T20:55:19.284913Z",
     "iopub.status.busy": "2022-10-07T20:55:19.284913Z",
     "iopub.status.idle": "2022-10-07T20:55:19.300043Z",
     "shell.execute_reply": "2022-10-07T20:55:19.300043Z",
     "shell.execute_reply.started": "2022-10-07T20:55:19.284913Z"
    }
   },
   "outputs": [
    {
     "name": "stdout",
     "output_type": "stream",
     "text": [
      "-10.6533069545968\n"
     ]
    }
   ],
   "source": [
    "minlocobj=np.argmin(fpop)\n",
    "pbest[:]=pop[minlocobj,:]\n",
    "fbest=fpop[minlocobj]\n",
    "print(fbest)"
   ]
  },
  {
   "cell_type": "code",
   "execution_count": 7,
   "id": "b92ee5db-7c52-4a9f-8da2-36292090a1aa",
   "metadata": {
    "execution": {
     "iopub.execute_input": "2022-10-07T20:55:19.301042Z",
     "iopub.status.busy": "2022-10-07T20:55:19.301042Z",
     "iopub.status.idle": "2022-10-07T20:55:28.788560Z",
     "shell.execute_reply": "2022-10-07T20:55:28.788560Z",
     "shell.execute_reply.started": "2022-10-07T20:55:19.301042Z"
    },
    "scrolled": true,
    "tags": []
   },
   "outputs": [
    {
     "name": "stdout",
     "output_type": "stream",
     "text": [
      "-1.58138 0.14132 -10.76327\n",
      "-1.58138 0.14132 -10.76327\n",
      "-1.58254 0.03250 -10.86578\n",
      "-1.58359 0.01507 -10.87015\n",
      "-1.58747 0.00145 -10.87074\n",
      "-1.56752 0.00026 -10.87225\n",
      "-1.57224 0.00192 -10.87227\n",
      "-1.57257 0.00092 -10.87227\n",
      "-1.57037 0.00058 -10.87230\n"
     ]
    }
   ],
   "source": [
    "x=pop.copy()\n",
    "layout = \"{0:.5f}\"\n",
    "k=0; e = 1.e-3; count = 0; k_tot = 0\n",
    "while k < kmax:\n",
    "    k += 1\n",
    "    k_tot +=1\n",
    "    for i in range(0, Qtind):\n",
    "        for j in range(0, Qvar):\n",
    "            r1[j] = random.random()\n",
    "            r2[j] = random.random()\n",
    "            x[i,j] = x[i,j] + 2.*r1[j]*(pop[i,j]-x[i,j]) + 2.*r2[j]*(pbest[j]-x[i,j])\n",
    "            x[i,j] = max(min(x[i,j],xmax[j]),xmin[j])\n",
    "\n",
    "        fsol[i],countFunc = f(x[i,:],nFunc,Qvar,countFunc)\n",
    "        \n",
    "    for i in range(0, Qtind):\n",
    "        if fsol[i] < fpop[i] :\n",
    "            fpop[i]=fsol[i]\n",
    "            pop[i,:]=x[i,:]\n",
    "        \n",
    "    minlocobj=np.argmin(fpop)\n",
    "    pbest[:]=pop[minlocobj,:]\n",
    "    fbest=fpop[minlocobj]\n",
    "    print(layout.format(pbest[0])+\" \"+layout.format(pbest[1])+\" \"+layout.format(fbest))\n",
    "    fHist.append(fbest)\n",
    "    for i in range(0, Qtind):\n",
    "        if (np.abs(fbest-fpop[i]) <= e):\n",
    "            count +=1 \n",
    "    if count/Qtind >= 0.9:\n",
    "        break\n",
    "    "
   ]
  },
  {
   "cell_type": "code",
   "execution_count": 8,
   "id": "a0e555a2-64f9-4a54-9447-648eacedd2dc",
   "metadata": {
    "execution": {
     "iopub.execute_input": "2022-10-07T20:55:28.789558Z",
     "iopub.status.busy": "2022-10-07T20:55:28.789558Z",
     "iopub.status.idle": "2022-10-07T20:55:28.804046Z",
     "shell.execute_reply": "2022-10-07T20:55:28.804046Z",
     "shell.execute_reply.started": "2022-10-07T20:55:28.789558Z"
    },
    "tags": []
   },
   "outputs": [
    {
     "name": "stdout",
     "output_type": "stream",
     "text": [
      "[-1.57036758e+00  5.79030971e-04]\n"
     ]
    }
   ],
   "source": [
    "print(pbest[:])"
   ]
  },
  {
   "cell_type": "code",
   "execution_count": 9,
   "id": "00cff44d-2722-48f4-9800-44d3c684e6a3",
   "metadata": {
    "execution": {
     "iopub.execute_input": "2022-10-07T20:55:28.805018Z",
     "iopub.status.busy": "2022-10-07T20:55:28.805018Z",
     "iopub.status.idle": "2022-10-07T20:55:29.707203Z",
     "shell.execute_reply": "2022-10-07T20:55:29.706125Z",
     "shell.execute_reply.started": "2022-10-07T20:55:28.805018Z"
    },
    "tags": []
   },
   "outputs": [
    {
     "name": "stdout",
     "output_type": "stream",
     "text": [
      "-1.57037 0.00058 -10.87230\n",
      "-1.57067 -0.00002 -10.87230\n",
      "-1.57057 -0.00002 -10.87230\n",
      "-1.57057 0.00008 -10.87230\n",
      "-1.57057 -0.00002 -10.87230\n",
      "-1.57057 0.00008 -10.87230\n",
      "-1.57057 -0.00002 -10.87230\n",
      "-1.57057 0.00008 -10.87230\n",
      "-1.57057 -0.00002 -10.87230\n",
      "-1.57057 0.00008 -10.87230\n",
      "-1.57057 -0.00002 -10.87230\n"
     ]
    }
   ],
   "source": [
    "nFunc = 18; Qvar = 2\n",
    "alfa=0.1; kmax=10; k=0; countFunc=0\n",
    "\n",
    "xold =np.zeros(Qvar , dtype = 'float')\n",
    "xnew =np.zeros(Qvar , dtype = 'float')\n",
    "G =np.zeros(Qvar , dtype = 'float')\n",
    "\n",
    "#chute incial:\n",
    "for i in range(0, Qvar):\n",
    "    xold[i] = pbest[i]\n",
    "    \n",
    "F0,countFunc = f(xold,nFunc,Qvar,countFunc)\n",
    "layout = \"{0:.5f}\"\n",
    "print(layout.format(xold[0])+\" \"+layout.format(xold[1])+\" \"+layout.format(F0))\n",
    "fHist.append(F0)\n",
    "\n",
    "while k < kmax:\n",
    "    k += 1\n",
    "    k_tot +=1\n",
    "    # Calculo Gradiente\n",
    "    G,countFunc = grad(xold,countFunc)\n",
    "    \n",
    "    # Processo iterativo\n",
    "    xnew=xold-alfa*G\n",
    "    \n",
    "    #Atualiza xold\n",
    "    xold = xnew.copy()\n",
    "    \n",
    "    #Calculo da função\n",
    "    F,countFunc = f(xnew,nFunc,Qvar,countFunc)\n",
    "    print(layout.format(xnew[0])+\" \"+layout.format(xnew[1])+\" \"+layout.format(F))\n",
    "    fHist.append(F)"
   ]
  },
  {
   "cell_type": "code",
   "execution_count": 10,
   "id": "d6f93cd8-3ff9-485c-9fb6-9ac87a4f0058",
   "metadata": {
    "execution": {
     "iopub.execute_input": "2022-10-07T20:55:29.707203Z",
     "iopub.status.busy": "2022-10-07T20:55:29.707203Z",
     "iopub.status.idle": "2022-10-07T20:55:29.955466Z",
     "shell.execute_reply": "2022-10-07T20:55:29.955466Z",
     "shell.execute_reply.started": "2022-10-07T20:55:29.707203Z"
    },
    "tags": []
   },
   "outputs": [
    {
     "data": {
      "image/png": "[encoded data removed]",
      "text/plain": [
       "<Figure size 576x576 with 1 Axes>"
      ]
     },
     "metadata": {
      "needs_background": "light"
     },
     "output_type": "display_data"
    }
   ],
   "source": [
    "font = {\n",
    "        'size': 16,\n",
    "        }\n",
    "\n",
    "plt.figure(figsize=(8,8))\n",
    "plt.plot(np.arange(0,k_tot+1),fHist)\n",
    "plt.grid()\n",
    "plt.title(f'Convergência {name}', fontdict=font)\n",
    "plt.ylabel(r'Valor da função f($\\vec{x}$)', fontdict=font)\n",
    "plt.xlabel(\"Número de iterações (k)\", fontdict=font)\n",
    "plt.show()"
   ]
  },
  {
   "cell_type": "code",
   "execution_count": 11,
   "id": "bf964896-9ce1-43cb-bba7-bc0ef5cb34ea",
   "metadata": {
    "execution": {
     "iopub.execute_input": "2022-10-07T20:55:29.956466Z",
     "iopub.status.busy": "2022-10-07T20:55:29.956466Z",
     "iopub.status.idle": "2022-10-07T20:55:29.971207Z",
     "shell.execute_reply": "2022-10-07T20:55:29.971207Z",
     "shell.execute_reply.started": "2022-10-07T20:55:29.956466Z"
    },
    "tags": []
   },
   "outputs": [
    {
     "name": "stdout",
     "output_type": "stream",
     "text": [
      "Quantidade de chamadas da função obj =  51\n",
      "Tempo de Execução = 11.971479177474976 s\n"
     ]
    }
   ],
   "source": [
    "print(\"Quantidade de chamadas da função obj = \", countFunc)\n",
    "End = time.time()\n",
    "print(\"Tempo de Execução =\", End-Start, \"s\")\t"
   ]
  },
  {
   "cell_type": "code",
   "execution_count": null,
   "id": "2bfc1657-a994-4c3a-91eb-189e3ef64599",
   "metadata": {},
   "outputs": [],
   "source": []
  }
 ],
 "metadata": {
  "kernelspec": {
   "display_name": "Python 3 (ipykernel)",
   "language": "python",
   "name": "python3"
  },
  "language_info": {
   "codemirror_mode": {
    "name": "ipython",
    "version": 3
   },
   "file_extension": ".py",
   "mimetype": "text/x-python",
   "name": "python",
   "nbconvert_exporter": "python",
   "pygments_lexer": "ipython3",
   "version": "3.9.12"
  }
 },
 "nbformat": 4,
 "nbformat_minor": 5
}
