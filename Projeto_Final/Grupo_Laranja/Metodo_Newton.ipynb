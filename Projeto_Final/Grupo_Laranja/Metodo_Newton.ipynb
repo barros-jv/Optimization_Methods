{
 "cells": [
  {
   "cell_type": "markdown",
   "id": "b5f4cc08-9244-4929-bd77-9c23a44bf6eb",
   "metadata": {},
   "source": [
    "## Métodos de Otimização: Métodos de procura multidimensional"
   ]
  },
  {
   "cell_type": "markdown",
   "id": "82b2103d-9a77-4001-8365-c7750ccebaaf",
   "metadata": {},
   "source": [
    "### Método de Newton - Diferenças finitas"
   ]
  },
  {
   "cell_type": "markdown",
   "id": "2e97ff33-8945-48a4-8f8d-c8a1b3ef67a3",
   "metadata": {},
   "source": [
    "__Imports:__"
   ]
  },
  {
   "cell_type": "code",
   "execution_count": 6,
   "id": "ab0dc354-eeae-4913-b947-601e75d650ea",
   "metadata": {
    "execution": {
     "iopub.execute_input": "2022-08-06T13:08:09.428060Z",
     "iopub.status.busy": "2022-08-06T13:08:09.428060Z",
     "iopub.status.idle": "2022-08-06T13:08:10.087827Z",
     "shell.execute_reply": "2022-08-06T13:08:10.087827Z",
     "shell.execute_reply.started": "2022-08-06T13:08:09.428060Z"
    }
   },
   "outputs": [],
   "source": [
    "from mpl_toolkits import mplot3d\n",
    "%matplotlib inline\n",
    "\n",
    "import numpy as np\n",
    "import matplotlib.pyplot as plt"
   ]
  },
  {
   "cell_type": "markdown",
   "id": "afca440e-f418-4366-a7d7-2357c31b79c4",
   "metadata": {},
   "source": [
    "__Função Avaliada:__"
   ]
  },
  {
   "cell_type": "code",
   "execution_count": 7,
   "id": "483f89ea-cff5-43b2-9778-ac41b03408b6",
   "metadata": {},
   "outputs": [],
   "source": [
    "def f(x,nFunc,nVar):\n",
    "    f = open(\"var.dat\", \"w\")\n",
    "    f.write(str(nFunc)+\"\\n\")\n",
    "    f.write(str(nVar)+\"\\n\")\n",
    "    for i in range(0, len(x)):\n",
    "        f.write(str(x[i])+'\\n')\n",
    "    f.close()\n",
    "    \n",
    "    result = os.system(\"funcao.exe\")\n",
    "    \n",
    "    f = open(\"obj.dat\", \"r\")\n",
    "    u = float(f.read())\n",
    "    f.close()\n",
    "    return u"
   ]
  },
  {
   "cell_type": "markdown",
   "id": "ac7ee7ba-f433-47e7-a683-e06678a84d3b",
   "metadata": {},
   "source": [
    "__Método:__"
   ]
  },
  {
   "cell_type": "code",
   "execution_count": 8,
   "id": "eefddf56-da51-4bde-bc9a-2d5939a1b7d7",
   "metadata": {
    "execution": {
     "iopub.execute_input": "2022-08-06T13:04:31.321147Z",
     "iopub.status.busy": "2022-08-06T13:04:31.321147Z",
     "iopub.status.idle": "2022-08-06T13:04:31.336107Z",
     "shell.execute_reply": "2022-08-06T13:04:31.336107Z",
     "shell.execute_reply.started": "2022-08-06T13:04:31.321147Z"
    }
   },
   "outputs": [],
   "source": [
    "def grad(x):\n",
    "    epsilon = 1.e-10\n",
    "    nFunc = 18; Qvar = 2\n",
    "    \n",
    "    for i in range(0,len(x)):\n",
    "        xtmp=x.copy()\n",
    "        xtmp[i]=xtmp[i]+epsilon\n",
    "        G[i]=(f(xtmp,nFunc,Qvar)-f(x,nFunc,Qvar))/epsilon\n",
    "    \n",
    "    return G"
   ]
  },
  {
   "cell_type": "code",
   "execution_count": 9,
   "id": "96312478",
   "metadata": {},
   "outputs": [],
   "source": [
    "def hessian(x,delta=1e-3):\n",
    "  nFunc = 18; Qvar = 2\n",
    "  n = len(x)\n",
    "  output = np.zeros((n,n), dtype='float')\n",
    "  for i in range(n):\n",
    "    for j in range(n):\n",
    "      ei = np.zeros(n)\n",
    "      ei[i] = 1\n",
    "      ej = np.zeros(n)\n",
    "      ej[j] = 1\n",
    "      f1 = f(x + delta * ei + delta * ej,nFunc,Qvar)\n",
    "      f2 = f(x + delta * ei - delta * ej,nFunc,Qvar)\n",
    "      f3 = f(x - delta * ei + delta * ej,nFunc,Qvar)\n",
    "      f4 = f(x - delta * ei - delta * ej,nFunc,Qvar)\n",
    "      numdiff = (f1-f2-f3+f4)/(4*delta*delta)\n",
    "      output[i,j] = numdiff\n",
    "  return output"
   ]
  },
  {
   "cell_type": "code",
   "execution_count": 10,
   "id": "4ae22baf-e317-4401-9cac-526aa4cd805e",
   "metadata": {
    "execution": {
     "iopub.execute_input": "2022-08-06T13:08:10.502787Z",
     "iopub.status.busy": "2022-08-06T13:08:10.502787Z",
     "iopub.status.idle": "2022-08-06T13:08:10.517747Z",
     "shell.execute_reply": "2022-08-06T13:08:10.517747Z",
     "shell.execute_reply.started": "2022-08-06T13:08:10.502787Z"
    }
   },
   "outputs": [
    {
     "name": "stdout",
     "output_type": "stream",
     "text": [
      "-1.57132 -3.14125 -10.85247\n",
      "-1.56985 -3.13969 -10.85249\n",
      "-1.56985 -3.13969 -10.85249\n",
      "-1.56985 -3.13969 -10.85249\n",
      "-1.56985 -3.13969 -10.85249\n",
      "-1.56985 -3.13969 -10.85249\n",
      "-1.56985 -3.13969 -10.85249\n",
      "-1.56985 -3.13969 -10.85249\n",
      "-1.56985 -3.13969 -10.85249\n",
      "-1.56985 -3.13969 -10.85249\n"
     ]
    }
   ],
   "source": [
    "nFunc = 18; Qvar = 2\n",
    "\n",
    "Hinv=np.zeros((2,2), dtype='float')\n",
    "G=np.zeros(2, dtype='float')\n",
    "D2=np.zeros(2, dtype='float')\n",
    "D2_partial=np.zeros(2, dtype='float')\n",
    "xnew=np.zeros(2, dtype='float')\n",
    "xold=np.zeros(2, dtype='float')\n",
    "kmax=10; k=0\n",
    "xold[0]=-1.5; xold[1]=-3; F0 = f(xold,nFunc,Qvar)\n",
    "layout = \"{0:.5f}\"\n",
    "\n",
    "while k < kmax:\n",
    "    k += 1\n",
    "    # Calculo Gradiente\n",
    "    G = grad(xold)\n",
    "\n",
    "    # calcula a inversa do Hessiano\n",
    "    H = hessian(xold)\n",
    "    \n",
    "    # Processo iterativo\n",
    "    if np.linalg.det(H) == 0:\n",
    "        print('Flag: Matriz Singular')\n",
    "        xnew=xold-G\n",
    "    else:\n",
    "        Hinv = np.linalg.inv(H)\n",
    "        xnew=xold-np.matmul(Hinv,G)\n",
    "    \n",
    "    #Atualiza xold\n",
    "    xold = xnew.copy()\n",
    "    \n",
    "    #Calculo da função\n",
    "    F = f(xnew,nFunc,Qvar)\n",
    "    print(layout.format(xnew[0])+\" \"+layout.format(xnew[1])+\" \"+layout.format(F))"
   ]
  },
  {
   "cell_type": "code",
   "execution_count": null,
   "id": "ccde9cd5",
   "metadata": {},
   "outputs": [],
   "source": []
  }
 ],
 "metadata": {
  "kernelspec": {
   "display_name": "Python 3.9.12 ('base')",
   "language": "python",
   "name": "python3"
  },
  "language_info": {
   "codemirror_mode": {
    "name": "ipython",
    "version": 3
   },
   "file_extension": ".py",
   "mimetype": "text/x-python",
   "name": "python",
   "nbconvert_exporter": "python",
   "pygments_lexer": "ipython3",
   "version": "3.9.12"
  },
  "vscode": {
   "interpreter": {
    "hash": "f3f3c8e2c70d172923cdd26a18ca64af4bb2e4459cce796237545f1b235e951c"
   }
  }
 },
 "nbformat": 4,
 "nbformat_minor": 5
}
