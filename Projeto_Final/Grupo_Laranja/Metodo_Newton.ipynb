{
 "cells": [
  {
   "cell_type": "markdown",
   "id": "b5f4cc08-9244-4929-bd77-9c23a44bf6eb",
   "metadata": {},
   "source": [
    "## Métodos de Otimização: Métodos de procura multidimensional"
   ]
  },
  {
   "cell_type": "markdown",
   "id": "82b2103d-9a77-4001-8365-c7750ccebaaf",
   "metadata": {},
   "source": [
    "### Método de Newton - Diferenças finitas"
   ]
  },
  {
   "cell_type": "markdown",
   "id": "2e97ff33-8945-48a4-8f8d-c8a1b3ef67a3",
   "metadata": {},
   "source": [
    "__Imports:__"
   ]
  },
  {
   "cell_type": "code",
   "execution_count": 1,
   "id": "ab0dc354-eeae-4913-b947-601e75d650ea",
   "metadata": {
    "execution": {
     "iopub.execute_input": "2022-10-05T00:21:57.438298Z",
     "iopub.status.busy": "2022-10-05T00:21:57.437301Z",
     "iopub.status.idle": "2022-10-05T00:21:58.127490Z",
     "shell.execute_reply": "2022-10-05T00:21:58.127490Z",
     "shell.execute_reply.started": "2022-10-05T00:21:57.438298Z"
    }
   },
   "outputs": [],
   "source": [
    "import numpy as np\n",
    "import matplotlib.pyplot as plt\n",
    "import sys, os\n",
    "import time\n",
    "name = 'Newton' \n",
    "Start = time.time()"
   ]
  },
  {
   "cell_type": "markdown",
   "id": "afca440e-f418-4366-a7d7-2357c31b79c4",
   "metadata": {},
   "source": [
    "__Função Avaliada:__"
   ]
  },
  {
   "cell_type": "code",
   "execution_count": 2,
   "id": "483f89ea-cff5-43b2-9778-ac41b03408b6",
   "metadata": {
    "execution": {
     "iopub.execute_input": "2022-10-05T00:21:58.127490Z",
     "iopub.status.busy": "2022-10-05T00:21:58.127490Z",
     "iopub.status.idle": "2022-10-05T00:21:58.158679Z",
     "shell.execute_reply": "2022-10-05T00:21:58.158679Z",
     "shell.execute_reply.started": "2022-10-05T00:21:58.127490Z"
    }
   },
   "outputs": [],
   "source": [
    "x=np.zeros(2 , dtype = 'float')\n",
    "G =np.zeros(2 , dtype = 'float')\n",
    "\n",
    "def f(x,nFunc,nVar,countFunc):\n",
    "    f = open(\"var.dat\", \"w\")\n",
    "    f.write(str(nFunc)+\"\\n\")\n",
    "    f.write(str(nVar)+\"\\n\")\n",
    "    for i in range(0, len(x)):\n",
    "        f.write(str(x[i])+'\\n')\n",
    "    f.close()\n",
    "    \n",
    "    result = os.system(\"funcao.exe\")\n",
    "    \n",
    "    f = open(\"obj.dat\", \"r\")\n",
    "    u = float(f.read())\n",
    "    f.close()\n",
    "    countFunc += 1\n",
    "    return u,countFunc"
   ]
  },
  {
   "cell_type": "markdown",
   "id": "ac7ee7ba-f433-47e7-a683-e06678a84d3b",
   "metadata": {},
   "source": [
    "__Método:__"
   ]
  },
  {
   "cell_type": "code",
   "execution_count": 3,
   "id": "eefddf56-da51-4bde-bc9a-2d5939a1b7d7",
   "metadata": {
    "execution": {
     "iopub.execute_input": "2022-10-05T00:21:58.160675Z",
     "iopub.status.busy": "2022-10-05T00:21:58.159677Z",
     "iopub.status.idle": "2022-10-05T00:21:58.189449Z",
     "shell.execute_reply": "2022-10-05T00:21:58.189449Z",
     "shell.execute_reply.started": "2022-10-05T00:21:58.160675Z"
    }
   },
   "outputs": [],
   "source": [
    "def grad(x,countFunc):\n",
    "    epsilon = 1.e-10\n",
    "    nFunc = 18; Qvar = 2\n",
    "    \n",
    "    for i in range(0,len(x)):\n",
    "        xtmp=x.copy()\n",
    "        xtmp[i]=xtmp[i]+epsilon\n",
    "        F_xtmp, countFunc = f(xtmp,nFunc,Qvar,countFunc)\n",
    "        F_x, countFunc = f(x,nFunc,Qvar,countFunc)\n",
    "        G[i]=(F_xtmp-F_x)/epsilon\n",
    "    \n",
    "    return G,countFunc"
   ]
  },
  {
   "cell_type": "code",
   "execution_count": 4,
   "id": "96312478",
   "metadata": {
    "execution": {
     "iopub.execute_input": "2022-10-05T00:21:58.190466Z",
     "iopub.status.busy": "2022-10-05T00:21:58.190466Z",
     "iopub.status.idle": "2022-10-05T00:21:58.205360Z",
     "shell.execute_reply": "2022-10-05T00:21:58.205360Z",
     "shell.execute_reply.started": "2022-10-05T00:21:58.190466Z"
    }
   },
   "outputs": [],
   "source": [
    "def hessian(x,countFunc,delta=1e-3):\n",
    "    nFunc = 18; Qvar = 2\n",
    "    n = len(x)\n",
    "    output = np.zeros((n,n), dtype='float')\n",
    "    for i in range(n):\n",
    "        for j in range(n):\n",
    "            ei = np.zeros(n)\n",
    "            ei[i] = 1\n",
    "            ej = np.zeros(n)\n",
    "            ej[j] = 1\n",
    "            f1,countFunc = f(x + delta * ei + delta * ej,nFunc,Qvar,countFunc)\n",
    "            f2,countFunc = f(x + delta * ei - delta * ej,nFunc,Qvar,countFunc)\n",
    "            f3,countFunc = f(x - delta * ei + delta * ej,nFunc,Qvar,countFunc)\n",
    "            f4,countFunc = f(x - delta * ei - delta * ej,nFunc,Qvar,countFunc)\n",
    "            numdiff = (f1-f2-f3+f4)/(4*delta*delta)\n",
    "            output[i,j] = numdiff\n",
    "    return output,countFunc"
   ]
  },
  {
   "cell_type": "code",
   "execution_count": 5,
   "id": "4ae22baf-e317-4401-9cac-526aa4cd805e",
   "metadata": {
    "execution": {
     "iopub.execute_input": "2022-10-05T00:21:58.206360Z",
     "iopub.status.busy": "2022-10-05T00:21:58.206360Z",
     "iopub.status.idle": "2022-10-05T00:22:01.783854Z",
     "shell.execute_reply": "2022-10-05T00:22:01.783854Z",
     "shell.execute_reply.started": "2022-10-05T00:21:58.206360Z"
    }
   },
   "outputs": [
    {
     "name": "stdout",
     "output_type": "stream",
     "text": [
      "1.64190 0.00000 -10.84467\n",
      "1.57056 0.00000 -10.87230\n",
      "1.57065 0.00000 -10.87230\n",
      "1.57056 0.00000 -10.87230\n",
      "1.57065 0.00000 -10.87230\n",
      "1.57056 0.00000 -10.87230\n",
      "1.57065 0.00000 -10.87230\n",
      "1.57056 0.00000 -10.87230\n",
      "1.57065 0.00000 -10.87230\n",
      "1.57056 0.00000 -10.87230\n"
     ]
    }
   ],
   "source": [
    "nFunc = 18; Qvar = 2; countFunc = 0\n",
    "\n",
    "G=np.zeros(Qvar, dtype='float')\n",
    "D2=np.zeros(Qvar, dtype='float')\n",
    "D2_partial=np.zeros(Qvar, dtype='float')\n",
    "xnew=np.zeros(Qvar, dtype='float')\n",
    "xold=np.zeros(Qvar, dtype='float')\n",
    "kmax=10; k=0\n",
    "\n",
    "xold[0]=1; xold[1]=0; F0,countFunc = f(xold,nFunc,Qvar,countFunc)\n",
    "layout = \"{0:.5f}\"\n",
    "fHist = []\n",
    "\n",
    "while k < kmax:\n",
    "    k += 1\n",
    "    # Calculo Gradiente\n",
    "    G,countFunc = grad(xold,countFunc)\n",
    "\n",
    "    # calcula a inversa do Hessiano\n",
    "    H,countFunc = hessian(xold,countFunc)\n",
    "    \n",
    "    # Processo iterativo\n",
    "    if np.linalg.det(H) == 0:\n",
    "        print('Flag: Matriz Singular')\n",
    "        xnew=xold-G\n",
    "    else:\n",
    "        Hinv = np.linalg.inv(H)\n",
    "        xnew=xold-np.matmul(Hinv,G)\n",
    "    \n",
    "    #Atualiza xold\n",
    "    xold = xnew.copy()\n",
    "    \n",
    "    #Calculo da função\n",
    "    F,countFunc = f(xnew,nFunc,Qvar,countFunc)\n",
    "    print(layout.format(xnew[0])+\" \"+layout.format(xnew[1])+\" \"+layout.format(F))\n",
    "    fHist.append(F)"
   ]
  },
  {
   "cell_type": "code",
   "execution_count": 6,
   "id": "ccde9cd5",
   "metadata": {
    "execution": {
     "iopub.execute_input": "2022-10-05T00:22:01.784906Z",
     "iopub.status.busy": "2022-10-05T00:22:01.784906Z",
     "iopub.status.idle": "2022-10-05T00:22:02.066178Z",
     "shell.execute_reply": "2022-10-05T00:22:02.065796Z",
     "shell.execute_reply.started": "2022-10-05T00:22:01.784906Z"
    }
   },
   "outputs": [
    {
     "data": {
      "image/png": "[encoded data removed]",
      "text/plain": [
       "<Figure size 576x576 with 1 Axes>"
      ]
     },
     "metadata": {
      "needs_background": "light"
     },
     "output_type": "display_data"
    }
   ],
   "source": [
    "font = {\n",
    "        'size': 16,\n",
    "        }\n",
    "\n",
    "plt.figure(figsize=(8,8))\n",
    "plt.plot(np.arange(0,k),fHist)\n",
    "plt.grid()\n",
    "plt.title(f'Convergência {name}', fontdict=font)\n",
    "plt.ylabel(r'Valor da função f($\\vec{x}$)', fontdict=font)\n",
    "plt.xlabel(\"Número de iterações (k)\", fontdict=font)\n",
    "plt.show()"
   ]
  },
  {
   "cell_type": "code",
   "execution_count": 7,
   "id": "0bfef72c-f32e-4d2f-be66-efee8a6310f7",
   "metadata": {
    "execution": {
     "iopub.execute_input": "2022-10-05T00:22:02.067177Z",
     "iopub.status.busy": "2022-10-05T00:22:02.067177Z",
     "iopub.status.idle": "2022-10-05T00:22:02.081154Z",
     "shell.execute_reply": "2022-10-05T00:22:02.081154Z",
     "shell.execute_reply.started": "2022-10-05T00:22:02.067177Z"
    },
    "tags": []
   },
   "outputs": [
    {
     "name": "stdout",
     "output_type": "stream",
     "text": [
      "Quantidade de chamadas da função obj =  211\n",
      "Tempo de Execução = 3.9563443660736084 s\n"
     ]
    }
   ],
   "source": [
    "print(\"Quantidade de chamadas da função obj = \", countFunc)\n",
    "End = time.time()\n",
    "print(\"Tempo de Execução =\", End-Start, \"s\")\t"
   ]
  }
 ],
 "metadata": {
  "kernelspec": {
   "display_name": "Python 3 (ipykernel)",
   "language": "python",
   "name": "python3"
  },
  "language_info": {
   "codemirror_mode": {
    "name": "ipython",
    "version": 3
   },
   "file_extension": ".py",
   "mimetype": "text/x-python",
   "name": "python",
   "nbconvert_exporter": "python",
   "pygments_lexer": "ipython3",
   "version": "3.9.12"
  },
  "vscode": {
   "interpreter": {
    "hash": "f3f3c8e2c70d172923cdd26a18ca64af4bb2e4459cce796237545f1b235e951c"
   }
  }
 },
 "nbformat": 4,
 "nbformat_minor": 5
}
